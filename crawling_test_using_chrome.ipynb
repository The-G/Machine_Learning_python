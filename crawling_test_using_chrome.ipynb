{
 "cells": [
  {
   "cell_type": "code",
   "execution_count": 41,
   "metadata": {
    "collapsed": false
   },
   "outputs": [
    {
     "name": "stdout",
     "output_type": "stream",
     "text": [
      "<script>\r\n",
      "\t$.ajax({\r\n",
      "\t\turl : \"/leftTicket.do\",\r\n",
      "\t\tdataType : \"jsonp\",\r\n",
      "\t\tmethod : \"post\",\r\n",
      "\t\tsuccess : function( data ) {\r\n",
      "\t\t\tvar left = data.tickets + \"\";\r\n",
      "\t\t\twhile( left.length < 4 )\r\n",
      "\t\t\t\tleft = \"0\" + left;\r\n",
      "\t\t\tleft = left.split(\"\");\r\n",
      "\t\t\tvar $ticket_area = $( \".ticket_area\" ).empty().text( \"총 남은 수량 \" );\r\n",
      "\t\t\tvar html = \"\";\r\n",
      "\t\t\tfor( var i in left )\r\n",
      "\t\t\t\t$ticket_area.append( $( \"<span>\").text( left[i] ) );\r\n",
      "\t\t\t$ticket_area.append( \" 개\" );\r\n",
      "\t\t}\r\n",
      "\t});\r\n",
      "</script>\n",
      "<span><img alt=\"한화와 함께하는 2017 서울세계불꽃축제\" src=\"/_resource/images/logo.png\"/></span>\n",
      "<span>홈</span>\n",
      "<span>축제안내</span>\n",
      "<span>이벤트</span>\n",
      "<span>공지사항</span>\n",
      "<span>0</span>\n",
      "<span>0</span>\n",
      "<span>0</span>\n",
      "<span>0</span>\n"
     ]
    }
   ],
   "source": [
    "from urllib.request import urlopen\n",
    "from bs4 import BeautifulSoup\n",
    "import json\n",
    "# import urllib2\n",
    "\n",
    "html = urlopen(\"https://www.hanwhafireworks.com/event-goldenticket.do\")\n",
    "# print(html)\n",
    "bsObj = BeautifulSoup(html, \"html.parser\")\n",
    "# print(bsObj)\n",
    "\n",
    "script = bsObj.findAll('script')[5]\n",
    "print(script)\n",
    "\n",
    "\n",
    "import re\n",
    "for link in bsObj.find(\"div\", {\"id\":\"header\"}).findAll(\"span\"):\n",
    "    print(link)\n"
   ]
  },
  {
   "cell_type": "code",
   "execution_count": 52,
   "metadata": {
    "collapsed": false,
    "scrolled": false
   },
   "outputs": [
    {
     "name": "stdout",
     "output_type": "stream",
     "text": [
      "[]\n",
      "<span><img alt=\"한화와 함께하는 2017 서울세계불꽃축제\" src=\"/_resource/images/logo.png\"/></span>\n",
      "<span>홈</span>\n",
      "<span>축제안내</span>\n",
      "<span>이벤트</span>\n",
      "<span>공지사항</span>\n",
      "<span>0</span>\n",
      "<span>2</span>\n",
      "<span>4</span>\n",
      "<span>0</span>\n"
     ]
    }
   ],
   "source": [
    "from selenium import webdriver\n",
    "browser = webdriver.Chrome()\n",
    "browser.get(\"https://www.hanwhafireworks.com/event-goldenticket.do\")\n",
    "soup = BeautifulSoup(browser.page_source, \"html.parser\")\n",
    "\n",
    "\n",
    "a = soup.find(\"div\", {\"id\":\"header\"}).findAll(\"div.ticket_area\")\n",
    "print(a)\n",
    "\n",
    "for link in soup.find(\"div\", {\"id\":\"header\"}).findAll(\"span\"):\n",
    "    print(link)"
   ]
  },
  {
   "cell_type": "code",
   "execution_count": 54,
   "metadata": {
    "collapsed": false
   },
   "outputs": [
    {
     "name": "stdout",
     "output_type": "stream",
     "text": [
      "[]\n",
      "<span><img alt=\"한화와 함께하는 2017 서울세계불꽃축제\" src=\"/_resource/images/logo.png\"/></span>\n",
      "<span>홈</span>\n",
      "<span>축제안내</span>\n",
      "<span>이벤트</span>\n",
      "<span>공지사항</span>\n",
      "<span>0</span>\n",
      "<span>2</span>\n",
      "<span>4</span>\n",
      "<span>0</span>\n"
     ]
    }
   ],
   "source": [
    "from selenium import webdriver\n",
    "browser = webdriver.PhantomJS()\n",
    "browser.get(\"https://www.hanwhafireworks.com/event-goldenticket.do\")\n",
    "soup = BeautifulSoup(browser.page_source, \"html.parser\")\n",
    "\n",
    "\n",
    "a = soup.find(\"div\", {\"id\":\"header\"}).findAll(\"div.ticket_area\")\n",
    "print(a)\n",
    "\n",
    "for link in soup.find(\"div\", {\"id\":\"header\"}).findAll(\"span\"):\n",
    "    print(link)"
   ]
  },
  {
   "cell_type": "code",
   "execution_count": 56,
   "metadata": {
    "collapsed": false
   },
   "outputs": [
    {
     "data": {
      "text/plain": [
       "'0'"
      ]
     },
     "execution_count": 56,
     "metadata": {},
     "output_type": "execute_result"
    }
   ],
   "source": [
    "link.text"
   ]
  },
  {
   "cell_type": "code",
   "execution_count": null,
   "metadata": {
    "collapsed": true
   },
   "outputs": [],
   "source": []
  }
 ],
 "metadata": {
  "kernelspec": {
   "display_name": "Python 3",
   "language": "python",
   "name": "python3"
  },
  "language_info": {
   "codemirror_mode": {
    "name": "ipython",
    "version": 3
   },
   "file_extension": ".py",
   "mimetype": "text/x-python",
   "name": "python",
   "nbconvert_exporter": "python",
   "pygments_lexer": "ipython3",
   "version": "3.6.0"
  }
 },
 "nbformat": 4,
 "nbformat_minor": 2
}
