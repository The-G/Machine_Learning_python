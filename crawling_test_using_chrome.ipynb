{
 "cells": [
  {
   "cell_type": "markdown",
   "metadata": {},
   "source": [
    "# practice crawling with chrome"
   ]
  },
  {
   "cell_type": "code",
   "execution_count": null,
   "metadata": {
    "collapsed": false
   },
   "outputs": [],
   "source": [
    "from urllib.request import urlopen\n",
    "from bs4 import BeautifulSoup\n",
    "import json\n",
    "# import urllib2\n",
    "\n",
    "html = urlopen(\"https://www.hanwhafireworks.com/event-goldenticket.do\")\n",
    "# print(html)\n",
    "bsObj = BeautifulSoup(html, \"html.parser\")\n",
    "# print(bsObj)\n",
    "\n",
    "script = bsObj.findAll('script')[5]\n",
    "print(script)\n",
    "\n",
    "\n",
    "import re\n",
    "for link in bsObj.find(\"div\", {\"id\":\"header\"}).findAll(\"span\"):\n",
    "    print(link)\n"
   ]
  },
  {
   "cell_type": "code",
   "execution_count": null,
   "metadata": {
    "collapsed": false,
    "scrolled": false
   },
   "outputs": [],
   "source": [
    "from selenium import webdriver\n",
    "browser = webdriver.Chrome()\n",
    "browser.get(\"https://www.hanwhafireworks.com/event-goldenticket.do\")\n",
    "soup = BeautifulSoup(browser.page_source, \"html.parser\")\n",
    "\n",
    "\n",
    "a = soup.find(\"div\", {\"id\":\"header\"}).findAll(\"div.ticket_area\")\n",
    "print(a)\n",
    "\n",
    "for link in soup.find(\"div\", {\"id\":\"header\"}).findAll(\"span\"):\n",
    "    print(link)"
   ]
  },
  {
   "cell_type": "code",
   "execution_count": null,
   "metadata": {
    "collapsed": true
   },
   "outputs": [],
   "source": [
    "from bs4 import BeautifulSoup\n",
    "from selenium import webdriver\n",
    "browser = webdriver.PhantomJS()\n",
    "browser.get(\"https://www.hanwhafireworks.com/event-goldenticket.do\")\n",
    "soup = BeautifulSoup(browser.page_source, \"html.parser\")\n",
    "\n",
    "result = ''\n",
    "file = open(\"crawling_hanhwa_result.txt\",\"w\")\n",
    "def crawling():\n",
    "    threading.Timer(1.0, crawling).start() # called every minute\n",
    "    for link in soup.find(\"div\", {\"class\":\"ticket_area\"}).findAll(\"span\"):\n",
    "        result += link.text\n",
    "        file.write(result)\n"
   ]
  },
  {
   "cell_type": "code",
   "execution_count": null,
   "metadata": {
    "collapsed": true
   },
   "outputs": [],
   "source": [
    "import threading\n",
    "def hello_world():\n",
    "    threading.Timer(1.0, hello_world).start() # called every minute\n",
    "hello_world()"
   ]
  },
  {
   "cell_type": "code",
   "execution_count": null,
   "metadata": {
    "collapsed": false
   },
   "outputs": [],
   "source": [
    "pwd"
   ]
  },
  {
   "cell_type": "markdown",
   "metadata": {
    "collapsed": true
   },
   "source": [
    "# Method 1. Auto crawling per time"
   ]
  },
  {
   "cell_type": "code",
   "execution_count": 4,
   "metadata": {
    "collapsed": false
   },
   "outputs": [],
   "source": [
    "import bs4 as bs\n",
    "from selenium import webdriver\n",
    "driver = webdriver.PhantomJS()\n",
    "\n",
    "def get_count():\n",
    "    driver.get('https://www.hanwhafireworks.com/event-goldenticket.do')\n",
    "#     driver.implicitly_wait(3)\n",
    "    # 이건 뭐지?! \n",
    "    html = driver.page_source # 페이지의 elements모두 가져오기\n",
    "    soup = bs.BeautifulSoup(html, 'html.parser') \n",
    "    count=[]\n",
    "    for link in soup.find(\"div\", {\"class\":\"ticket_area\"}).findAll(\"span\"):\n",
    "        count.append(link.text)\n",
    "\n",
    "    return count"
   ]
  },
  {
   "cell_type": "code",
   "execution_count": 5,
   "metadata": {
    "collapsed": true
   },
   "outputs": [],
   "source": [
    "import threading \n",
    "import time\n",
    "\n",
    "end = False\n",
    "\n",
    "def execute_func(second=60.0):\n",
    "    global end\n",
    "    if end:\n",
    "        return\n",
    "    \n",
    "    now = time.localtime()\n",
    "    data = get_count()\n",
    "    now_time = time.strftime(\"%H:%M\" ,now)\n",
    "    s = now_time+'\\t' +''.join(data[1:])\n",
    "    \n",
    "    with open(\"crawling_result.txt\", 'a') as f:\n",
    "        f.write(s+'\\n')\n",
    "        \n",
    "    threading.Timer(second, execute_func, [second]).start()"
   ]
  },
  {
   "cell_type": "code",
   "execution_count": 6,
   "metadata": {
    "collapsed": false
   },
   "outputs": [],
   "source": [
    "execute_func()"
   ]
  },
  {
   "cell_type": "markdown",
   "metadata": {},
   "source": [
    "# Method 2. Auto crawling per time"
   ]
  },
  {
   "cell_type": "code",
   "execution_count": 59,
   "metadata": {
    "collapsed": true
   },
   "outputs": [],
   "source": [
    "import bs4 as bs\n",
    "from selenium import webdriver\n",
    "driver = webdriver.PhantomJS()\n",
    "\n",
    "def get_count():\n",
    "    driver.get('https://www.hanwhafireworks.com/event-goldenticket.do')\n",
    "#     driver.implicitly_wait(3)\n",
    "    # 이건 뭐지?! \n",
    "    html = driver.page_source # 페이지의 elements모두 가져오기\n",
    "    soup = bs.BeautifulSoup(html, 'html.parser') \n",
    "    count=[]\n",
    "    for link in soup.find(\"div\", {\"class\":\"ticket_area\"}).findAll(\"span\"):\n",
    "        count.append(link.text)\n",
    "\n",
    "    return count"
   ]
  },
  {
   "cell_type": "code",
   "execution_count": 60,
   "metadata": {
    "collapsed": false
   },
   "outputs": [],
   "source": [
    "def execute_func():\n",
    "    global end\n",
    "    if end:\n",
    "        return\n",
    "    \n",
    "    now = time.localtime()\n",
    "    data = get_count()\n",
    "    now_time = time.strftime(\"%H:%M\" ,now)\n",
    "    s = now_time+'\\t' +''.join(data[1:])\n",
    "    \n",
    "    with open(\"crawling_result.txt\", 'a') as f:\n",
    "        f.write(s+'\\n')"
   ]
  },
  {
   "cell_type": "code",
   "execution_count": 61,
   "metadata": {
    "collapsed": true
   },
   "outputs": [],
   "source": [
    "from threading import Timer,Thread,Event\n",
    "\n",
    "class MyThread(Thread):\n",
    "    def __init__(self, event):\n",
    "        Thread.__init__(self)\n",
    "        self.stopped = event\n",
    "\n",
    "    def run(self):\n",
    "        while not self.stopped.wait(60):\n",
    "            # call a function\n",
    "#             print(\"my thread\")\n",
    "            execute_func()"
   ]
  },
  {
   "cell_type": "code",
   "execution_count": 62,
   "metadata": {
    "collapsed": false
   },
   "outputs": [],
   "source": [
    "stopFlag = Event()\n",
    "thread = MyThread(stopFlag)\n",
    "thread.start()"
   ]
  },
  {
   "cell_type": "code",
   "execution_count": 63,
   "metadata": {
    "collapsed": false
   },
   "outputs": [],
   "source": [
    "# this will stop the timer\n",
    "stopFlag.set()"
   ]
  },
  {
   "cell_type": "markdown",
   "metadata": {},
   "source": [
    "- refrence \n",
    "https://stackoverflow.com/questions/12435211/python-threading-timer-repeat-function-every-n-seconds "
   ]
  },
  {
   "cell_type": "code",
   "execution_count": null,
   "metadata": {
    "collapsed": true
   },
   "outputs": [],
   "source": []
  }
 ],
 "metadata": {
  "kernelspec": {
   "display_name": "Python 3",
   "language": "python",
   "name": "python3"
  },
  "language_info": {
   "codemirror_mode": {
    "name": "ipython",
    "version": 3
   },
   "file_extension": ".py",
   "mimetype": "text/x-python",
   "name": "python",
   "nbconvert_exporter": "python",
   "pygments_lexer": "ipython3",
   "version": "3.6.0"
  }
 },
 "nbformat": 4,
 "nbformat_minor": 2
}
