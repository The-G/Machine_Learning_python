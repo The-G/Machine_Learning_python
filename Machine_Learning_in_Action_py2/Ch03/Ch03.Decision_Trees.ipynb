{
 "cells": [
  {
   "cell_type": "markdown",
   "metadata": {},
   "source": [
    "# 의사결정 트리 (Decision Trees)\n",
    "- 의사결정 트리는 마치 스무고개 게임처럼 동작한다.\n",
    "- Decision Tree Flowchart\n",
    "    - Decision Block\n",
    "    - Terminal Block\n",
    "    - Branch\n",
    "- 장점\n",
    "    - 적은 계산비용\n",
    "    - 이해하기 쉬운 학습 결과\n",
    "    - 누락된 값 있어도 처리 가능\n",
    "    - 분류와 무관한 특징도 처리 가능\n",
    "- 단점\n",
    "    - 과적합(overfitting) 되기 쉬움 : 너무 복잡한 의사결정 트리\n",
    "- 적용\n",
    "    - 수치형 값, 명목형 값"
   ]
  },
  {
   "cell_type": "markdown",
   "metadata": {},
   "source": [
    "##### 기타 tip\n",
    "- oracle 에서!\n",
    "    - key값과 rowid가 tree의 Decision Block에 들어가 있다!! \n",
    "    - 6363이 row_id와 함께있는 key값인거다 총 18자리!! \n",
    "    - 6자리 - Object_id(segment의 ID)\n",
    "    - 3자리 - File 번호!\n",
    "    - 6자리 - Block ID\n",
    "    - 3자리 - RowID\n",
    "    - 빠르게 데이터를 찾아가는 이유가 tree 구조로 되어 있기 때문이다!!\n",
    "    - row_id를 가지고 접근하는 것이 데이터에 가장 빨리 접근하는 거다.\n"
   ]
  },
  {
   "cell_type": "code",
   "execution_count": null,
   "metadata": {
    "collapsed": true
   },
   "outputs": [],
   "source": []
  },
  {
   "cell_type": "markdown",
   "metadata": {},
   "source": [
    "## 3.1 Tree construction\n",
    "\n",
    "**ID3 알고리즘**\n",
    "\n",
    "1. 데이터를 가장 잘 나눌 수 있는 특징을 먼저 찾아서 데이터 집합을 하위 집합으로 분할\n",
    "    - 정보 이득(Information Gain) 이 가장 큰 특징\n",
    "    - 엔트로피(Entropy)가 가장 크게 낮아지는 특징\n",
    "2. 해당 특징을 포함하는 노드 생성\n",
    "3. 하위 집합의 모든 데이터가 같은 클래스에 속하면 해당 하위 집합에 대한 분류 종류\n",
    "4. 2의 경우가 아니라면 이 하위 집합에 대해 1을 적용\n",
    "5. 모든 데이터가 분류될 때까지(=모든 하위 집합에 대해) 1~4 반복\n",
    "    - 재귀적 방법으로 해결\n",
    "\n",
    "\n",
    "- https://en.wikipedia.org/wiki/ID3_algorithm"
   ]
  },
  {
   "cell_type": "raw",
   "metadata": {},
   "source": [
    "Check if every item in the dataset is in the same class:\n",
    "// 데이터 집합에 있는 모든 아이템이 같은 분류 항목에 속하는 지 확인\n",
    "    If so return the class label\n",
    "    // 그렇다면, 분류 항목 표시를 반환함\n",
    "    Else\n",
    "    // 그렇지 않다면\n",
    "        find the best feature to split the data\n",
    "        //데이터를 분할하는 데 가장 좋은 속성을 찾음\n",
    "        split the dataset\n",
    "        // 데이터 집합 분할\n",
    "        create a branch node\n",
    "        // 가지 노드 생성\n",
    "            for each split\n",
    "            //각 노드마다 분할 반복\n",
    "                call createBranch and add the result to the branch node\n",
    "                // createBranch를 호출하고 가지 노드에 결과 추가\n",
    "        return branch noder\n",
    "        //가지 노드를 반환함"
   ]
  },
  {
   "cell_type": "markdown",
   "metadata": {},
   "source": [
    "### $트리 구조 생성 의사코드"
   ]
  },
  {
   "cell_type": "markdown",
   "metadata": {},
   "source": [
    "General approach to decision trees\n",
    "1. Collect: \n",
    "    - Any method.\n",
    "2. Prepare: \n",
    "    - This tree-building algorithm works only on nominal values,\n",
    "    - so any continuous values will need to be quantized.\n",
    "3. Analyze: \n",
    "    - Any method. \n",
    "    - You should visually inspect the tree after it is built.\n",
    "4. Train: \n",
    "    - Construct a tree data structure.\n",
    "5. Test: \n",
    "     - Calculate the error rate with the learned tree.\n",
    "6. Use: \n",
    "    - This can be used in any supervised learning task. \n",
    "    - Often, trees are used to better understand the data.\n",
    "    \n",
    "    \n",
    "- 이산화가 필요하다 설명하면서 양자화 내용 봄!!\n",
    "- 양자화\n",
    "    - 수학과 디지털 신호 처리에서 양자화는 유한 집합에 대량의 입력값을 매핑하는 과정을 말한다.\n",
    "    - (예를 들어 반올림값을 정밀 단위로) 좀더 구체적으로는 샘플링한 PAM신호(아날로그 데이터)를 이산적인 값(디지털 데이터)으로 바꾸어 표시하는 것을 말한다.\n",
    "    \n",
    "    \n",
    "- http://www.ktword.co.kr/abbr_view.php?m_temp1=911  (양자화 설명)"
   ]
  },
  {
   "cell_type": "markdown",
   "metadata": {},
   "source": [
    "### 의사결정 트리 알고리즘\n",
    "\n",
    "- ID3 (Iterative Dichotomiser 3)\n",
    "- C4.5 (successor of ID3)\n",
    "- C5.0 (successor of ID4)\n",
    "- CART (Classification And Regression Tree)\n",
    "- CHAID (CHi-squared Automatic Interaction Detector) : 이 알고리즘은 분류 트리를 계산할 때 다단계 분할을 수행한다.\n",
    "- MARS (Multivariate adaptive regression splines) : 더 많은 수치 데이터를 처리하기 위해 결정 트리를 사용한다.\n",
    "- 조건부 추론 트리 (Conditional Inference Trees) : 과적합을 피하기 위해 여러 테스트에 대해 보정 분할 기준으로 비 - 파라미터 테스트를 사용하는 통계 기반의 방법이다. 이 방법은 편견 예측 선택 결과와 가지 치기가 필요하지 않다.\n",
    "- https://ko.wikipedia.org/wiki/%EA%B2%B0%EC%A0%95_%ED%8A%B8%EB%A6%AC_%ED%95%99%EC%8A%B5%EB%B2%95"
   ]
  },
  {
   "cell_type": "markdown",
   "metadata": {},
   "source": [
    "### 가정 적합한 분할 기준을 선택하는 방법\n",
    "- 정보 이득\n",
    "- 지니 불순도(Gini Impurity)\n",
    "- 분산 감소"
   ]
  },
  {
   "cell_type": "markdown",
   "metadata": {},
   "source": [
    "### 표 3.1 해양 동물 데이터 p.52\n",
    "- '물고기이다'와 '물고기가 아니다'로 분류"
   ]
  },
  {
   "cell_type": "code",
   "execution_count": null,
   "metadata": {
    "collapsed": true
   },
   "outputs": [],
   "source": []
  },
  {
   "cell_type": "markdown",
   "metadata": {},
   "source": [
    "### 3.1.1 Information gain\n",
    "- 데이터를 분할하기 이전과 이후의 정보량 변화 (엔트로피, 정보량과 같은 말은 아니다. 복잡성 변화)(정보량이 많다는 것은 알아야 할 것이 많다는 것이다. 아는 것이 많은 것이 아니라)\n",
    "- 정보 이득이 가장 큰 특징에 대해 분할 수행\n",
    "- 정보 이득으로 정보의 불확실성(d엔트로피) 감소\n",
    "\n",
    "\n",
    "- class, feature라고 생각하면 된다.\n",
    "- label은 질문에 focus, class은 구분해 놓은 값이라고 생각하면 된다!! "
   ]
  },
  {
   "cell_type": "markdown",
   "metadata": {},
   "source": [
    "### 개별 정보량과 엔트로피 (p.53~54)\n",
    "- 개별 정보량\n",
    "    - 활률이 낮을수록 개별 정보량은 커진다 == 엔트로피가 커지는데 기여\n",
    "        - 로그에 결과에 -1을 곱한이유\n",
    "    - 밑이 2\n",
    "        - 정보를 전달(표현)하는데 몇 자리 2진수(몇 비트)면 충분한가\n",
    "        \n",
    "- **엔트로피**\n",
    "    - 정보에 대한 기댓값 (그 사건의 값에다가 그 사건이 일어날 확률을 곱한거지!!)\n",
    "    - 불확실한 정도, **무질서 정도**\n",
    "    - 활률이 낮은 사건이 많을수록 정보의 엔트로피(불확실성)이 커진다.\n",
    "    - 정보의 불확실성(엔트로피)가 높다\n",
    "        - 어떤 값(정보)가 나올지 알기 힘들다\n",
    "    - 엔트로피가 높은 원인\n",
    "        - 모든 사건의 확률이 균등하다.\n",
    "        - 활률이 낮은 사건이 많다.\n",
    "            - 정보가 다양하다\n",
    "    - Ex) 동전 던지는 이갸리함, 앞 뒷면 모두 나올 활률이 0.5 일때 엔트로피가 가장 높다! 그런데 앞 뒷면 나올 확률이 각각 0.8, 0.2라고 하면 엔트로피가 줄어든다. 이는 불확실성이 줄어든 것이고, 정보가 적어졌다고 할 수 있다!!!! 외부에 남아있는 정보가 적어진거다!! \n",
    "    \n",
    "    \n",
    "- 엔트로피의 성질 : 집합에 범주가 고르게 분포할 수록 엔트로피 값은 높다. (불확실성 상태가 크다.)\n",
    "    \n",
    "- 의사결정 나무에서는 엔트로피가 높을 수록 Target 구분을 잘 못해주는 속성 필드가 되며, 낮을 수록 구분을 잘 해주는 유의한 속성 필드가 된다.\n",
    "            \n",
    "\n",
    "TODO:: 참고 link 붙여야 한다!! \n",
    "- \n",
    "- "
   ]
  },
  {
   "cell_type": "markdown",
   "metadata": {},
   "source": [
    "54p 수식 그릴 수 있지\n",
    "- '-'를 붙인 이유는 단지 양수를 만들기 위해서이다!! \n",
    "- H는 기댓값 인거지!!"
   ]
  },
  {
   "cell_type": "code",
   "execution_count": null,
   "metadata": {
    "collapsed": true
   },
   "outputs": [],
   "source": []
  },
  {
   "cell_type": "markdown",
   "metadata": {},
   "source": [
    "### Listing 3.1 Function to calculate the Shannon entropy of a dataset"
   ]
  },
  {
   "cell_type": "raw",
   "metadata": {},
   "source": [
    "\n",
    "def createDataSet():\n",
    "    dataSet = [[1, 1, 'yes'],\n",
    "               [1, 1, 'yes'],\n",
    "               [1, 0, 'no'],\n",
    "               [0, 1, 'no'],\n",
    "               [0, 1, 'no']]\n",
    "    labels = ['no surfacing','flippers'] # feature 이름을 이야기 하는 것이다!! \n",
    "    #change to discrete values\n",
    "    return dataSet, labels\n"
   ]
  },
  {
   "cell_type": "code",
   "execution_count": 56,
   "metadata": {
    "collapsed": true
   },
   "outputs": [],
   "source": [
    "import numpy as np"
   ]
  },
  {
   "cell_type": "code",
   "execution_count": 57,
   "metadata": {
    "collapsed": true
   },
   "outputs": [],
   "source": [
    "import trees"
   ]
  },
  {
   "cell_type": "code",
   "execution_count": 58,
   "metadata": {},
   "outputs": [],
   "source": [
    "marinedata, labels = trees.createDataSet()"
   ]
  },
  {
   "cell_type": "code",
   "execution_count": 59,
   "metadata": {},
   "outputs": [
    {
     "data": {
      "text/plain": [
       "([[1, 1, 'yes'], [1, 1, 'yes'], [1, 0, 'no'], [0, 1, 'no'], [0, 1, 'no']],\n",
       " ['no surfacing', 'flippers'])"
      ]
     },
     "execution_count": 59,
     "metadata": {},
     "output_type": "execute_result"
    }
   ],
   "source": [
    "marinedata, labels"
   ]
  },
  {
   "cell_type": "code",
   "execution_count": 60,
   "metadata": {
    "collapsed": true
   },
   "outputs": [],
   "source": [
    "# 데이터 집합의 \n",
    "def calcShannonEnt(dataSet):\n",
    "    numEntries = len(dataSet)\n",
    "    labelCounts = {}\n",
    "    for featVec in dataSet: #the the number of unique elements and their occurance\n",
    "        currentLabel = featVec[-1]\n",
    "        if currentLabel not in labelCounts.keys(): labelCounts[currentLabel] = 0\n",
    "        labelCounts[currentLabel] += 1\n",
    "    shannonEnt = 0.0\n",
    "    for key in labelCounts:\n",
    "        prob = float(labelCounts[key])/numEntries\n",
    "        shannonEnt -= prob * log(prob,2) #log base 2\n",
    "    return shannonEnt"
   ]
  },
  {
   "cell_type": "markdown",
   "metadata": {},
   "source": [
    "- **위 코드 분해해봄 (아래)**"
   ]
  },
  {
   "cell_type": "code",
   "execution_count": 61,
   "metadata": {},
   "outputs": [
    {
     "data": {
      "text/plain": [
       "5"
      ]
     },
     "execution_count": 61,
     "metadata": {},
     "output_type": "execute_result"
    }
   ],
   "source": [
    "numentries = len(marinedata); numentries"
   ]
  },
  {
   "cell_type": "code",
   "execution_count": 194,
   "metadata": {
    "collapsed": true
   },
   "outputs": [],
   "source": [
    "labelcounts={}"
   ]
  },
  {
   "cell_type": "markdown",
   "metadata": {},
   "source": [
    "### 입력 데이터 집합(해양생물데이터)을 순회하면서 타겟 라벨의 빈도의 도수를 구한다"
   ]
  },
  {
   "cell_type": "code",
   "execution_count": 195,
   "metadata": {
    "collapsed": true
   },
   "outputs": [],
   "source": [
    "i = 0"
   ]
  },
  {
   "cell_type": "code",
   "execution_count": 196,
   "metadata": {},
   "outputs": [
    {
     "data": {
      "text/plain": [
       "[1, 1, 'maybe']"
      ]
     },
     "execution_count": 196,
     "metadata": {},
     "output_type": "execute_result"
    }
   ],
   "source": [
    "featvec = marinedata[i]; featvec"
   ]
  },
  {
   "cell_type": "code",
   "execution_count": 197,
   "metadata": {},
   "outputs": [
    {
     "data": {
      "text/plain": [
       "'maybe'"
      ]
     },
     "execution_count": 197,
     "metadata": {},
     "output_type": "execute_result"
    }
   ],
   "source": [
    "current_targetlabel = featvec[-1]; current_targetlabel"
   ]
  },
  {
   "cell_type": "code",
   "execution_count": 198,
   "metadata": {},
   "outputs": [
    {
     "data": {
      "text/plain": [
       "{'maybe': 0}"
      ]
     },
     "execution_count": 198,
     "metadata": {},
     "output_type": "execute_result"
    }
   ],
   "source": [
    "if current_targetlabel not in labelcouts.keys():\n",
    "    labelcounts[current_targetlabel] = 0\n",
    "labelcounts"
   ]
  },
  {
   "cell_type": "code",
   "execution_count": 199,
   "metadata": {
    "scrolled": true
   },
   "outputs": [
    {
     "data": {
      "text/plain": [
       "{'maybe': 1}"
      ]
     },
     "execution_count": 199,
     "metadata": {},
     "output_type": "execute_result"
    }
   ],
   "source": [
    "labelcounts[current_targetlabel] += 1\n",
    "labelcounts"
   ]
  },
  {
   "cell_type": "code",
   "execution_count": 200,
   "metadata": {
    "collapsed": true
   },
   "outputs": [],
   "source": [
    "from IPython.core.interactiveshell import InteractiveShell\n",
    "InteractiveShell.ast_node_interactivity = \"all\" #'last' 기본값"
   ]
  },
  {
   "cell_type": "code",
   "execution_count": 204,
   "metadata": {},
   "outputs": [
    {
     "data": {
      "text/plain": [
       "[0, 1, 'no']"
      ]
     },
     "execution_count": 204,
     "metadata": {},
     "output_type": "execute_result"
    },
    {
     "data": {
      "text/plain": [
       "'no'"
      ]
     },
     "execution_count": 204,
     "metadata": {},
     "output_type": "execute_result"
    },
    {
     "data": {
      "text/plain": [
       "{'maybe': 1, 'no': 3, 'yes': 1}"
      ]
     },
     "execution_count": 204,
     "metadata": {},
     "output_type": "execute_result"
    }
   ],
   "source": [
    "i = 4\n",
    "\n",
    "featvec = marinedata[i]; featvec\n",
    "\n",
    "current_targetlabel = featvec[-1]; current_targetlabel\n",
    "\n",
    "# if current_targetlabel not in labelcouts.keys():\n",
    "#     labelcounts[current_targetlabel] = 0\n",
    "labelcounts[current_targetlabel] = labelcounts.get(current_targetlabel, 0) + 1\n",
    "# labelcounts[current_targetlabel] += 1\n",
    "labelcounts\n",
    "\n"
   ]
  },
  {
   "cell_type": "markdown",
   "metadata": {},
   "source": [
    "TODO:: 강사님 거랑 비교 필요!!"
   ]
  },
  {
   "cell_type": "markdown",
   "metadata": {},
   "source": [
    "#### if 문과 카운트 하는 문장을 묶어서 하나로 표현 가능\n",
    "- 사전의 get() 함수 활용"
   ]
  },
  {
   "cell_type": "raw",
   "metadata": {},
   "source": [
    "labelcounts[current_targetlabel] += labelcounts.get(current_targetlabel, 0) + 1\n",
    "# if current_targetlabel not in labelcouts.keys():\n",
    "#     labelcounts[current_targetlabel] = 0"
   ]
  },
  {
   "cell_type": "code",
   "execution_count": 184,
   "metadata": {
    "collapsed": true
   },
   "outputs": [],
   "source": [
    "labelcounts = {}"
   ]
  },
  {
   "cell_type": "code",
   "execution_count": 185,
   "metadata": {},
   "outputs": [
    {
     "data": {
      "text/plain": [
       "[1, 1, 'maybe']"
      ]
     },
     "execution_count": 185,
     "metadata": {},
     "output_type": "execute_result"
    },
    {
     "data": {
      "text/plain": [
       "'maybe'"
      ]
     },
     "execution_count": 185,
     "metadata": {},
     "output_type": "execute_result"
    },
    {
     "data": {
      "text/plain": [
       "{'maybe': 1}"
      ]
     },
     "execution_count": 185,
     "metadata": {},
     "output_type": "execute_result"
    }
   ],
   "source": [
    "i = 0\n",
    "featvec = marinedata[i]; featvec\n",
    "current_targetlabel = featvec[-1]; current_targetlabel\n",
    "\n",
    "labelcounts[current_targetlabel] = labelcounts.get(current_targetlabel, 0) + 1\n",
    "labelcounts"
   ]
  },
  {
   "cell_type": "markdown",
   "metadata": {},
   "source": [
    "#### 섀넌 엔트로피 구하기"
   ]
  },
  {
   "cell_type": "code",
   "execution_count": 186,
   "metadata": {
    "collapsed": true
   },
   "outputs": [],
   "source": [
    "import math"
   ]
  },
  {
   "cell_type": "code",
   "execution_count": 187,
   "metadata": {
    "collapsed": true
   },
   "outputs": [],
   "source": [
    "shannonent = 0.0"
   ]
  },
  {
   "cell_type": "code",
   "execution_count": 139,
   "metadata": {
    "collapsed": true
   },
   "outputs": [],
   "source": [
    "i = 0"
   ]
  },
  {
   "cell_type": "code",
   "execution_count": 140,
   "metadata": {},
   "outputs": [
    {
     "data": {
      "text/plain": [
       "'maybe'"
      ]
     },
     "execution_count": 140,
     "metadata": {},
     "output_type": "execute_result"
    }
   ],
   "source": [
    "key = labelcounts.keys()[i]; key"
   ]
  },
  {
   "cell_type": "code",
   "execution_count": 141,
   "metadata": {},
   "outputs": [
    {
     "data": {
      "text/plain": [
       "{'maybe': 1, 'no': 3, 'yes': 1}"
      ]
     },
     "execution_count": 141,
     "metadata": {},
     "output_type": "execute_result"
    }
   ],
   "source": [
    "labelcounts"
   ]
  },
  {
   "cell_type": "code",
   "execution_count": 142,
   "metadata": {},
   "outputs": [
    {
     "data": {
      "text/plain": [
       "0.2"
      ]
     },
     "execution_count": 142,
     "metadata": {},
     "output_type": "execute_result"
    }
   ],
   "source": [
    "prob = float(labelcounts[key]) / numentries; prob"
   ]
  },
  {
   "cell_type": "code",
   "execution_count": 143,
   "metadata": {},
   "outputs": [
    {
     "data": {
      "text/plain": [
       "-1.6094379124341003"
      ]
     },
     "execution_count": 143,
     "metadata": {},
     "output_type": "execute_result"
    }
   ],
   "source": [
    "math.log(prob)"
   ]
  },
  {
   "cell_type": "code",
   "execution_count": 144,
   "metadata": {},
   "outputs": [
    {
     "data": {
      "text/plain": [
       "0.46438561897747244"
      ]
     },
     "execution_count": 144,
     "metadata": {},
     "output_type": "execute_result"
    }
   ],
   "source": [
    "shannonent -= prob * math.log(prob, 2); shannonent"
   ]
  },
  {
   "cell_type": "code",
   "execution_count": 209,
   "metadata": {},
   "outputs": [
    {
     "data": {
      "text/plain": [
       "'maybe'"
      ]
     },
     "execution_count": 209,
     "metadata": {},
     "output_type": "execute_result"
    },
    {
     "data": {
      "text/plain": [
       "1"
      ]
     },
     "execution_count": 209,
     "metadata": {},
     "output_type": "execute_result"
    },
    {
     "data": {
      "text/plain": [
       "0.2"
      ]
     },
     "execution_count": 209,
     "metadata": {},
     "output_type": "execute_result"
    },
    {
     "data": {
      "text/plain": [
       "1.3931568569324173"
      ]
     },
     "execution_count": 209,
     "metadata": {},
     "output_type": "execute_result"
    }
   ],
   "source": [
    "i = 0\n",
    "key = labelcounts.keys()[i]; key\n",
    "labelcounts[key]\n",
    "prob = float(labelcounts[key])/numentries; prob\n",
    "shannonent -= prob * math.log(prob, 2); shannonent"
   ]
  },
  {
   "cell_type": "code",
   "execution_count": 206,
   "metadata": {},
   "outputs": [
    {
     "data": {
      "text/plain": [
       "[[1, 1, 'maybe'], [1, 1, 'yes'], [1, 0, 'no'], [0, 1, 'no'], [0, 1, 'no']]"
      ]
     },
     "execution_count": 206,
     "metadata": {},
     "output_type": "execute_result"
    }
   ],
   "source": [
    "marinedata[0][-1] = 'maybe'; marinedata # 엔트로피가 증가했다. 정보의 량이 많아졌다!!\n",
    "# yes와 maybe 나올 확률이 같네!!"
   ]
  },
  {
   "cell_type": "code",
   "execution_count": 207,
   "metadata": {},
   "outputs": [
    {
     "data": {
      "text/plain": [
       "1.3709505944546687"
      ]
     },
     "execution_count": 207,
     "metadata": {},
     "output_type": "execute_result"
    }
   ],
   "source": [
    "trees.calcShannonEnt(marinedata) # maybe 추가해서 entroy 0.4 정도 증가했다!! "
   ]
  },
  {
   "cell_type": "code",
   "execution_count": 148,
   "metadata": {
    "collapsed": true
   },
   "outputs": [],
   "source": [
    "# 데이터 집합의 \n",
    "def calcShannonEnt(dataSet):\n",
    "    numEntries = len(dataSet)\n",
    "    labelCounts = {}\n",
    "    for featVec in dataSet: #the the number of unique elements and their occurance\n",
    "        currentLabel = featVec[-1]\n",
    "        if currentLabel not in labelCounts.keys(): labelCounts[currentLabel] = 0\n",
    "        labelCounts[currentLabel] += 1\n",
    "    shannonEnt = 0.0\n",
    "    for key in labelCounts:\n",
    "        prob = float(labelCounts[key])/numEntries\n",
    "        shannonEnt -= prob * log(prob,2) #log base 2\n",
    "    return shannonEnt"
   ]
  },
  {
   "cell_type": "markdown",
   "metadata": {},
   "source": [
    "모든 feature에 대해서 정보이득을 계산해야 한다!! "
   ]
  },
  {
   "cell_type": "markdown",
   "metadata": {},
   "source": [
    "## 3.1.2 Splitting the dataset"
   ]
  },
  {
   "cell_type": "markdown",
   "metadata": {},
   "source": [
    "### Listing 3.2 Dataset splitting on a given feature"
   ]
  },
  {
   "cell_type": "code",
   "execution_count": 211,
   "metadata": {
    "collapsed": true
   },
   "outputs": [],
   "source": [
    "def splitDataSet(dataSet, axis, value):\n",
    "    retDataSet = []\n",
    "    for featVec in dataSet:\n",
    "        if featVec[axis] == value:\n",
    "            reducedFeatVec = featVec[:axis]     #chop out axis used for splitting\n",
    "            reducedFeatVec.extend(featVec[axis+1:])\n",
    "            retDataSet.append(reducedFeatVec)\n",
    "    return retDataSet"
   ]
  },
  {
   "cell_type": "markdown",
   "metadata": {},
   "source": [
    "- 위 코드 분석함 아래"
   ]
  },
  {
   "cell_type": "code",
   "execution_count": 228,
   "metadata": {
    "collapsed": true
   },
   "outputs": [],
   "source": [
    "retdataset = []"
   ]
  },
  {
   "cell_type": "code",
   "execution_count": 229,
   "metadata": {},
   "outputs": [
    {
     "data": {
      "text/plain": [
       "[[1, 1, 'yes'], [1, 1, 'yes'], [1, 0, 'no'], [0, 1, 'no'], [0, 1, 'no']]"
      ]
     },
     "execution_count": 229,
     "metadata": {},
     "output_type": "execute_result"
    },
    {
     "data": {
      "text/plain": [
       "['no surfacing', 'flippers']"
      ]
     },
     "execution_count": 229,
     "metadata": {},
     "output_type": "execute_result"
    }
   ],
   "source": [
    "marinedata, labels = trees.createDataSet()\n",
    "marinedata\n",
    "labels"
   ]
  },
  {
   "cell_type": "code",
   "execution_count": 230,
   "metadata": {
    "collapsed": true
   },
   "outputs": [],
   "source": [
    "# 첫 번째 피처: axis = 0\n",
    "# 첫 번째 피처의 값이 1: value=1\n",
    "axis = 0\n",
    "value = 1"
   ]
  },
  {
   "cell_type": "code",
   "execution_count": 231,
   "metadata": {
    "collapsed": true
   },
   "outputs": [],
   "source": [
    "i = 0"
   ]
  },
  {
   "cell_type": "code",
   "execution_count": 232,
   "metadata": {},
   "outputs": [
    {
     "data": {
      "text/plain": [
       "[1, 1, 'yes']"
      ]
     },
     "execution_count": 232,
     "metadata": {},
     "output_type": "execute_result"
    }
   ],
   "source": [
    "featvec = marinedata[i]; featvec"
   ]
  },
  {
   "cell_type": "code",
   "execution_count": 233,
   "metadata": {},
   "outputs": [
    {
     "data": {
      "text/plain": [
       "1"
      ]
     },
     "execution_count": 233,
     "metadata": {},
     "output_type": "execute_result"
    }
   ],
   "source": [
    "featvec[axis]"
   ]
  },
  {
   "cell_type": "code",
   "execution_count": 234,
   "metadata": {},
   "outputs": [
    {
     "data": {
      "text/plain": [
       "True"
      ]
     },
     "execution_count": 234,
     "metadata": {},
     "output_type": "execute_result"
    }
   ],
   "source": [
    "featvec[axis] == value"
   ]
  },
  {
   "cell_type": "code",
   "execution_count": 235,
   "metadata": {},
   "outputs": [
    {
     "data": {
      "text/plain": [
       "[]"
      ]
     },
     "execution_count": 235,
     "metadata": {},
     "output_type": "execute_result"
    }
   ],
   "source": [
    "# 위 조건식이 참이므로\n",
    "reducedfeatvec = featvec[:axis]; reducedfeatvec"
   ]
  },
  {
   "cell_type": "code",
   "execution_count": 236,
   "metadata": {},
   "outputs": [
    {
     "data": {
      "text/plain": [
       "[1, 'yes']"
      ]
     },
     "execution_count": 236,
     "metadata": {},
     "output_type": "execute_result"
    }
   ],
   "source": [
    "featvec[axis+1:]"
   ]
  },
  {
   "cell_type": "code",
   "execution_count": 237,
   "metadata": {},
   "outputs": [
    {
     "data": {
      "text/plain": [
       "[1, 'yes']"
      ]
     },
     "execution_count": 237,
     "metadata": {},
     "output_type": "execute_result"
    }
   ],
   "source": [
    "reducedfeatvec.extend(featvec[axis+1:])\n",
    "reducedfeatvec"
   ]
  },
  {
   "cell_type": "markdown",
   "metadata": {},
   "source": [
    "- 첫 feature를 제외한 나머지를 보는 거다. 첫 feature가 같은 것 끼리 모았으니"
   ]
  },
  {
   "cell_type": "code",
   "execution_count": 244,
   "metadata": {
    "collapsed": true
   },
   "outputs": [],
   "source": [
    "retdataset = []"
   ]
  },
  {
   "cell_type": "code",
   "execution_count": 249,
   "metadata": {},
   "outputs": [
    {
     "data": {
      "text/plain": [
       "[0, 1, 'no']"
      ]
     },
     "execution_count": 249,
     "metadata": {},
     "output_type": "execute_result"
    },
    {
     "data": {
      "text/plain": [
       "False"
      ]
     },
     "execution_count": 249,
     "metadata": {},
     "output_type": "execute_result"
    }
   ],
   "source": [
    "i = 4\n",
    "\n",
    "featvec = marinedata[i]; featvec\n",
    "featvec[axis] == value\n",
    "# 위 조건식이 참이므로\n",
    "if featvec[axis] == value:\n",
    "    reducedfeatvec = featvec[:axis]; \n",
    "    reducedfeatvec\n",
    "    featvec[axis+1:] # 왼쪽 것\n",
    "    reducedfeatvec.extend(featvec[axis+1:]) # 오른쪽 것\n",
    "    reducedfeatvec\n",
    "    retdataset.append(reducedfeatvec) # extent는 같은 list에 묶여서 반환되게 된다.\n",
    "    retdataset"
   ]
  },
  {
   "cell_type": "code",
   "execution_count": 250,
   "metadata": {},
   "outputs": [
    {
     "data": {
      "text/plain": [
       "[[1, 'yes'], [1, 'yes'], [0, 'no']]"
      ]
     },
     "execution_count": 250,
     "metadata": {},
     "output_type": "execute_result"
    }
   ],
   "source": [
    "retdataset"
   ]
  },
  {
   "cell_type": "code",
   "execution_count": 251,
   "metadata": {},
   "outputs": [
    {
     "data": {
      "text/plain": [
       "[[1, 'no'], [1, 'no']]"
      ]
     },
     "execution_count": 251,
     "metadata": {},
     "output_type": "execute_result"
    }
   ],
   "source": [
    "# 첫 번째 피처 값이 0인 데이터 집합을 구하기\n",
    "trees.splitDataSet(marinedata, 0 ,0)"
   ]
  },
  {
   "cell_type": "code",
   "execution_count": 252,
   "metadata": {
    "collapsed": true
   },
   "outputs": [],
   "source": [
    "# 두 번째 피처 값이 1인 데이터 집합을 구하기"
   ]
  },
  {
   "cell_type": "code",
   "execution_count": 253,
   "metadata": {
    "collapsed": true
   },
   "outputs": [],
   "source": [
    "axis = 1\n",
    "value = 1\n",
    "retdataset = []"
   ]
  },
  {
   "cell_type": "code",
   "execution_count": 255,
   "metadata": {
    "collapsed": true
   },
   "outputs": [],
   "source": [
    "featvec = marinedata[0]"
   ]
  },
  {
   "cell_type": "code",
   "execution_count": 256,
   "metadata": {},
   "outputs": [
    {
     "data": {
      "text/plain": [
       "[1, 1, 'yes']"
      ]
     },
     "execution_count": 256,
     "metadata": {},
     "output_type": "execute_result"
    }
   ],
   "source": [
    "featvec"
   ]
  },
  {
   "cell_type": "code",
   "execution_count": 257,
   "metadata": {},
   "outputs": [
    {
     "data": {
      "text/plain": [
       "[1, 'yes']"
      ]
     },
     "execution_count": 257,
     "metadata": {},
     "output_type": "execute_result"
    }
   ],
   "source": [
    "del featvec[1]; featvec"
   ]
  },
  {
   "cell_type": "code",
   "execution_count": null,
   "metadata": {
    "collapsed": true
   },
   "outputs": [],
   "source": []
  },
  {
   "cell_type": "code",
   "execution_count": 254,
   "metadata": {},
   "outputs": [
    {
     "data": {
      "text/plain": [
       "[1, 1, 'yes']"
      ]
     },
     "execution_count": 254,
     "metadata": {},
     "output_type": "execute_result"
    },
    {
     "data": {
      "text/plain": [
       "True"
      ]
     },
     "execution_count": 254,
     "metadata": {},
     "output_type": "execute_result"
    },
    {
     "data": {
      "text/plain": [
       "[1]"
      ]
     },
     "execution_count": 254,
     "metadata": {},
     "output_type": "execute_result"
    },
    {
     "data": {
      "text/plain": [
       "['yes']"
      ]
     },
     "execution_count": 254,
     "metadata": {},
     "output_type": "execute_result"
    },
    {
     "data": {
      "text/plain": [
       "[1, 'yes']"
      ]
     },
     "execution_count": 254,
     "metadata": {},
     "output_type": "execute_result"
    },
    {
     "data": {
      "text/plain": [
       "[[1, 'yes']]"
      ]
     },
     "execution_count": 254,
     "metadata": {},
     "output_type": "execute_result"
    }
   ],
   "source": [
    "i = 0\n",
    "\n",
    "featvec = marinedata[i]; featvec\n",
    "featvec[axis] == value\n",
    "# 위 조건식이 참이므로\n",
    "if featvec[axis] == value:\n",
    "    del featvec[axis]; reducedfeatvec\n",
    "    retdataset.append(featvec)\n",
    "retdataset"
   ]
  },
  {
   "cell_type": "code",
   "execution_count": 258,
   "metadata": {},
   "outputs": [
    {
     "data": {
      "text/plain": [
       "[[1, 'yes'], [1, 'yes'], [0, 'no']]"
      ]
     },
     "execution_count": 258,
     "metadata": {},
     "output_type": "execute_result"
    }
   ],
   "source": [
    "# 첫 번재 피처 값(라벨)이 1인 데이터 집합의 엔트로피 구하기\n",
    "marinedata, labels = trees.createDataSet()\n",
    "feat01 = trees.splitDataSet(marinedata,0,1); feat01 "
   ]
  },
  {
   "cell_type": "code",
   "execution_count": 259,
   "metadata": {},
   "outputs": [
    {
     "data": {
      "text/plain": [
       "0.9182958340544896"
      ]
     },
     "execution_count": 259,
     "metadata": {},
     "output_type": "execute_result"
    }
   ],
   "source": [
    "trees.calcShannonEnt(feat01)"
   ]
  },
  {
   "cell_type": "code",
   "execution_count": 260,
   "metadata": {},
   "outputs": [
    {
     "data": {
      "text/plain": [
       "[[1, 'no'], [1, 'no']]"
      ]
     },
     "execution_count": 260,
     "metadata": {},
     "output_type": "execute_result"
    },
    {
     "data": {
      "text/plain": [
       "0.0"
      ]
     },
     "execution_count": 260,
     "metadata": {},
     "output_type": "execute_result"
    }
   ],
   "source": [
    "# 첫 번째 피처 값이 0인 데이터 집합의 엔트로피\n",
    "feat00 = trees.splitDataSet(marinedata,0,0);feat00\n",
    "trees.calcShannonEnt(feat00)"
   ]
  },
  {
   "cell_type": "markdown",
   "metadata": {},
   "source": [
    "- *0인 이유는,  엔트로피 값 즉 정보량, 복잡정도가 출력되는 건데, 이미 분류가 완벽하게 되었으니 엔트로피가 0이 나온거다!! 더이상 나눠지지 않는다*"
   ]
  },
  {
   "cell_type": "code",
   "execution_count": 261,
   "metadata": {},
   "outputs": [
    {
     "data": {
      "text/plain": [
       "[[1, 'no']]"
      ]
     },
     "execution_count": 261,
     "metadata": {},
     "output_type": "execute_result"
    },
    {
     "data": {
      "text/plain": [
       "0.0"
      ]
     },
     "execution_count": 261,
     "metadata": {},
     "output_type": "execute_result"
    }
   ],
   "source": [
    "# 두 번째 피처 값이 0인 데이터 집합의 엔트로피\n",
    "feat10 = trees.splitDataSet(marinedata,1,0);feat10\n",
    "trees.calcShannonEnt(feat10)"
   ]
  },
  {
   "cell_type": "code",
   "execution_count": 263,
   "metadata": {},
   "outputs": [
    {
     "data": {
      "text/plain": [
       "[[1, 'yes'], [1, 'yes'], [0, 'no'], [0, 'no']]"
      ]
     },
     "execution_count": 263,
     "metadata": {},
     "output_type": "execute_result"
    },
    {
     "data": {
      "text/plain": [
       "1.0"
      ]
     },
     "execution_count": 263,
     "metadata": {},
     "output_type": "execute_result"
    }
   ],
   "source": [
    "# 두 번째 피처 값이 1인 데이터 집합의 엔트로피\n",
    "feat11 = trees.splitDataSet(marinedata,1,1);feat11\n",
    "trees.calcShannonEnt(feat11)"
   ]
  },
  {
   "cell_type": "code",
   "execution_count": null,
   "metadata": {
    "collapsed": true
   },
   "outputs": [],
   "source": []
  }
 ],
 "metadata": {
  "kernelspec": {
   "display_name": "Python 2",
   "language": "python",
   "name": "python2"
  },
  "language_info": {
   "codemirror_mode": {
    "name": "ipython",
    "version": 2
   },
   "file_extension": ".py",
   "mimetype": "text/x-python",
   "name": "python",
   "nbconvert_exporter": "python",
   "pygments_lexer": "ipython2",
   "version": "2.7.13"
  }
 },
 "nbformat": 4,
 "nbformat_minor": 2
}
