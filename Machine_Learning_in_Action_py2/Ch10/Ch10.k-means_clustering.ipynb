{
 "cells": [
  {
   "cell_type": "markdown",
   "metadata": {},
   "source": [
    "# Grouping unlabeled items using k-means clustering"
   ]
  },
  {
   "cell_type": "code",
   "execution_count": 3,
   "metadata": {
    "collapsed": true
   },
   "outputs": [],
   "source": [
    "from IPython.core.interactiveshell import InteractiveShell\n",
    "InteractiveShell.ast_node_interactivity = \"all\" "
   ]
  },
  {
   "cell_type": "markdown",
   "metadata": {},
   "source": [
    "## 10.1 The k-means clustering algorithm\n",
    "- k-means clustering\n",
    "    - Pros: Easy to implement\n",
    "    - Cons: Can converge at local minima; slow on very large datasets\n",
    "    - Works with: Numeric values"
   ]
  },
  {
   "cell_type": "markdown",
   "metadata": {},
   "source": [
    "k-평균은 주어진 데이터 집합에 대해 k개의 군집을 찾고자 하는 알고리즘이다. 군집의 개수인 k는 사용자가 정의한다. 각각의 군집은 중심(centroid)이라고 하는 하나의 단일한 점으로 묘사된다. "
   ]
  },
  {
   "cell_type": "raw",
   "metadata": {},
   "source": [
    "Here’s how the pseudo-code would look:\n",
    "\n",
    "Create k points for starting centroids (often randomly)\n",
    "// 초기 중심을 설정하기 위해 k개의 점을 생성(보통 randomly)\n",
    "While any point has changed cluster assignment\n",
    "// 모든 점의 군집 배치에 변화가 없을 때까지 반복\n",
    "    for every point in our dataset:\n",
    "    // 데이터 집합 내의 모든 점을 순회할 때까지 반복\n",
    "        for every centroid\n",
    "        // 모든 중심을 순회할 때까지 반복\n",
    "            calculate the distance between the centroid and point\n",
    "            // 중심과 점 사이의 거리를 계산\n",
    "        assign the point to the cluster with the lowest distance\n",
    "        //점을 거리가 가장 가까운 군집으로 할당\n",
    "    for every cluster calculate the mean of the points in that cluster\n",
    "    // 모든 군집에 대해 군집 내에 있는 점들의 평균을 계산할 때까지 반복\n",
    "        assign the centroid to the mean\n",
    "        //각각의 군집에서 계산된 평균을 군집의 중심으로 변경"
   ]
  },
  {
   "cell_type": "markdown",
   "metadata": {},
   "source": [
    "#### Listing 10.1 k-means support functions"
   ]
  },
  {
   "cell_type": "code",
   "execution_count": 10,
   "metadata": {
    "collapsed": true
   },
   "outputs": [],
   "source": [
    "from numpy import *\n",
    "\n",
    "def loadDataSet(fileName):      #general function to parse tab -delimited floats\n",
    "    dataMat = []                #assume last column is target value\n",
    "    fr = open(fileName)\n",
    "    for line in fr.readlines():\n",
    "        curLine = line.strip().split('\\t')\n",
    "        fltLine = map(float,curLine) #map all elements to float() function\n",
    "        dataMat.append(fltLine)\n",
    "    return dataMat # 중첩list 이중list return 됨.\n",
    "\n",
    "def distEclud(vecA, vecB): # 유클리드 활용! \n",
    "    return sqrt(sum(power(vecA - vecB, 2))) #la.norm(vecA-vecB)\n",
    "\n",
    "def randCent(dataSet, k): # 80 x 2\n",
    "    n = shape(dataSet)[1] # (80,2)[1] = 2, feature의 개수이다!! \n",
    "    centroids = mat(zeros((k,n)))#create centroid mat\n",
    "    \n",
    "    #create random cluster centers, within bounds of each dimension\n",
    "#     for j in range(n):\n",
    "#         minJ = min(dataSet[:,j]) # 각 column의 min\n",
    "#         rangeJ = float(max(dataSet[:,j]) - minJ)\n",
    "#         centroids[:,j] = mat(minJ + rangeJ * random.rand(k,1))\n",
    "        \n",
    "    # 위 FOR문 안 쓰고 할 수 있다!! \n",
    "    min_data = np.min(dataSet, axis=0)\n",
    "    range_data = np.max(dataSet, axis=0) - min_data\n",
    "    print min_data\n",
    "    print range_data\n",
    "    print random.rand(k,n)\n",
    "    centroids = mat(min_data.A + range_data.A *random.rand(k,n))\n",
    "    #                 1 X 2         1 X 2        3 X 2\n",
    "    # .A 를 붙여주면 broadcating이 가능해 진다 matrix에서 array가 되니까!! \n",
    "    #                                3 x 2         \n",
    "    \n",
    "    return centroids\n"
   ]
  },
  {
   "cell_type": "markdown",
   "metadata": {},
   "source": [
    "- randCent 에서 center 잡을 때 데이터 셋의 max, min을 잡아서 범위안에서 center 잡도록 설정해 준다!! "
   ]
  },
  {
   "cell_type": "code",
   "execution_count": 4,
   "metadata": {
    "collapsed": true
   },
   "outputs": [],
   "source": [
    "x = ['Hello','world','python','data scientist', 'machine learning']"
   ]
  },
  {
   "cell_type": "code",
   "execution_count": 6,
   "metadata": {},
   "outputs": [
    {
     "data": {
      "text/plain": [
       "[5, 5, 6, 14, 16]"
      ]
     },
     "execution_count": 6,
     "metadata": {},
     "output_type": "execute_result"
    }
   ],
   "source": [
    "r2 = map(len, x);r2"
   ]
  },
  {
   "cell_type": "code",
   "execution_count": 7,
   "metadata": {},
   "outputs": [
    {
     "data": {
      "text/plain": [
       "[5, 5, 6, 14, 16]"
      ]
     },
     "execution_count": 7,
     "metadata": {},
     "output_type": "execute_result"
    }
   ],
   "source": [
    "r3 = [len(word) for word in x]; r3"
   ]
  },
  {
   "cell_type": "code",
   "execution_count": 9,
   "metadata": {},
   "outputs": [
    {
     "name": "stdout",
     "output_type": "stream",
     "text": [
      "The slowest run took 8.32 times longer than the fastest. This could mean that an intermediate result is being cached.\n",
      "1000000 loops, best of 3: 472 ns per loop\n",
      "1000000 loops, best of 3: 429 ns per loop\n"
     ]
    }
   ],
   "source": [
    "%timeit r2 = map(len, x);r2\n",
    "%timeit r3 = [len(word) for word in x]; r3\n",
    "# list comprehension이 더 빠르다!!! "
   ]
  },
  {
   "cell_type": "code",
   "execution_count": 12,
   "metadata": {},
   "outputs": [
    {
     "data": {
      "text/plain": [
       "u'C:\\\\pydev\\\\Machine_Learning\\\\Machine_Learning_in_Action_py2\\\\Ch10'"
      ]
     },
     "execution_count": 12,
     "metadata": {},
     "output_type": "execute_result"
    }
   ],
   "source": [
    "pwd  # %cd ../Ch10"
   ]
  },
  {
   "cell_type": "code",
   "execution_count": 53,
   "metadata": {
    "scrolled": true
   },
   "outputs": [
    {
     "data": {
      "text/plain": [
       "<module 'kMeans' from 'kMeans.py'>"
      ]
     },
     "execution_count": 53,
     "metadata": {},
     "output_type": "execute_result"
    }
   ],
   "source": [
    "import kMeans\n",
    "reload(kMeans)\n",
    "import numpy as np"
   ]
  },
  {
   "cell_type": "code",
   "execution_count": 54,
   "metadata": {
    "collapsed": true
   },
   "outputs": [],
   "source": [
    "datMat = np.mat(kMeans.loadDataSet('testSet.txt'))"
   ]
  },
  {
   "cell_type": "code",
   "execution_count": 55,
   "metadata": {
    "scrolled": true
   },
   "outputs": [
    {
     "data": {
      "text/plain": [
       "matrix([[ 1.658985,  4.285136],\n",
       "        [-3.453687,  3.424321],\n",
       "        [ 4.838138, -1.151539],\n",
       "        [-5.379713, -3.362104],\n",
       "        [ 0.972564,  2.924086],\n",
       "        [-3.567919,  1.531611],\n",
       "        [ 0.450614, -3.302219],\n",
       "        [-3.487105, -1.724432],\n",
       "        [ 2.668759,  1.594842],\n",
       "        [-3.156485,  3.191137],\n",
       "        [ 3.165506, -3.999838],\n",
       "        [-2.786837, -3.099354],\n",
       "        [ 4.208187,  2.984927],\n",
       "        [-2.123337,  2.943366],\n",
       "        [ 0.704199, -0.479481],\n",
       "        [-0.39237 , -3.963704],\n",
       "        [ 2.831667,  1.574018],\n",
       "        [-0.790153,  3.343144],\n",
       "        [ 2.943496, -3.357075],\n",
       "        [-3.195883, -2.283926],\n",
       "        [ 2.336445,  2.875106],\n",
       "        [-1.786345,  2.554248],\n",
       "        [ 2.190101, -1.90602 ],\n",
       "        [-3.403367, -2.778288],\n",
       "        [ 1.778124,  3.880832],\n",
       "        [-1.688346,  2.230267],\n",
       "        [ 2.592976, -2.054368],\n",
       "        [-4.007257, -3.207066],\n",
       "        [ 2.257734,  3.387564],\n",
       "        [-2.679011,  0.785119],\n",
       "        [ 0.939512, -4.023563],\n",
       "        [-3.674424, -2.261084],\n",
       "        [ 2.046259,  2.735279],\n",
       "        [-3.18947 ,  1.780269],\n",
       "        [ 4.372646, -0.822248],\n",
       "        [-2.579316, -3.497576],\n",
       "        [ 1.889034,  5.1904  ],\n",
       "        [-0.798747,  2.185588],\n",
       "        [ 2.83652 , -2.658556],\n",
       "        [-3.837877, -3.253815],\n",
       "        [ 2.096701,  3.886007],\n",
       "        [-2.709034,  2.923887],\n",
       "        [ 3.367037, -3.184789],\n",
       "        [-2.121479, -4.232586],\n",
       "        [ 2.329546,  3.179764],\n",
       "        [-3.284816,  3.273099],\n",
       "        [ 3.091414, -3.815232],\n",
       "        [-3.762093, -2.432191],\n",
       "        [ 3.542056,  2.778832],\n",
       "        [-1.736822,  4.241041],\n",
       "        [ 2.127073, -2.98368 ],\n",
       "        [-4.323818, -3.938116],\n",
       "        [ 3.792121,  5.135768],\n",
       "        [-4.786473,  3.358547],\n",
       "        [ 2.624081, -3.260715],\n",
       "        [-4.009299, -2.978115],\n",
       "        [ 2.493525,  1.96371 ],\n",
       "        [-2.513661,  2.642162],\n",
       "        [ 1.864375, -3.176309],\n",
       "        [-3.171184, -3.572452],\n",
       "        [ 2.89422 ,  2.489128],\n",
       "        [-2.562539,  2.884438],\n",
       "        [ 3.491078, -3.947487],\n",
       "        [-2.565729, -2.012114],\n",
       "        [ 3.332948,  3.983102],\n",
       "        [-1.616805,  3.573188],\n",
       "        [ 2.280615, -2.559444],\n",
       "        [-2.651229, -3.103198],\n",
       "        [ 2.321395,  3.154987],\n",
       "        [-1.685703,  2.939697],\n",
       "        [ 3.031012, -3.620252],\n",
       "        [-4.599622, -2.185829],\n",
       "        [ 4.196223,  1.126677],\n",
       "        [-2.133863,  3.093686],\n",
       "        [ 4.668892, -2.562705],\n",
       "        [-2.793241, -2.149706],\n",
       "        [ 2.884105,  3.043438],\n",
       "        [-2.967647,  2.848696],\n",
       "        [ 4.479332, -1.764772],\n",
       "        [-4.905566, -2.91107 ]])"
      ]
     },
     "execution_count": 55,
     "metadata": {},
     "output_type": "execute_result"
    },
    {
     "data": {
      "text/plain": [
       "numpy.matrixlib.defmatrix.matrix"
      ]
     },
     "execution_count": 55,
     "metadata": {},
     "output_type": "execute_result"
    }
   ],
   "source": [
    "datMat\n",
    "type(datMat)"
   ]
  },
  {
   "cell_type": "code",
   "execution_count": 56,
   "metadata": {
    "scrolled": true
   },
   "outputs": [
    {
     "data": {
      "text/plain": [
       "((80L, 2L), (80L, 2L))"
      ]
     },
     "execution_count": 56,
     "metadata": {},
     "output_type": "execute_result"
    }
   ],
   "source": [
    "datMat.shape, np.shape(datMat)"
   ]
  },
  {
   "cell_type": "code",
   "execution_count": 57,
   "metadata": {},
   "outputs": [
    {
     "data": {
      "text/plain": [
       "matrix([[-5.379713, -4.232586]])"
      ]
     },
     "execution_count": 57,
     "metadata": {},
     "output_type": "execute_result"
    },
    {
     "data": {
      "text/plain": [
       "matrix([[ 4.838138,  5.1904  ]])"
      ]
     },
     "execution_count": 57,
     "metadata": {},
     "output_type": "execute_result"
    }
   ],
   "source": [
    "np.min(datMat, axis=0) # np.min(datMat[:,0]) 한번에 구함!! \n",
    "np.max(datMat, axis=0)\n"
   ]
  },
  {
   "cell_type": "code",
   "execution_count": 58,
   "metadata": {
    "scrolled": true
   },
   "outputs": [
    {
     "name": "stdout",
     "output_type": "stream",
     "text": [
      "min_data :  [[-5.379713 -4.232586]]\n",
      "range_data :  [[ 10.217851   9.422986]]\n",
      "random.rand(k,n) :  [[ 0.13771657  0.44450762]\n",
      " [ 0.28359584  0.4391117 ]\n",
      " [ 0.81042234  0.5241579 ]]\n"
     ]
    },
    {
     "data": {
      "text/plain": [
       "matrix([[-0.49731145,  4.35686931],\n",
       "        [-5.34552298, -1.37823941],\n",
       "        [ 1.65595318,  4.66391803]])"
      ]
     },
     "execution_count": 58,
     "metadata": {},
     "output_type": "execute_result"
    }
   ],
   "source": [
    "kMeans.randCent(datMat, 3)"
   ]
  },
  {
   "cell_type": "markdown",
   "metadata": {},
   "source": [
    "#### Listing 10.2 The k-means clustering algorithm"
   ]
  },
  {
   "cell_type": "code",
   "execution_count": 28,
   "metadata": {
    "collapsed": true
   },
   "outputs": [],
   "source": [
    "def kMeans(dataSet, k, distMeas=distEclud, createCent=randCent):\n",
    "    m = shape(dataSet)[0]\n",
    "    clusterAssment = mat(zeros((m,2)))#create mat to assign data points \n",
    "                                      #to a centroid, also holds SE of each point\n",
    "    centroids = createCent(dataSet, k)\n",
    "\n",
    "    clusterChanged = True # Flag\n",
    "    while clusterChanged:\n",
    "        clusterChanged = False\n",
    "        for i in range(m):#for each data point assign it to the closest centroid\n",
    "            minDist = inf; minIndex = -1\n",
    "            # 모든 centoid 에 대해 거리를 구함\n",
    "            for j in range(k):\n",
    "                # 인스턴스 모든 컬럼의 거리를 구해서 \n",
    "                distJI = distMeas(centroids[j,:],dataSet[i,:])\n",
    "                # 최소거리 update\n",
    "                if distJI < minDist:\n",
    "                    minDist = distJI; minIndex = j\n",
    "            \n",
    "            # 각 row에 대한 min 값이면\n",
    "            if clusterAssment[i,0] != minIndex: clusterChanged = True\n",
    "    \n",
    "            # 인덱스, 오차거리제곱(오차가 줄어드는 방향으로 중심을 옮김)\n",
    "            clusterAssment[i,:] = minIndex,minDist**2 # 오차 제곱을 같이 저장하겠다!! \n",
    "            \n",
    "        print centroids\n",
    "        \n",
    "        # centroids 중심값 update\n",
    "        for cent in range(k):#recalculate centroids\n",
    "            ptsInClust = dataSet[nonzero(clusterAssment[:,0].A==cent)[0]]#get all the point in this cluster\n",
    "            centroids[cent,:] = mean(ptsInClust, axis=0) #assign centroid to mean \n",
    "    \n",
    "    return centroids, clusterAssment\n"
   ]
  },
  {
   "cell_type": "code",
   "execution_count": 89,
   "metadata": {
    "scrolled": true
   },
   "outputs": [
    {
     "data": {
      "text/plain": [
       "<module 'kMeans' from 'kMeans.pyc'>"
      ]
     },
     "execution_count": 89,
     "metadata": {},
     "output_type": "execute_result"
    }
   ],
   "source": [
    "reload(kMeans)"
   ]
  },
  {
   "cell_type": "code",
   "execution_count": 90,
   "metadata": {
    "collapsed": true
   },
   "outputs": [],
   "source": [
    "datMat = mat(kMeans.loadDataSet('testSet.txt'))"
   ]
  },
  {
   "cell_type": "code",
   "execution_count": 91,
   "metadata": {},
   "outputs": [
    {
     "name": "stdout",
     "output_type": "stream",
     "text": [
      "min_data :  [[-5.379713 -4.232586]]\n",
      "range_data :  [[ 10.217851   9.422986]]\n",
      "random.rand(k,n) :  [[ 0.3165729   0.90208219]\n",
      " [ 0.64218639  0.89409028]\n",
      " [ 0.96156286  0.97856787]\n",
      " [ 0.09096384  0.32963708]]\n",
      "================================\n",
      "[[-3.5607668   2.37217322]\n",
      " [-4.08217677 -2.68367767]\n",
      " [-0.56966569  5.16391809]\n",
      " [-0.03337123  0.64288601]]\n",
      "[[-2.768021    2.65028438]\n",
      " [-3.38237045 -2.9473363 ]\n",
      " [ 1.2661867   4.0906182 ]\n",
      " [ 2.67602415 -0.58882088]]\n",
      "[[-2.46154315  2.78737555]\n",
      " [-3.38237045 -2.9473363 ]\n",
      " [ 2.51964406  3.40459212]\n",
      " [ 2.85892461 -2.18846761]]\n",
      "[[-2.46154315  2.78737555]\n",
      " [-3.38237045 -2.9473363 ]\n",
      " [ 2.6265299   3.10868015]\n",
      " [ 2.80293085 -2.7315146 ]]\n"
     ]
    }
   ],
   "source": [
    "myCentroids, clustAssing = kMeans.kMeans(datMat, 4)"
   ]
  },
  {
   "cell_type": "markdown",
   "metadata": {},
   "source": [
    "- 4번 박복한 후에 k-평균이 수렴한 것을 확인할 수 있다."
   ]
  },
  {
   "cell_type": "code",
   "execution_count": 92,
   "metadata": {},
   "outputs": [
    {
     "data": {
      "text/plain": [
       "<matplotlib.collections.PathCollection at 0x9ad2ac8>"
      ]
     },
     "execution_count": 92,
     "metadata": {},
     "output_type": "execute_result"
    },
    {
     "data": {
      "text/plain": [
       "<matplotlib.collections.PathCollection at 0x9ad2a90>"
      ]
     },
     "execution_count": 92,
     "metadata": {},
     "output_type": "execute_result"
    },
    {
     "data": {
      "image/png": "[encoded data removed]",
      "text/plain": [
       "<matplotlib.figure.Figure at 0x86ee2b0>"
      ]
     },
     "metadata": {},
     "output_type": "display_data"
    }
   ],
   "source": [
    "import matplotlib.pyplot as plt\n",
    "\n",
    "%matplotlib inline\n",
    "\n",
    "fig = plt.figure()\n",
    "ax = fig.add_subplot(1,1,1)\n",
    "ax.scatter(datMat.A[:,0],datMat.A[:,1], color='b', s=10) # x축 좌표\n",
    "ax.scatter(myCentroids.A[:,0],myCentroids.A[:,1],marker='+', color='r',s=200)"
   ]
  },
  {
   "cell_type": "code",
   "execution_count": null,
   "metadata": {
    "collapsed": true
   },
   "outputs": [],
   "source": []
  },
  {
   "cell_type": "code",
   "execution_count": 83,
   "metadata": {},
   "outputs": [
    {
     "data": {
      "text/plain": [
       "<module 'kMeans' from 'kMeans.pyc'>"
      ]
     },
     "execution_count": 83,
     "metadata": {},
     "output_type": "execute_result"
    }
   ],
   "source": [
    "reload(kMeans)"
   ]
  },
  {
   "cell_type": "code",
   "execution_count": 85,
   "metadata": {
    "collapsed": true
   },
   "outputs": [],
   "source": [
    "datMat = mat(kMeans.loadDataSet('testSet2.txt'))"
   ]
  },
  {
   "cell_type": "code",
   "execution_count": 86,
   "metadata": {},
   "outputs": [
    {
     "name": "stdout",
     "output_type": "stream",
     "text": [
      "min_data :  [[-4.822011 -4.168078]]\n",
      "range_data :  [[ 9.42901  9.06901]]\n",
      "random.rand(k,n) :  [[ 0.9454095   0.27487176]\n",
      " [ 0.44007849  0.28562196]\n",
      " [ 0.71575679  0.05794272]]\n",
      "================================\n",
      "[[-0.15751322 -2.46952035]\n",
      " [-2.9161827   3.78499196]\n",
      " [ 0.60035552  4.45508608]]\n",
      "[[-0.32150057 -2.62473743]\n",
      " [-3.06779095  3.33769884]\n",
      " [ 2.77880875  3.26115075]]\n",
      "[[-0.45965615 -2.7782156 ]\n",
      " [-2.94737575  3.3263781 ]\n",
      " [ 2.93386365  3.12782785]]\n"
     ]
    }
   ],
   "source": [
    "myCentroids, clustAssing = kMeans.kMeans(datMat, 3)"
   ]
  },
  {
   "cell_type": "code",
   "execution_count": 88,
   "metadata": {},
   "outputs": [
    {
     "data": {
      "text/plain": [
       "<matplotlib.collections.PathCollection at 0x98c84e0>"
      ]
     },
     "execution_count": 88,
     "metadata": {},
     "output_type": "execute_result"
    },
    {
     "data": {
      "text/plain": [
       "<matplotlib.collections.PathCollection at 0x98c8588>"
      ]
     },
     "execution_count": 88,
     "metadata": {},
     "output_type": "execute_result"
    },
    {
     "data": {
      "image/png": "[encoded data removed]",
      "text/plain": [
       "<matplotlib.figure.Figure at 0x9752048>"
      ]
     },
     "metadata": {},
     "output_type": "display_data"
    }
   ],
   "source": [
    "import matplotlib.pyplot as plt\n",
    "\n",
    "%matplotlib inline\n",
    "\n",
    "fig = plt.figure()\n",
    "ax = fig.add_subplot(1,1,1)\n",
    "ax.scatter(datMat.A[:,0],datMat.A[:,1], color='b', s=10) # x축 좌표\n",
    "ax.scatter(myCentroids.A[:,0],myCentroids.A[:,1],marker='+', color='r',s=200)"
   ]
  },
  {
   "cell_type": "markdown",
   "metadata": {},
   "source": [
    "### 10.2 Improving cluster performance with postprocessing\n",
    "##### Local minimum에 빠지면 잘 못찾을 때도 있다!!! \n",
    "- 그래서 후처리로 군집 성능 개선이 필요하다!!! \n",
    "- 할당된 군집의 질을 측정하는 데 사용되는 방법으로 SSE(오류 제곱의 합, sum of squared error)가 있다. \n",
    "    - SSE가 가장 높은 군집을 두 개의 군집으로 분할하는 것이다!\n",
    "    \n",
    "    \n",
    "    \n",
    "- merge하는 2가지 방법\n",
    "    - Two quantifiable ideas are merging the closest centroids or \n",
    "        - 가장 가까운 중심끼리 병합하거나\n",
    "    - merging the two centroids that increase the total SSE the least.\n",
    "        - 2개의 중심을 merge하는 조합중에 SSE가 가장 적게 증가하는 것을 선택"
   ]
  },
  {
   "cell_type": "markdown",
   "metadata": {},
   "source": [
    "### 10.3 Bisecting k-means\n",
    "이것은 하나의 군집을 두 개로 분할한다. "
   ]
  },
  {
   "cell_type": "raw",
   "metadata": {},
   "source": [
    "Pseudocode for bisecting k-means will look like this:\n",
    "\n",
    "Start with all the points in one cluster\n",
    "// \n",
    "While the number of clusters is less than k\n",
    "\n",
    "    for every cluster\n",
    "\n",
    "        measure total error\n",
    "        \n",
    "        perform k-means clustering with k=2 on the given cluster\n",
    "        \n",
    "        measure total error after k-means has split the cluster in two\n",
    "    \n",
    "    choose the cluster split that gives the lowest error and commit this split\n"
   ]
  },
  {
   "cell_type": "markdown",
   "metadata": {},
   "source": [
    "#### Listing 10.3 The bisecting k-means clustering algorithm"
   ]
  },
  {
   "cell_type": "code",
   "execution_count": 108,
   "metadata": {
    "collapsed": true
   },
   "outputs": [],
   "source": [
    "def biKmeans(dataSet, k, distMeas=distEclud):\n",
    "\n",
    "    m = shape(dataSet)[0]\n",
    "    clusterAssment = mat(zeros((m,2)))\n",
    "    centroid0 = mean(dataSet, axis=0).tolist()[0]\n",
    "    centList =[centroid0] #create a list with one centroid\n",
    "    \n",
    "    for j in range(m):#calculate initial Error\n",
    "        clusterAssment[j,1] = distMeas(mat(centroid0), dataSet[j,:])**2\n",
    "    \n",
    "    while (len(centList) < k): # 중심점을 k개 전까지 계속\n",
    "        \n",
    "        lowestSSE = inf\n",
    "        for i in range(len(centList)):\n",
    "            ptsInCurrCluster =\\\n",
    "                dataSet[nonzero(clusterAssment[:,0].A==i)[0],:]#get the data points currently in cluster i\n",
    "            \n",
    "            # 이등분 하겠다.\n",
    "            centroidMat, splitClustAss =\\\n",
    "                kMeans(ptsInCurrCluster, 2, distMeas) # 나눠야 할 점들, 몇개로, 거리평균함수 \n",
    "                \n",
    "            # split 했을 때 sum of square    \n",
    "            sseSplit = sum(splitClustAss[:,1])#compare the SSE to the currrent minimum\n",
    "            \n",
    "            sseNotSplit = sum(clusterAssment[nonzero(clusterAssment[:,0].A!=i)[0],1])\n",
    "            \n",
    "            print \"sseSplit, and notSplit: \",sseSplit,sseNotSplit # 분할후 SSE / 분할전 SSE\n",
    "            \n",
    "            if (sseSplit + sseNotSplit) < lowestSSE: # 왜 더함?! \n",
    "                bestCentToSplit = i\n",
    "                bestNewCents = centroidMat\n",
    "                bestClustAss = splitClustAss.copy()\n",
    "                lowestSSE = sseSplit + sseNotSplit\n",
    "                \n",
    "        bestClustAss[nonzero(bestClustAss[:,0].A == 1)[0],0] = len(centList) #change 1 to 3,4, or whatever\n",
    "        bestClustAss[nonzero(bestClustAss[:,0].A == 0)[0],0] = bestCentToSplit\n",
    "        print 'the bestCentToSplit is: ',bestCentToSplit\n",
    "        print 'the len of bestClustAss is: ', len(bestClustAss)\n",
    "        centList[bestCentToSplit] = bestNewCents[0,:].tolist()[0]#replace a centroid with two best centroids \n",
    "        centList.append(bestNewCents[1,:].tolist()[0])\n",
    "        clusterAssment[nonzero(clusterAssment[:,0].A == bestCentToSplit)[0],:]= bestClustAss#reassign new clusters, and SSE\n",
    "\n",
    "    return mat(centList), clusterAssment\n"
   ]
  },
  {
   "cell_type": "code",
   "execution_count": 94,
   "metadata": {
    "collapsed": true
   },
   "outputs": [],
   "source": [
    "datMat3 = np.mat(kMeans.loadDataSet('testSet2.txt'))"
   ]
  },
  {
   "cell_type": "code",
   "execution_count": 110,
   "metadata": {
    "scrolled": false
   },
   "outputs": [
    {
     "name": "stdout",
     "output_type": "stream",
     "text": [
      "min_data :  [[-4.822011 -4.168078]]\n",
      "range_data :  [[ 9.42901  9.06901]]\n",
      "random.rand(k,n) :  [[ 0.87369217  0.3003431 ]\n",
      " [ 0.61242082  0.83835912]]\n",
      "================================\n",
      "[[-0.26408429 -1.20852489]\n",
      " [ 1.06770742  0.71981397]]\n",
      "[[-0.74459109 -2.39373345]\n",
      " [ 0.18204313  3.32057745]]\n",
      "[[-0.45965615 -2.7782156 ]\n",
      " [-0.00675605  3.22710297]]\n",
      "sseSplit, and notSplit:  453.033489581 0.0\n",
      "the bestCentToSplit is:  0\n",
      "the len of bestClustAss is:  60\n",
      "min_data :  [[-1.881012 -4.168078]]\n",
      "range_data :  [[ 2.726774  3.283645]]\n",
      "random.rand(k,n) :  [[ 0.93757431  0.62217555]\n",
      " [ 0.3081817   0.18462062]]\n",
      "================================\n",
      "[[-0.59662248 -2.92186274]\n",
      " [-1.56920967 -1.23297741]]\n",
      "[[-0.15366667 -3.15354   ]\n",
      " [-1.3776246  -1.6522424 ]]\n",
      "[[-0.05200457 -3.16610557]\n",
      " [-1.41084317 -1.873139  ]]\n",
      "[[ -7.11923077e-04  -3.21792031e+00]\n",
      " [ -1.31198114e+00  -1.96162114e+00]]\n",
      "[[ 0.07973025 -3.24942808]\n",
      " [-1.26873575 -2.07139688]]\n",
      "[[ 0.19848727 -3.24320436]\n",
      " [-1.26405367 -2.209896  ]]\n",
      "[[ 0.2642961 -3.3057243]\n",
      " [-1.1836084 -2.2507069]]\n",
      "[[ 0.35496167 -3.36033556]\n",
      " [-1.12616164 -2.30193564]]\n",
      "sseSplit, and notSplit:  12.7532631369 423.876240137\n",
      "min_data :  [[-4.822011  0.444826]]\n",
      "range_data :  [[ 9.42901   4.456106]]\n",
      "random.rand(k,n) :  [[ 0.19567015  0.81781204]\n",
      " [ 0.9399252   0.58879494]]\n",
      "================================\n",
      "[[-2.47354507  2.56291998]\n",
      " [ 3.3158235   2.80426937]]\n",
      "[[-2.94737575  3.3263781 ]\n",
      " [ 2.93386365  3.12782785]]\n",
      "sseSplit, and notSplit:  77.5922493178 29.1572494441\n",
      "the bestCentToSplit is:  1\n",
      "the len of bestClustAss is:  40\n",
      "min_data :  [[-1.881012 -4.168078]]\n",
      "range_data :  [[ 2.726774  3.283645]]\n",
      "random.rand(k,n) :  [[ 0.96213738  0.82772363]\n",
      " [ 0.00915498  0.81201008]]\n",
      "================================\n",
      "[[ 0.68244156 -1.16841196]\n",
      " [-1.74088642 -1.8694316 ]]\n",
      "[[ 0.54043243 -3.17634329]\n",
      " [-0.99816538 -2.56383915]]\n",
      "[[ 0.35496167 -3.36033556]\n",
      " [-1.12616164 -2.30193564]]\n",
      "sseSplit, and notSplit:  12.7532631369 77.5922493178\n",
      "min_data :  [[-4.822011  1.325108]]\n",
      "range_data :  [[ 4.162524  3.575824]]\n",
      "random.rand(k,n) :  [[ 0.73750589  0.46993564]\n",
      " [ 0.1328945   0.61168616]]\n",
      "================================\n",
      "[[-2.87473111  4.14474278]\n",
      " [-3.57600243  2.52476752]]\n",
      "[[-2.80416875  3.91101575]\n",
      " [-3.16218625  2.44942162]]\n",
      "sseSplit, and notSplit:  27.1936678363 68.6865481262\n",
      "min_data :  [[ 1.148946  0.444826]]\n",
      "range_data :  [[ 3.458053  4.418753]]\n",
      "random.rand(k,n) :  [[ 0.93716516  0.2236765 ]\n",
      " [ 0.8057399   0.92090624]]\n",
      "================================\n",
      "[[ 4.12889664  4.08547786]\n",
      " [ 1.36276854  2.72991909]]\n",
      "[[ 3.67342627  3.26508291]\n",
      " [ 2.02995378  2.96007167]]\n",
      "[[ 3.71339464  3.09839336]\n",
      " [ 1.98110356  3.16380333]]\n",
      "[[ 3.7991533  3.0599026]\n",
      " [ 2.068574   3.1957531]]\n",
      "sseSplit, and notSplit:  24.4624983224 67.2202000798\n",
      "the bestCentToSplit is:  0\n",
      "the len of bestClustAss is:  20\n",
      "min_data :  [[-0.559558 -4.168078]]\n",
      "range_data :  [[ 1.40532   1.795432]]\n",
      "random.rand(k,n) :  [[ 0.95513956  0.56271416]\n",
      " [ 0.97842133  0.16601117]]\n",
      "================================\n",
      "[[-0.44768544 -4.08462035]\n",
      " [ 0.58592291 -3.03785508]]\n",
      "[[-0.294186   -4.0043085 ]\n",
      " [ 0.54043243 -3.17634329]]\n",
      "sseSplit, and notSplit:  1.92907161962 86.2664852302\n",
      "min_data :  [[-4.822011  1.325108]]\n",
      "range_data :  [[ 4.162524  3.575824]]\n",
      "random.rand(k,n) :  [[ 0.59064767  0.806811  ]\n",
      " [ 0.65630935  0.97948587]]\n",
      "================================\n",
      "[[-3.0968374   2.02538462]\n",
      " [-2.83979763  1.43635799]]\n",
      "[[-2.93010511  3.41844705]\n",
      " [-3.275518    1.577068  ]]\n",
      "[[-2.87553522  3.53474367]\n",
      " [-3.5939405   1.451088  ]]\n",
      "sseSplit, and notSplit:  29.319041891 52.282561819\n",
      "min_data :  [[ 1.148946  0.444826]]\n",
      "range_data :  [[ 3.458053  4.418753]]\n",
      "random.rand(k,n) :  [[ 0.81816172  0.28493104]\n",
      " [ 0.02567439  0.85882122]]\n",
      "================================\n",
      "[[ 1.46817493  2.55094941]\n",
      " [ 4.3191098   2.5212176 ]]\n",
      "[[ 2.068574   3.1957531]\n",
      " [ 3.7991533  3.0599026]]\n",
      "sseSplit, and notSplit:  24.4624983224 50.8162137725\n",
      "min_data :  [[-1.881012 -3.317889]]\n",
      "range_data :  [[ 1.421411  2.433456]]\n",
      "random.rand(k,n) :  [[ 0.72168692  0.24220227]\n",
      " [ 0.86661224  0.68596701]]\n",
      "================================\n",
      "[[-0.83528172 -1.82061306]\n",
      " [-1.27155606 -1.46502902]]\n",
      "[[-0.87942171 -2.64427886]\n",
      " [-1.5579565  -1.702835  ]]\n",
      "[[-0.91660917 -2.84334667]\n",
      " [-1.3776246  -1.6522424 ]]\n",
      "sseSplit, and notSplit:  4.22533244743 81.6712765422\n",
      "the bestCentToSplit is:  2\n",
      "the len of bestClustAss is:  20\n"
     ]
    }
   ],
   "source": [
    "centList, myNewAssments = kMeans.biKmeans(datMat3, 5)"
   ]
  },
  {
   "cell_type": "code",
   "execution_count": 111,
   "metadata": {},
   "outputs": [
    {
     "data": {
      "text/plain": [
       "<matplotlib.collections.PathCollection at 0xa51c6d8>"
      ]
     },
     "execution_count": 111,
     "metadata": {},
     "output_type": "execute_result"
    },
    {
     "data": {
      "text/plain": [
       "<matplotlib.collections.PathCollection at 0xa51cda0>"
      ]
     },
     "execution_count": 111,
     "metadata": {},
     "output_type": "execute_result"
    },
    {
     "data": {
      "image/png": "[encoded data removed]",
      "text/plain": [
       "<matplotlib.figure.Figure at 0xa38d208>"
      ]
     },
     "metadata": {},
     "output_type": "display_data"
    }
   ],
   "source": [
    "# import matplotlib.pyplot as plt\n",
    "#%matplotlib inline\n",
    "fig = plt.figure()\n",
    "ax = fig.add_subplot(1,1,1)\n",
    "ax.scatter(datMat3.A[:,0],datMat3.A[:,1], color='b', s=10) # x축 좌표\n",
    "ax.scatter(centList.A[:,0], centList.A[:,1],marker='+', color='r',s=200)"
   ]
  },
  {
   "cell_type": "markdown",
   "metadata": {},
   "source": [
    "### 10.4 Example: clustering points on a map"
   ]
  },
  {
   "cell_type": "markdown",
   "metadata": {},
   "source": [
    "Example: using bisecting k-means on geographic data\n",
    "1. Collect: \n",
    "    - Use the Yahoo! PlaceFinder API to collect data.\n",
    "2. Prepare: \n",
    "    - Remove all data except latitude and longitude.\n",
    "3. Analyze: \n",
    "    - Use Matplotlib to make 2D plots of our data, with clusters and map.\n",
    "4. Train: \n",
    "    - Doesn’t apply to unsupervised learning.\n",
    "5. Test: \n",
    "    - Use biKmeans(), developed in section 10.4.\n",
    "6. Use: \n",
    "    - The final product will be your map with the clusters and cluster centers."
   ]
  },
  {
   "cell_type": "markdown",
   "metadata": {},
   "source": [
    "#### Listing 10.4 Yahoo! PlaceFinder API"
   ]
  },
  {
   "cell_type": "code",
   "execution_count": 112,
   "metadata": {
    "collapsed": true
   },
   "outputs": [],
   "source": [
    "import urllib\n",
    "import json\n",
    "def geoGrab(stAddress, city):\n",
    "    apiStem = 'http://where.yahooapis.com/geocode?'  #create a dict and constants for the goecoder\n",
    "    params = {}\n",
    "    params['flags'] = 'J'#JSON return type\n",
    "    params['appid'] = 'aaa0VN6k'\n",
    "    params['location'] = '%s %s' % (stAddress, city)\n",
    "    url_params = urllib.urlencode(params)\n",
    "    yahooApi = apiStem + url_params      #print url_params\n",
    "    print yahooApi\n",
    "    c=urllib.urlopen(yahooApi)\n",
    "    return json.loads(c.read())\n",
    "\n",
    "from time import sleep\n",
    "def massPlaceFind(fileName):\n",
    "    fw = open('places.txt', 'w')\n",
    "    for line in open(fileName).readlines():\n",
    "        line = line.strip()\n",
    "        lineArr = line.split('\\t')\n",
    "        retDict = geoGrab(lineArr[1], lineArr[2])\n",
    "        if retDict['ResultSet']['Error'] == 0:\n",
    "            lat = float(retDict['ResultSet']['Results'][0]['latitude'])\n",
    "            lng = float(retDict['ResultSet']['Results'][0]['longitude'])\n",
    "            print \"%s\\t%f\\t%f\" % (lineArr[0], lat, lng)\n",
    "            fw.write('%s\\t%f\\t%f\\n' % (line, lat, lng))\n",
    "        else: print \"error fetching\"\n",
    "        sleep(1)\n",
    "    fw.close()"
   ]
  },
  {
   "cell_type": "markdown",
   "metadata": {},
   "source": [
    "### 10.4.2 Clustering geographic coordinates"
   ]
  },
  {
   "cell_type": "markdown",
   "metadata": {},
   "source": [
    "#### Listing 10.5 Spherical distance measure and cluster-plotting functions (구면상의 거리를 측정 및 군집하는 Plot 함수)"
   ]
  },
  {
   "cell_type": "code",
   "execution_count": 113,
   "metadata": {
    "collapsed": true
   },
   "outputs": [],
   "source": [
    "def distSLC(vecA, vecB):#Spherical Law of Cosines\n",
    "    a = sin(vecA[0,1]*pi/180) * sin(vecB[0,1]*pi/180)\n",
    "    b = cos(vecA[0,1]*pi/180) * cos(vecB[0,1]*pi/180) * \\\n",
    "                      cos(pi * (vecB[0,0]-vecA[0,0]) /180)\n",
    "    return arccos(a + b)*6371.0 #pi is imported with numpy\n",
    "\n",
    "import matplotlib\n",
    "import matplotlib.pyplot as plt\n",
    "def clusterClubs(numClust=5):\n",
    "    datList = []\n",
    "    for line in open('places.txt').readlines(): # 4개 column이 있지.\n",
    "        lineArr = line.split('\\t')\n",
    "        datList.append([float(lineArr[4]), float(lineArr[3])])\n",
    "    datMat = mat(datList)\n",
    "    myCentroids, clustAssing = biKmeans(datMat, numClust, distMeas=distSLC)\n",
    "    fig = plt.figure()\n",
    "    rect=[0.1,0.1,0.8,0.8]\n",
    "    scatterMarkers=['s', 'o', '^', '8', 'p', \\\n",
    "                    'd', 'v', 'h', '>', '<']\n",
    "    axprops = dict(xticks=[], yticks=[])\n",
    "    ax0=fig.add_axes(rect, label='ax0', **axprops)\n",
    "    imgP = plt.imread('Portland.png')\n",
    "    ax0.imshow(imgP)\n",
    "    ax1=fig.add_axes(rect, label='ax1', frameon=False)\n",
    "    for i in range(numClust):\n",
    "        ptsInCurrCluster = datMat[nonzero(clustAssing[:,0].A==i)[0],:]\n",
    "        markerStyle = scatterMarkers[i % len(scatterMarkers)]\n",
    "        ax1.scatter(ptsInCurrCluster[:,0].flatten().A[0], ptsInCurrCluster[:,1].flatten().A[0], marker=markerStyle, s=90)\n",
    "    ax1.scatter(myCentroids[:,0].flatten().A[0], myCentroids[:,1].flatten().A[0], marker='+', s=300)\n",
    "    plt.show()"
   ]
  },
  {
   "cell_type": "code",
   "execution_count": null,
   "metadata": {
    "collapsed": true
   },
   "outputs": [],
   "source": []
  },
  {
   "cell_type": "code",
   "execution_count": 115,
   "metadata": {},
   "outputs": [
    {
     "name": "stdout",
     "output_type": "stream",
     "text": [
      "min_data :  [[-122.842918   45.382682]]\n",
      "range_data :  [[ 0.466614  0.264149]]\n",
      "random.rand(k,n) :  [[ 0.88926815  0.08636908]\n",
      " [ 0.99696671  0.11321619]]\n",
      "================================\n",
      "[[-122.44653209   45.49573743]\n",
      " [-122.51851799   45.62923634]]\n",
      "[[-122.59138469   45.48359997]\n",
      " [-122.67315276   45.54185774]]\n",
      "[[-122.57243797   45.49205903]\n",
      " [-122.68597792   45.53086706]]\n",
      "[[-122.56618      45.50641903]\n",
      " [-122.70740619   45.51911431]]\n",
      "[[-122.56409551   45.51016235]\n",
      " [-122.70981637   45.51478609]]\n",
      "sseSplit, and notSplit:  3073.83037159 0.0\n",
      "the bestCentToSplit is:  0\n",
      "the len of bestClustAss is:  69\n",
      "min_data :  [[-122.638846   45.39907 ]]\n",
      "range_data :  [[ 0.262542  0.163645]]\n",
      "random.rand(k,n) :  [[ 0.62102226  0.00727028]\n",
      " [ 0.49040157  0.7532977 ]]\n",
      "================================\n",
      "[[-122.62006293   45.53975184]\n",
      " [-122.57940911   45.55778194]]\n",
      "[[-122.613193     45.47913283]\n",
      " [-122.54052872   45.52505652]]\n",
      "sseSplit, and notSplit:  917.077476645 1685.03052602\n",
      "min_data :  [[-122.842918   45.382682]]\n",
      "range_data :  [[ 0.201804  0.264149]]\n",
      "random.rand(k,n) :  [[ 0.78241771  0.66291709]\n",
      " [ 0.2320103   0.93508947]]\n",
      "================================\n",
      "[[-122.72942546   45.60795421]\n",
      " [-122.78688015   45.41900726]]\n",
      "[[-122.68565305   45.54700353]\n",
      " [-122.745132     45.46769908]]\n",
      "[[-122.68369975   45.54392315]\n",
      " [-122.75334408   45.46622433]]\n",
      "sseSplit, and notSplit:  904.145017658 1388.79984556\n",
      "the bestCentToSplit is:  1\n",
      "the len of bestClustAss is:  32\n",
      "min_data :  [[-122.638846   45.39907 ]]\n",
      "range_data :  [[ 0.262542  0.163645]]\n",
      "random.rand(k,n) :  [[  1.21789278e-01   5.50479590e-04]\n",
      " [  6.59095011e-01   3.63334491e-01]]\n",
      "================================\n",
      "[[-122.59607151   45.47974806]\n",
      " [-122.42584069   45.54212015]]\n",
      "[[-122.58085909   45.51235422]\n",
      " [-122.4568086    45.4961344 ]]\n",
      "sseSplit, and notSplit:  970.398270994 904.145017658\n",
      "min_data :  [[-122.842918   45.485396]]\n",
      "range_data :  [[ 0.201804  0.161435]]\n",
      "random.rand(k,n) :  [[ 0.27700161  0.14488485]\n",
      " [ 0.29017023  0.18352464]]\n",
      "================================\n",
      "[[-122.68924733   45.58068048]\n",
      " [-122.77732939   45.49106961]]\n",
      "[[-122.68565305   45.54700353]\n",
      " [-122.646587     45.485396  ]]\n",
      "[[-122.69101275   45.55387731]\n",
      " [-122.65444775   45.5041065 ]]\n",
      "[[-122.71405737   45.5832405 ]\n",
      " [-122.66346133   45.51771158]]\n",
      "[[-122.72072414   45.59011757]\n",
      " [-122.66376354   45.51904923]]\n",
      "[[-122.72070683   45.59796783]\n",
      " [-122.66783957   45.52076114]]\n",
      "sseSplit, and notSplit:  231.391073961 1680.79438078\n",
      "min_data :  [[-122.800311   45.382682]]\n",
      "range_data :  [[ 0.140026  0.125521]]\n",
      "random.rand(k,n) :  [[ 0.1760974   0.41185565]\n",
      " [ 0.14860242  0.53666869]]\n",
      "================================\n",
      "[[-122.73536682   45.43490367]\n",
      " [-122.79675937   45.43658204]]\n",
      "[[-122.72380383   45.43821817]\n",
      " [-122.78288433   45.4942305 ]]\n",
      "sseSplit, and notSplit:  111.983658539 2000.95032801\n",
      "the bestCentToSplit is:  0\n",
      "the len of bestClustAss is:  37\n",
      "min_data :  [[-122.638846   45.39907 ]]\n",
      "range_data :  [[ 0.115997  0.163645]]\n",
      "random.rand(k,n) :  [[ 0.98328822  0.29769733]\n",
      " [ 0.04120554  0.73244701]]\n",
      "================================\n",
      "[[-122.562575     45.40557643]\n",
      " [-122.56137197   45.4720203 ]]\n",
      "[[-122.626526     45.413071  ]\n",
      " [-122.57781463   45.5189731 ]]\n",
      "[[-122.63063267   45.42943833]\n",
      " [-122.5757101    45.52093172]]\n",
      "sseSplit, and notSplit:  498.122491558 1045.13965934\n",
      "min_data :  [[-122.842918   45.485396]]\n",
      "range_data :  [[ 0.201804  0.161435]]\n",
      "random.rand(k,n) :  [[ 0.16292727  0.55463243]\n",
      " [ 0.1539155   0.24892383]]\n",
      "================================\n",
      "[[-122.71637139   45.52322279]\n",
      " [-122.78853399   45.60817942]]\n",
      "[[-122.66901712   45.53185418]\n",
      " [-122.76690133   45.612314  ]]\n",
      "sseSplit, and notSplit:  260.014535934 1262.39280621\n",
      "min_data :  [[-122.800311   45.382682]]\n",
      "range_data :  [[ 0.140026  0.125521]]\n",
      "random.rand(k,n) :  [[ 0.52083487  0.9148578 ]\n",
      " [ 0.84287365  0.53402022]]\n",
      "================================\n",
      "[[-122.71926971   45.41400194]\n",
      " [-122.67872758   45.45806431]]\n",
      "[[-122.7458315    45.42503625]\n",
      " [-122.75710037   45.48681838]]\n",
      "sseSplit, and notSplit:  164.051401972 1582.54875344\n",
      "min_data :  [[-122.500034   45.430319]]\n",
      "range_data :  [[ 0.12373   0.088823]]\n",
      "random.rand(k,n) :  [[ 0.05438476  0.17603966]\n",
      " [ 0.07596705  0.20882357]]\n",
      "================================\n",
      "[[-122.49728827   45.51588066]\n",
      " [-122.48358664   45.51642228]]\n",
      "[[-122.499853     45.511795  ]\n",
      " [-122.42811233   45.485694  ]]\n",
      "[[-122.494062    45.514244 ]\n",
      " [-122.4009285   45.46897  ]]\n",
      "sseSplit, and notSplit:  47.318362031 1733.54864698\n",
      "the bestCentToSplit is:  1\n",
      "the len of bestClustAss is:  20\n"
     ]
    },
    {
     "data": {
      "image/png": "[encoded data removed]",
      "text/plain": [
       "<matplotlib.figure.Figure at 0xa383b38>"
      ]
     },
     "metadata": {},
     "output_type": "display_data"
    }
   ],
   "source": [
    "kMeans.clusterClubs()"
   ]
  },
  {
   "cell_type": "code",
   "execution_count": null,
   "metadata": {
    "collapsed": true
   },
   "outputs": [],
   "source": []
  }
 ],
 "metadata": {
  "kernelspec": {
   "display_name": "Python 2",
   "language": "python",
   "name": "python2"
  },
  "language_info": {
   "codemirror_mode": {
    "name": "ipython",
    "version": 2
   },
   "file_extension": ".py",
   "mimetype": "text/x-python",
   "name": "python",
   "nbconvert_exporter": "python",
   "pygments_lexer": "ipython2",
   "version": "2.7.13"
  }
 },
 "nbformat": 4,
 "nbformat_minor": 2
}
