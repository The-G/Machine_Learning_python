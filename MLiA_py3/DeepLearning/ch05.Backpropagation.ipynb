{
 "cells": [
  {
   "cell_type": "markdown",
   "metadata": {},
   "source": [
    "# 역전파 알고리즘\n",
    "- Supervised Learning\n",
    "- 전파(propagation) 단계\n",
    "    - 학습 데이터로부터 실제 출력값을 구하고 목적값(정답)과 실제 출력값의 차이인 오차를 계산하여 각층에 대해 역순으로 전달\n",
    "- 가중치 갱신 / 수정 단계\n",
    "    - 전파된 오차를 이용하여 가중치를 갱신\n",
    "- 은닉층이 포함된 <span style=\"color:red\">다층 신경망</span>을 학습할 수 있는 알고리즘\n",
    "    - 역전파 이전에는 은닉층의 목적값(정답)을 결정할 수 없었기 때문에 2층 이상의 신경망을 학습시킬 수 없었음\n",
    "    \n",
    "    \n",
    "- http://untitledtblog.tistory.com/90 (수식정리 참고)\n",
    "- http://llnntms.tistory.com/31 (개념 및 수식정리 참고)"
   ]
  },
  {
   "cell_type": "markdown",
   "metadata": {},
   "source": [
    "- 최종 타겟만 알지 은닉층의 값이 무엇이 나와야 하는지는 알 수 없었지... back propagation 전에는\n",
    "- 은닉층의 타겟값을 만들어 줘서, 은닉층 예측값과 비교해서 조정!?! \n",
    "- weight를 얼마만큼 조정하면, 출력의 오차가 얼마만큼 변하는지. 그것을 층마다 해주는거다. \n",
    "<img src=\"picture/back_propagation_math.png\" />"
   ]
  },
  {
   "cell_type": "markdown",
   "metadata": {},
   "source": [
    "### 계산 그래프\n",
    "- Computation graph\n",
    "    - 계산 과정을 그래프로 나타낸 것\n",
    "        - 노드(node): 연산 내용\n",
    "        - 에지(edge): 값, 계산 결과\n",
    "        \n",
    "    - 계산 그래프를 이용한 문제 풀이\n",
    "        - 계산 그래프 구성\n",
    "        - 그래프에서 계산을 왼쪽에서 오른쪽으로 진행\n",
    "            - 순전파(forward-propagation)\n",
    "        - 오른쪽에서 왼쪽으로 계산 진행\n",
    "            - 역전파(back-propagation) - 역전파는 미분값을 넘겨주게 되어 있다."
   ]
  },
  {
   "cell_type": "markdown",
   "metadata": {},
   "source": [
    "### 계산 그래프에 익숙해지기\n",
    "- 문제1: 맹구는 슈퍼에서 1개에 100원인 사과를 2개 샀습니다. 이때 지불 금액을 구하세요. 단, 소비세가 10% 부과됩니다.\n",
    "<img src=\"picture/calculate graph.png\" />"
   ]
  },
  {
   "cell_type": "markdown",
   "metadata": {},
   "source": [
    "- 문제2: 맹구는 슈퍼에서 사과를 2개, 귤을 3개 샀습니다. 사과는 1개에 100원, 귤은 1개에 150원입니다. 소비세가 10%일 때 치를 금액을 구하세요. (덧셈이 추가됨)\n",
    "\n",
    "<img src=\"picture/calculate graph2.png\" />"
   ]
  },
  {
   "cell_type": "markdown",
   "metadata": {},
   "source": [
    "### 국소적 계산\n",
    "- 계산 그래프\n",
    "    - 국소적 계산 결과를 전파함으로써 최종 결과를 얻음\n",
    "        - 전체에서 어떤 일이 벌어지든 상관없이 자신과 관계된 정보만으로 충분\n",
    "    - 국소적\n",
    "        - 자신과 직접 관련된 작은 범위"
   ]
  },
  {
   "cell_type": "markdown",
   "metadata": {},
   "source": [
    "<img src=\"picture/calculate graph3.png\" />"
   ]
  },
  {
   "cell_type": "markdown",
   "metadata": {},
   "source": [
    "### 왜 계산 그리프인가?\n",
    "- 계산 그래프의 이점\n",
    "    - 국소적 계산\n",
    "    - 중간 계산 결과 보관\n",
    "    - **역전파를 통해 '미분'을 효율적으로 계산**\n",
    "    - 재귀로 돌리면 된다!! "
   ]
  },
  {
   "cell_type": "markdown",
   "metadata": {},
   "source": [
    "- 역전파에 의한 미분 값의 전달\n",
    "    - '국소적 미분'을 전달\n",
    "    - 사과 1월 오르면 -> 총 금액은 2.2원 오른다.\n",
    "        - 사과 값이 아주 조금 오르면 총 금액은 그 아주 작은 값의 2.2배 만큼 증가"
   ]
  },
  {
   "cell_type": "markdown",
   "metadata": {},
   "source": [
    "<img src=\"picture/calculate graph4.png\" />"
   ]
  },
  {
   "cell_type": "markdown",
   "metadata": {},
   "source": [
    "- 맨 마지막 1은 (최종결과 미분 / 최종결과 미분) 값 이다!! / 미분=변화량 \n",
    "- 2.2는 (총금액 미분 / 사과금액 미분)"
   ]
  },
  {
   "cell_type": "markdown",
   "metadata": {},
   "source": [
    "### 연쇄 법칙(Chain Rule)\n",
    "- 계산 그래프에서 국소적 미분이 역전파로 전달되는 원리\n",
    "- 계산 그래프의 역전파\n",
    "    - 순방향과 반대 방향으로 **국소적 미분**을 **곱**한다.\n",
    "    <img src=\"picture/back_propagation.png\" />\n",
    "    - 연쇄법칙에 의해 가능"
   ]
  },
  {
   "cell_type": "markdown",
   "metadata": {},
   "source": [
    "- 역방향 갈 때 E -> 미분y/미분x -> E*(미분y/미분x) 이라고 생각하자!! "
   ]
  },
  {
   "cell_type": "markdown",
   "metadata": {},
   "source": [
    "### 연쇄 법칙\n",
    "- 합성 함수\n",
    "    - 여러 함수로 구성된 함수\n",
    "    <img src=\"picture/합성함수.PNG\" />\n",
    "    \n",
    "    "
   ]
  },
  {
   "cell_type": "markdown",
   "metadata": {},
   "source": [
    "- 연쇄 법칙\n",
    "    - 합성 함수의 미분은 합성 함수를 구성하는 각 함수의 미분의 곱으로 나타낼 수 있다.\n",
    "    <img src=\"picture/연쇄법칙.PNG\" />"
   ]
  },
  {
   "cell_type": "markdown",
   "metadata": {},
   "source": [
    "- 연쇄 법칙과 계산 그래프\n",
    "<img src=\"picture/연쇄법칙과 계산그래프.png\" />"
   ]
  },
  {
   "cell_type": "markdown",
   "metadata": {},
   "source": [
    "<img src=\"picture/by_me.jpg\" />"
   ]
  },
  {
   "cell_type": "markdown",
   "metadata": {},
   "source": [
    "<img src=\"picture/연쇄법칙과 계산그래프2.png\" />"
   ]
  },
  {
   "cell_type": "markdown",
   "metadata": {},
   "source": [
    "1 X 2(x+y) X 1 이지!! "
   ]
  },
  {
   "cell_type": "markdown",
   "metadata": {},
   "source": [
    "- 덧셈 노드의 역전파\n",
    "    - 역전파된 미분값을 왼쪽으로 그대로 전달\n",
    "    - z = x + y 의 미분 \n",
    "    \n",
    "<img src=\"picture/연쇄법칙과 계산그래프3.png\" />"
   ]
  },
  {
   "cell_type": "markdown",
   "metadata": {},
   "source": [
    "2x+y 면 (미분z/미분x)가 2가 되지!! 근데 극소적으로 보면 2x는 2*x로 하나의 합성함수이지 분리해서 볼 수 있지!! 그래서 일단 덧셈에서는 1을 곱하고 2곱은 뒤 에서 처리 할 수 있지 나눠서!! \n",
    "- 그래서 역전파 \"+\" 일 때는 미분값을 (1곱후) 그냥 넘겨준다고 생각하면 된다!! "
   ]
  },
  {
   "cell_type": "markdown",
   "metadata": {},
   "source": [
    "- 덧셈 노드 역전파의 구체적 예"
   ]
  },
  {
   "cell_type": "markdown",
   "metadata": {},
   "source": [
    "<img src=\"picture/add_back_ex.png\" />"
   ]
  },
  {
   "cell_type": "raw",
   "metadata": {},
   "source": [
    "10 -> 11\n",
    "5 -> 7 \n",
    "이면\n",
    "15 -> 18이지!! \n",
    "그래서 최종 결과 X를 X+1.3*3의 결과로 예측하게 된다."
   ]
  },
  {
   "cell_type": "markdown",
   "metadata": {},
   "source": [
    "- 곱셈 노드의 역전파\n",
    "    - 역전파된 미분값에 순전파 때의 입력신호를 서로 바꾼 값을 곱해서 왼쪽으로 전달\n",
    "    - z = xy의 미분 (편미분 할 수 있지!! )\n",
    "    \n",
    "<img src=\"picture/multiple_backpropagation.png\" />"
   ]
  },
  {
   "cell_type": "markdown",
   "metadata": {},
   "source": [
    "- 뺄셈과 나눗셈도 덧셈과 곱셈을 이용해서 할 수 있지 당연히!!!"
   ]
  },
  {
   "cell_type": "markdown",
   "metadata": {},
   "source": [
    "- 곱셈노드 역전파의 구체적 예"
   ]
  },
  {
   "cell_type": "markdown",
   "metadata": {},
   "source": [
    "<img src=\"picture/multi_ex_backpropagation.png\" />"
   ]
  },
  {
   "cell_type": "raw",
   "metadata": {},
   "source": [
    "10 -> 20 되면 델타 10으로 6.5가 65로 변한다. 6.5영향이 아닌 65의 영향을 미친다. 최종에!!\n",
    "5 -> 10 이면 13 X 5로 65만큼 출력에 영향을 미친다.\n",
    "얼만큼 영향을 미치는 지의 변화를 바꾸게 되네!!!! "
   ]
  },
  {
   "cell_type": "markdown",
   "metadata": {},
   "source": [
    "### 역전파\n",
    "- 사과 쇼핑의 역전파 예\n",
    "    - 사과의 가격의 총 금액에 어떤 영향을 주는가?\n",
    "        - 사과 가격에 대한 지불 금액의 미분\n",
    "    - 사과 개수에 대한 지불 금액의 미분\n",
    "    - 소비세에 대한 지불 금액의 미분\n",
    "    \n",
    "    \n",
    "- 곱으로 역전파 되는 값들의 변화 이해해야 한다. 편미분 한 값을 활용하는 거지!!! \n",
    "\n",
    "\n",
    "<img src=\"picture/apple_back_propagation.png\" />"
   ]
  },
  {
   "cell_type": "raw",
   "metadata": {},
   "source": [
    "EX)\n",
    "사과 가격이 100원에서 150원으로 변하면, 델타(변화량)가 50이지 50*2.2하면 110이다. 그래서 최종금액이 220->330이 된다!! \n",
    "그래서 사과 금액 1원 변화에 최종금액 2.2원이 변한다는 것이다!!!"
   ]
  },
  {
   "cell_type": "markdown",
   "metadata": {},
   "source": [
    "backpropagation에 적어진 Gradient[ex)2.2]의 변화로 최종값의 오차를 변화시키는 것이다!!!"
   ]
  },
  {
   "cell_type": "raw",
   "metadata": {},
   "source": [
    "EX)\n",
    "(델타 총금액 / 델타 사과의개수) = 110이지 위에서!!"
   ]
  },
  {
   "cell_type": "markdown",
   "metadata": {},
   "source": [
    "- 사과와 귤 쇼핑의 역전파 예"
   ]
  },
  {
   "cell_type": "markdown",
   "metadata": {},
   "source": [
    "<img src=\"picture/EX_quiz.png\" />"
   ]
  },
  {
   "cell_type": "raw",
   "metadata": {},
   "source": [
    "채우면, 110 / 2.2 / 3.3 / 165 / 1.1 / 1.1 / 1.1 / 650 / 1 이지!! "
   ]
  },
  {
   "cell_type": "markdown",
   "metadata": {},
   "source": [
    "### 계산 그래프 노드 구현\n",
    "- 곱셈 노드\n",
    "    - MulLayer 클래스 (ch05/layer_navie.py)\n",
    "        - 역전파 때 사용하기 위해 순전파 시 입력값을 저장\n",
    "    - 순전파, 역전파 (ch05/buy_apple.py) "
   ]
  },
  {
   "cell_type": "markdown",
   "metadata": {},
   "source": [
    "- 덧셈 노드\n",
    "    - AddLayer 클래스 (ch05/layer_naive.py)\n",
    "        - 미분을 그대로 전파하므로 입력을 별도로 저장할 필요 없음\n",
    "- 순전파, 역전파 (ch05/buy_apple_orange.py)"
   ]
  },
  {
   "cell_type": "code",
   "execution_count": 2,
   "metadata": {
    "collapsed": true
   },
   "outputs": [],
   "source": [
    "class MulLayer: # 곱셈 노드 class화!\n",
    "    def __init__(self):\n",
    "        self.x = None\n",
    "        self.y = None\n",
    "\n",
    "    def forward(self, x, y): # 순전파!!\n",
    "        self.x = x\n",
    "        self.y = y                \n",
    "        out = x * y\n",
    "\n",
    "        return out\n",
    "\n",
    "    def backward(self, dout): # 역전파!!  # dout 출력값의 미분을 받아서 back 계산! \n",
    "        dx = dout * self.y  # x와 y를 바꾼다. 곱의 편미분 때문에!! \n",
    "        dy = dout * self.x\n",
    "\n",
    "        return dx, dy\n",
    "\n",
    "class AddLayer: # 덧셈 노드 class화!\n",
    "    def __init__(self):\n",
    "        pass # 미분값을 뒤로 그대로 넘겨 주기 때문에!! \n",
    "\n",
    "    def forward(self, x, y):\n",
    "        out = x + y\n",
    "\n",
    "        return out\n",
    "\n",
    "    def backward(self, dout):\n",
    "        dx = dout * 1\n",
    "        dy = dout * 1\n",
    "\n",
    "        return dx, dy"
   ]
  },
  {
   "cell_type": "code",
   "execution_count": 3,
   "metadata": {
    "collapsed": false
   },
   "outputs": [
    {
     "data": {
      "text/plain": [
       "'C:\\\\pydev\\\\Machine_Learning\\\\MLiA_py3\\\\DeepLearning'"
      ]
     },
     "execution_count": 3,
     "metadata": {},
     "output_type": "execute_result"
    }
   ],
   "source": [
    "pwd"
   ]
  },
  {
   "cell_type": "code",
   "execution_count": 6,
   "metadata": {
    "collapsed": false
   },
   "outputs": [
    {
     "name": "stdout",
     "output_type": "stream",
     "text": [
      "C:\\pydev\\Machine_Learning\\MLiA_py3\\DeepLearning\\origin\\ch05\n"
     ]
    }
   ],
   "source": [
    "%cd origin/ch05"
   ]
  },
  {
   "cell_type": "markdown",
   "metadata": {},
   "source": [
    "### 사과 쇼핑 역전파 예 Code ###"
   ]
  },
  {
   "cell_type": "code",
   "execution_count": 8,
   "metadata": {
    "collapsed": true
   },
   "outputs": [],
   "source": [
    "import numpy as np\n",
    "from layer_naive import * "
   ]
  },
  {
   "cell_type": "code",
   "execution_count": 10,
   "metadata": {
    "collapsed": true
   },
   "outputs": [],
   "source": [
    "apple_price = 100\n",
    "apple_num = 2\n",
    "tax = 1.1"
   ]
  },
  {
   "cell_type": "markdown",
   "metadata": {},
   "source": [
    "#### 계산식 구성, 노드 준비"
   ]
  },
  {
   "cell_type": "code",
   "execution_count": 11,
   "metadata": {
    "collapsed": true
   },
   "outputs": [],
   "source": [
    "mul_apple_node = MulLayer() # 곱셈노드!! \n",
    "mul_tax_node = MulLayer()"
   ]
  },
  {
   "cell_type": "markdown",
   "metadata": {},
   "source": [
    "#### 순전파"
   ]
  },
  {
   "cell_type": "code",
   "execution_count": 13,
   "metadata": {
    "collapsed": false
   },
   "outputs": [],
   "source": [
    "apple_total_price = mul_apple_node.forward(apple_price, apple_num)\n",
    "total_price = mul_tax_node.forward(apple_total_price, tax)"
   ]
  },
  {
   "cell_type": "code",
   "execution_count": 14,
   "metadata": {
    "collapsed": false
   },
   "outputs": [
    {
     "name": "stdout",
     "output_type": "stream",
     "text": [
      "220.00000000000003\n"
     ]
    }
   ],
   "source": [
    "print(total_price)"
   ]
  },
  {
   "cell_type": "markdown",
   "metadata": {},
   "source": [
    "#### 역전파"
   ]
  },
  {
   "cell_type": "code",
   "execution_count": 18,
   "metadata": {
    "collapsed": true
   },
   "outputs": [],
   "source": [
    "d_total_price = 1 # (미분 최종금액 / 미분 최종금액)\n",
    "d_apple_total_price, d_tax = mul_tax_node.backward(d_total_price) # return 순서 잘 시켜야 하지!! \n",
    "d_apple_price, d_apple_num = mul_apple_node.backward(d_apple_total_price)"
   ]
  },
  {
   "cell_type": "code",
   "execution_count": 20,
   "metadata": {
    "collapsed": false
   },
   "outputs": [
    {
     "name": "stdout",
     "output_type": "stream",
     "text": [
      "2.2 / 110.00000000000001 / 200\n"
     ]
    }
   ],
   "source": [
    "print(d_apple_price, \"/\", d_apple_num, \"/\", d_tax)"
   ]
  },
  {
   "cell_type": "markdown",
   "metadata": {},
   "source": [
    "### 사과와 귤 쇼핑의 역전파 예 Code ###\n"
   ]
  },
  {
   "cell_type": "code",
   "execution_count": 46,
   "metadata": {
    "collapsed": true
   },
   "outputs": [],
   "source": [
    "import numpy as np\n",
    "from layer_naive import * "
   ]
  },
  {
   "cell_type": "code",
   "execution_count": 47,
   "metadata": {
    "collapsed": true
   },
   "outputs": [],
   "source": [
    "apple_count = 2\n",
    "apple_price = 100\n",
    "orange_price = 150\n",
    "orange_count = 3\n",
    "tax = 1.1"
   ]
  },
  {
   "cell_type": "markdown",
   "metadata": {},
   "source": [
    "#### 계산식 구성, 노드 준비"
   ]
  },
  {
   "cell_type": "code",
   "execution_count": 48,
   "metadata": {
    "collapsed": true
   },
   "outputs": [],
   "source": [
    "mul_apple_node = MulLayer() # 곱셈노드!! \n",
    "mul_orange_node = MulLayer()\n",
    "mul_tax_node = MulLayer()\n",
    "add_apple_orange = AddLayer()"
   ]
  },
  {
   "cell_type": "markdown",
   "metadata": {},
   "source": [
    "#### 순전파\n"
   ]
  },
  {
   "cell_type": "code",
   "execution_count": 49,
   "metadata": {
    "collapsed": true
   },
   "outputs": [],
   "source": [
    "apple_total_price = mul_apple_node.forward(apple_count, apple_price)\n",
    "orange_total_price = mul_orange_node.forward(orange_price, orange_count)\n",
    "total_price = add_apple_orange.forward(apple_total_price, orange_total_price)\n",
    "total_price_with_tax = mul_tax_node.forward(total_price, tax)"
   ]
  },
  {
   "cell_type": "code",
   "execution_count": 50,
   "metadata": {
    "collapsed": false
   },
   "outputs": [
    {
     "name": "stdout",
     "output_type": "stream",
     "text": [
      "715.0000000000001\n"
     ]
    }
   ],
   "source": [
    "print(total_price_with_tax)"
   ]
  },
  {
   "cell_type": "markdown",
   "metadata": {},
   "source": [
    "#### 역전파"
   ]
  },
  {
   "cell_type": "code",
   "execution_count": 51,
   "metadata": {
    "collapsed": true
   },
   "outputs": [],
   "source": [
    "d_total_price_with_tax = 1 # (미분 최종금액 / 미분 최종금액)\n",
    "d_total_price, d_tax = mul_tax_node.backward(d_total_price_with_tax) # return 순서 잘 시켜야 하지!! \n",
    "d_apple_total_price, d_orange_total_price = add_apple_orange.backward(d_total_price)"
   ]
  },
  {
   "cell_type": "code",
   "execution_count": 52,
   "metadata": {
    "collapsed": true
   },
   "outputs": [],
   "source": [
    "d_apple_count, d_apple_price = mul_apple_node.backward(d_apple_total_price)\n",
    "d_orange_price, d_orange_count = mul_orange_node.backward(d_orange_total_price)"
   ]
  },
  {
   "cell_type": "code",
   "execution_count": 55,
   "metadata": {
    "collapsed": false
   },
   "outputs": [
    {
     "name": "stdout",
     "output_type": "stream",
     "text": [
      "d_총가격=> 1.1\n",
      "d_tax=> 650\n",
      "d_사과총가격=> 1.1\n",
      "d_귤총가격=> 1.1\n",
      "d_사과 count=> 110.00000000000001\n",
      "d_사과가격=> 2.2\n",
      "d_귤가격=> 3.3000000000000003\n",
      "d_귤 count=> 165.0\n"
     ]
    }
   ],
   "source": [
    "print(\"d_총가격=>\", d_total_price)\n",
    "print(\"d_tax=>\", d_tax)\n",
    "print(\"d_사과총가격=>\",d_apple_total_price)\n",
    "print(\"d_귤총가격=>\",d_orange_total_price)\n",
    "print(\"d_사과 count=>\",d_apple_count)\n",
    "print(\"d_사과가격=>\",d_apple_price)\n",
    "print(\"d_귤가격=>\",d_orange_price)\n",
    "print(\"d_귤 count=>\",d_orange_count)"
   ]
  },
  {
   "cell_type": "markdown",
   "metadata": {},
   "source": [
    "#### ↑ 곱셍이나 덧셈이 여러개인 경우 하나하나 분리해서 하면 된다!!!"
   ]
  },
  {
   "cell_type": "code",
   "execution_count": null,
   "metadata": {
    "collapsed": true
   },
   "outputs": [],
   "source": []
  },
  {
   "cell_type": "markdown",
   "metadata": {},
   "source": [
    "### 활성화 함수 계산 그래프 노드 구현\n",
    "- ReLU 노드\n",
    "    - common/layers.py\n",
    "    \n",
    "<img src=\"picture/ReLU_node.png\" />"
   ]
  },
  {
   "cell_type": "code",
   "execution_count": 56,
   "metadata": {
    "collapsed": false
   },
   "outputs": [
    {
     "data": {
      "text/plain": [
       "'C:\\\\pydev\\\\Machine_Learning\\\\MLiA_py3\\\\DeepLearning\\\\origin\\\\ch05'"
      ]
     },
     "execution_count": 56,
     "metadata": {},
     "output_type": "execute_result"
    }
   ],
   "source": [
    "pwd"
   ]
  },
  {
   "cell_type": "code",
   "execution_count": 58,
   "metadata": {
    "collapsed": false
   },
   "outputs": [
    {
     "name": "stdout",
     "output_type": "stream",
     "text": [
      "C:\\pydev\\Machine_Learning\\MLiA_py3\\DeepLearning\\origin\n"
     ]
    }
   ],
   "source": [
    "%cd .."
   ]
  },
  {
   "cell_type": "code",
   "execution_count": 59,
   "metadata": {
    "collapsed": false
   },
   "outputs": [
    {
     "name": "stdout",
     "output_type": "stream",
     "text": [
      "C:\\pydev\\Machine_Learning\\MLiA_py3\\DeepLearning\\origin\\common\n"
     ]
    }
   ],
   "source": [
    "%cd common/"
   ]
  },
  {
   "cell_type": "code",
   "execution_count": 60,
   "metadata": {
    "collapsed": true
   },
   "outputs": [],
   "source": [
    "class Relu:\n",
    "    def __init__(self):\n",
    "        self.mask = None\n",
    "\n",
    "    def forward(self, x):\n",
    "        self.mask = (x <= 0) # 0보다 작은지 확인하는 Flag 역할을 한다!! \n",
    "        # x = [a1 a2 a3 ... aN] 들어가지!! \n",
    "        # mask = [T F F T T T ... T]\n",
    "        out = x.copy()\n",
    "        out[self.mask] = 0 # 보다 작은 값들은 0으로 하겠다!! \n",
    "\n",
    "        return out\n",
    "\n",
    "    def backward(self, dout):\n",
    "        dout[self.mask] = 0\n",
    "        dx = dout\n",
    "\n",
    "        return dx"
   ]
  },
  {
   "cell_type": "markdown",
   "metadata": {},
   "source": [
    "- Sigmoid 노드\n",
    "\n",
    "<img src=\"picture/sigmoid_node.png\" />"
   ]
  },
  {
   "cell_type": "markdown",
   "metadata": {},
   "source": [
    "<img src=\"picture/sigmoid_node.jpg\" />"
   ]
  },
  {
   "cell_type": "markdown",
   "metadata": {},
   "source": [
    "- $\n",
    "\\begin{equation*}\n",
    "    \\frac{\\partial L}{\\partial y}\\cdot y^2 \\cdot exp(-x)\n",
    "\\end{equation*}\n",
    "$\n",
    "를 다음과 같이 정리\n",
    "    - 순전파의 출력만으로 계산\n",
    "    \n",
    " \n",
    "<img src=\"picture/simpe_sigmoid_node.png\" />"
   ]
  },
  {
   "cell_type": "markdown",
   "metadata": {},
   "source": [
    "- Sigmoid 노드\n",
    "    - 최종 간소화 버전\n",
    "    <img src=\"picture/final_sigmoid.png\" />\n",
    "    - common/layers.py"
   ]
  },
  {
   "cell_type": "code",
   "execution_count": 61,
   "metadata": {
    "collapsed": true
   },
   "outputs": [],
   "source": [
    "class Sigmoid:\n",
    "    def __init__(self):\n",
    "        self.out = None\n",
    "\n",
    "    def forward(self, x):\n",
    "        out = sigmoid(x)\n",
    "        self.out = out\n",
    "        return out\n",
    "\n",
    "    def backward(self, dout):\n",
    "        dx = dout * (1.0 - self.out) * self.out #y*(1-y) * out\n",
    "\n",
    "        return dx"
   ]
  },
  {
   "cell_type": "markdown",
   "metadata": {},
   "source": [
    "### Affine 계층을 계산 그래프로 구현\n",
    "- Affine 계층 (=fully connected)\n",
    "    - Affine Transformation 을 수행하는 신경망 계층(레이어)\n",
    "        - 어파인 변환\n",
    "            - 신경망의 순전파 때 수행하는 **행렬의 내적**을 기하학에서 일컫는 표현!! \n",
    "    - 신경망의 순전파 시 노드(뉴런)의 가중치 입력을 계산하기 위해 행렬의 내적 사용\n",
    "    - 이를 같은 신경망 계층의 모든 노드에 대해 표현히기 위해 입력의 행렬과 가중치 행렬의 정의\n",
    "    - 모든 노드의 가중치 입력을 계산하기 위해 입력의 행렬과 가중치 행렬에 대해 행렬 내적 수행"
   ]
  },
  {
   "cell_type": "raw",
   "metadata": {},
   "source": [
    ">>> X = np.random.rand(2) # 입력은 한 건임에 유의\n",
    "한 건이 두개의 원소로 이루어짐!! ex) X=[x1, x2] # 노드 2개!! 2개의 component로 이루어진 데이터\n",
    "\n",
    ">>> W = np.random.rand(2, 3) # 가중치\n",
    "input_layer 2개 / hidden_layer 3개 있는 와중에 Weight 나타냄\n",
    "ex) [[ w11 w21 w31 ]   # 2행 3열 \n",
    "       [ w12 w22 w32 ]]\n",
    "x1w11 + x2w12 = a1 , h(a1) = z1\n",
    "x1w21 + x2w22 = a2\n",
    "x1w31 + x2w32 = a3 \n",
    "[x1 x2][[w11 w21 w31] = [a1 a2 a3]\n",
    "        [w12 w22 w32]] \n",
    "\n",
    "\n",
    ">>> B = np.random.rand(3) # 바이어스\n",
    "\n",
    ">>> X.shape # (2,)     # 1행2열\n",
    ">>> W.shape # (2, 3)   # 2행3열\n",
    ">>> B.shape # (3,)     # 1행3열\n",
    "\n",
    "# 어파인 계층을 구성하는 3개의 뉴런에 입력되는 가중치 합을 행렬을 \n",
    "# 이용해 한꺼번에 표현\n",
    ">>> Y = np.dot(X, W) + B\n"
   ]
  },
  {
   "cell_type": "markdown",
   "metadata": {},
   "source": [
    "- Y = np.dot(X,W) + B 를 계산 그래프로 표현\n",
    "    - X,W,B가 행렬(다차원 배열)임의 주의\n",
    "        - 지금까지의 계산 그래프는 노드 사이에 '스칼라 값'이 흘렀지만\n",
    "        - 어파인 계층에서는 '행렬'이 흐른다\n",
    "\n",
    "<img src=\"picture/다차원 배열 그래프.png\" />"
   ]
  },
  {
   "cell_type": "markdown",
   "metadata": {},
   "source": [
    "- 행렬 내적에 대한 역전파\n",
    "\n",
    "$\n",
    "\\begin{equation*}\n",
    "    \\frac{\\partial L}{\\partial X} = \\frac{\\partial L}{\\partial Y} \\cdot W^T\n",
    "\\end{equation*}\n",
    "$"
   ]
  },
  {
   "cell_type": "markdown",
   "metadata": {},
   "source": [
    "- Affine 계층의 역전파\n",
    "    - 행렬의 형상을 주의 깊게 살펴보세요.\n",
    "\n",
    "<img src=\"picture/행렬 역전파2.png\" />"
   ]
  },
  {
   "cell_type": "markdown",
   "metadata": {},
   "source": [
    "#### X와 $\\begin{equation*} \\frac{\\partial L}{\\partial X} \\end{equation*}$ 의 형상이 같음에 주의\n",
    "#### X$\\cdot$W를 미분한 후 Transpose 해주는 것에 주의해야한다!! "
   ]
  },
  {
   "cell_type": "markdown",
   "metadata": {},
   "source": [
    "- 배치용 Affine 계층\n",
    "    - 지금까지는 입력 데이터 한 건만 고려\n",
    "    - 입력 데이터 N개를 묶어서 배치 처리하는 경우 고려\n",
    "\n",
    "\n",
    "<img src=\"picture/batch_affine.png\" />"
   ]
  },
  {
   "cell_type": "markdown",
   "metadata": {},
   "source": [
    "**Q.3번의 첫 번째 축(0축, 열방향)의 합이 ?!?! 왜?!**\n",
    "A. 순반향 때 broadcasting으로 늘어났기 때문에, 미분하면서 역전파 할 때 총합을 하던지 평균을 내던지 한다!!  "
   ]
  },
  {
   "cell_type": "markdown",
   "metadata": {},
   "source": [
    "### Softmax-with-Loss 계층"
   ]
  },
  {
   "cell_type": "markdown",
   "metadata": {},
   "source": [
    "- 소프트맥스 합수에 손실 함수인 교차 엔트로피 오차도 포함\n",
    "    - 출력층에 사용\n",
    "\n",
    "\n",
    "<img src=\"picture/softmax_with_loss.png\" />"
   ]
  },
  {
   "cell_type": "markdown",
   "metadata": {},
   "source": [
    "↑↑↑↑↑\n",
    "- S는 sum임\n",
    "- backpropagation 최종이 y-t 인것을 봐야 한다. 간단하지!! "
   ]
  },
  {
   "cell_type": "markdown",
   "metadata": {},
   "source": [
    "- 간략화 버전\n",
    "    - 소프트맥스의 역전파 결과가 깔끔한 것에 유의\n",
    "        - 소프트맥스의 손실 함수로 교차 엔트로피 오차를 적용하였기 때문\n",
    "        - 회귀 문제라면 출력의 활성화 함수로 '항등 함수', 손실 함수로 '평균 제곱 오차'를 사용하면 역시 깔끔한 결과를 얻을 수 있음\n",
    "        \n",
    "        \n",
    "<img src=\"picture/simple_softmax_with_loss.png\" />"
   ]
  },
  {
   "cell_type": "markdown",
   "metadata": {},
   "source": [
    "### 학습 알고리즘 구현하기\n",
    "- 신경망 학습 절차\n",
    "    - 신경망에는 적응 가능한 가중치와 편향(bias)이 있고, 이 가중치와 바이어스를 훈련 데이터에 적응하도록 조정하는 과정을 '학습'이라 한다. 신경망 학습은 다음과 같이 4단계로 수행한다.\n",
    "    - 1단계 - 미니 배치\n",
    "        - 훈련 데이터 중 일부를 **무작위**로 가져온다.\n",
    "        - 이렇게 선별된 데이터를 미니 배치라 하며, 이 미니 배치의 손실 함수 값을 줄이는 것이 목표다.\n",
    "    - 2단계 - 기울기 산출\n",
    "        - 미니 배치의 손실 함수 값을 줄이기 위해 각 가중치 매개변수의 기울기를 구한다.\n",
    "        - 기울기는 손실 함수의 값을 가장 작게 하는 방향을 제시한다.\n",
    "    - 3단계 - 매개변수 갱신\n",
    "        - 가중치 매개변수를 기울기 방향으로 아주 조금 갱신한다.\n",
    "    - 4단계 \n",
    "        - 1 ~ 3 단계 반복!! "
   ]
  },
  {
   "cell_type": "markdown",
   "metadata": {},
   "source": [
    "### 역전파 구현\n",
    "- ch05/two_layer_net.py\n",
    "    - 신경망 계층을 OrderedDict에 보관하는 점 중요\n",
    "        - 순서가 있는 딕셔너리\n",
    "        - 순전파 : 추가한 순서대로 각 계층의 forward() 메서드 호출로 충분\n",
    "        - 역전파 : 추가한 역순으로 각 계층의 backward() 메서드 호출로 충분\n",
    "    - 역전파 수행하려면 우선 순전파를 한 번 수행해야 함!!\n",
    "    \n",
    "<img src=\"picture/back_propagation_example.png\" />"
   ]
  },
  {
   "cell_type": "markdown",
   "metadata": {},
   "source": [
    "- 오차를 기준으로 모든 weight를 다시 조정하는 것이다!! 최종 출력과 실제값 간의 오차를 줄이기 위해 마지막 결과에 영향을 미치는 모든 weight를 조정한다!!!\n",
    "- 두번째 Affine + ReLU가 Hidden layer 임!! 처음은 input layer 이고! "
   ]
  },
  {
   "cell_type": "code",
   "execution_count": 62,
   "metadata": {
    "collapsed": true
   },
   "outputs": [],
   "source": [
    "class TwoLayerNet:\n",
    "\n",
    "    def __init__(self, input_size, hidden_size, output_size, weight_init_std = 0.01):\n",
    "        # 가중치 초기화\n",
    "        self.params = {}\n",
    "        self.params['W1'] = weight_init_std * np.random.randn(input_size, hidden_size) # 정규분포 랜덤 넘버에 1/100로 하겠다!\n",
    "        self.params['b1'] = np.zeros(hidden_size) # 0으로 초기화!! \n",
    "        self.params['W2'] = weight_init_std * np.random.randn(hidden_size, output_size) \n",
    "        self.params['b2'] = np.zeros(output_size)\n",
    "\n",
    "        # 계층 생성\n",
    "        # 그림과 조금 다른 것이 input layer 부분이 없다, 없어도 별 차이가 없어서!!! \n",
    "        self.layers = OrderedDict()\n",
    "        self.layers['Affine1'] = Affine(self.params['W1'], self.params['b1']) # common/layers.py에 Affine 이 있다!! 아래 있다!! \n",
    "        self.layers['Relu1'] = Relu()\n",
    "        self.layers['Affine2'] = Affine(self.params['W2'], self.params['b2'])\n",
    "\n",
    "        self.lastLayer = SoftmaxWithLoss() #layers.py에 있지!!\n",
    "        \n",
    "    def predict(self, x):\n",
    "        for layer in self.layers.values():\n",
    "            x = layer.forward(x)\n",
    "        \n",
    "        return x #위 그림의 \"점수\" 부분 까지 된것이다!!\n",
    "        \n",
    "    # x : 입력 데이터, t : 정답 레이블\n",
    "    def loss(self, x, t):\n",
    "        y = self.predict(x)\n",
    "        return self.lastLayer.forward(y, t)\n",
    "    \n",
    "    def accuracy(self, x, t):\n",
    "        y = self.predict(x)\n",
    "        y = np.argmax(y, axis=1)\n",
    "        if t.ndim != 1 : t = np.argmax(t, axis=1)\n",
    "        \n",
    "        accuracy = np.sum(y == t) / float(x.shape[0])\n",
    "        return accuracy\n",
    "        \n",
    "    # x : 입력 데이터, t : 정답 레이블\n",
    "    def numerical_gradient(self, x, t):\n",
    "        loss_W = lambda W: self.loss(x, t)\n",
    "        \n",
    "        grads = {}\n",
    "        grads['W1'] = numerical_gradient(loss_W, self.params['W1']) # common.gradient.py에 있는 것을 가져다 씀!! \n",
    "        grads['b1'] = numerical_gradient(loss_W, self.params['b1'])\n",
    "        grads['W2'] = numerical_gradient(loss_W, self.params['W2'])\n",
    "        grads['b2'] = numerical_gradient(loss_W, self.params['b2'])\n",
    "        \n",
    "        return grads\n",
    "        \n",
    "    def gradient(self, x, t):\n",
    "        # forward\n",
    "        self.loss(x, t)\n",
    "\n",
    "        # backward\n",
    "        dout = 1\n",
    "        dout = self.lastLayer.backward(dout)\n",
    "        \n",
    "        layers = list(self.layers.values())\n",
    "        layers.reverse()\n",
    "        for layer in layers:\n",
    "            dout = layer.backward(dout)\n",
    "\n",
    "        # 결과 저장\n",
    "        grads = {}\n",
    "        grads['W1'], grads['b1'] = self.layers['Affine1'].dW, self.layers['Affine1'].db\n",
    "        grads['W2'], grads['b2'] = self.layers['Affine2'].dW, self.layers['Affine2'].db\n",
    "\n",
    "        return grads\n"
   ]
  },
  {
   "cell_type": "markdown",
   "metadata": {},
   "source": [
    "- hidden layer에 계속 미분값이 곱해지기 때문에 weight의 gradient가 0에 가까워 진다. 그래서 일반 backpropagation 경우는 hidden layer를 그렇게 많이 해도 소용이 없다!! "
   ]
  },
  {
   "cell_type": "code",
   "execution_count": null,
   "metadata": {
    "collapsed": true
   },
   "outputs": [],
   "source": [
    "class Affine:\n",
    "    def __init__(self, W, b):\n",
    "        self.W = W\n",
    "        self.b = b\n",
    "        \n",
    "        self.x = None\n",
    "        self.original_x_shape = None\n",
    "        # 가중치와 편향 매개변수의 미분\n",
    "        self.dW = None\n",
    "        self.db = None\n",
    "\n",
    "    def forward(self, x):\n",
    "        # 텐서 대응\n",
    "        self.original_x_shape = x.shape\n",
    "        x = x.reshape(x.shape[0], -1)\n",
    "        self.x = x\n",
    "\n",
    "        out = np.dot(self.x, self.W) + self.b\n",
    "\n",
    "        return out\n",
    "\n",
    "    def backward(self, dout):\n",
    "        dx = np.dot(dout, self.W.T)\n",
    "        self.dW = np.dot(self.x.T, dout)\n",
    "        self.db = np.sum(dout, axis=0)\n",
    "        \n",
    "        dx = dx.reshape(*self.original_x_shape)  # 입력 데이터 모양 변경(텐서 대응) 4차원 이상의 데이터를 다룰 때!! \n",
    "        return dx\n"
   ]
  },
  {
   "cell_type": "code",
   "execution_count": null,
   "metadata": {
    "collapsed": true
   },
   "outputs": [],
   "source": [
    "class SoftmaxWithLoss:\n",
    "    def __init__(self):\n",
    "        self.loss = None # 손실함수\n",
    "        self.y = None    # softmax의 출력\n",
    "        self.t = None    # 정답 레이블(원-핫 인코딩 형태)\n",
    "        \n",
    "    def forward(self, x, t):\n",
    "        self.t = t\n",
    "        self.y = softmax(x)\n",
    "        self.loss = cross_entropy_error(self.y, self.t)\n",
    "        \n",
    "        return self.loss\n",
    "\n",
    "    def backward(self, dout=1):\n",
    "        batch_size = self.t.shape[0]\n",
    "        if self.t.size == self.y.size: # 정답 레이블이 원-핫 인코딩 형태일 때\n",
    "            dx = (self.y - self.t) / batch_size\n",
    "        else:\n",
    "            dx = self.y.copy()\n",
    "            dx[np.arange(batch_size), self.t] -= 1\n",
    "            dx = dx / batch_size\n",
    "        \n",
    "        return dx"
   ]
  },
  {
   "cell_type": "markdown",
   "metadata": {},
   "source": [
    "### 역전파 검증\n",
    "- Gradient Checking (기울기 확인)\n",
    "    - 역전파로 구한 기울기 검증하기\n",
    "    - 수치 미분으로 구한 기울기\n",
    "        - 느리다\n",
    "        - 정확하다\n",
    "    - 역전파로 구한 기울기\n",
    "        - 빠르다.\n",
    "        - 버그 가능성\n",
    "    - 위 두 방식으로 구한 기울기가 일치하는지 확인하는 작업\n",
    "        - ch05/gradient_check.py"
   ]
  },
  {
   "cell_type": "code",
   "execution_count": 68,
   "metadata": {
    "collapsed": false
   },
   "outputs": [],
   "source": [
    "# coding: utf-8\n",
    "import sys, os\n",
    "sys.path.append(os.pardir)  # 부모 디렉터리의 파일을 가져올 수 있도록 설정\n",
    "import numpy as np\n",
    "from dataset.mnist import load_mnist\n",
    "from ch05.two_layer_net import TwoLayerNet"
   ]
  },
  {
   "cell_type": "code",
   "execution_count": 69,
   "metadata": {
    "collapsed": true
   },
   "outputs": [],
   "source": [
    "# 데이터 읽기\n",
    "(x_train, t_train), (x_test, t_test) = load_mnist(normalize=True, one_hot_label=True)"
   ]
  },
  {
   "cell_type": "code",
   "execution_count": 70,
   "metadata": {
    "collapsed": true
   },
   "outputs": [],
   "source": [
    "network = TwoLayerNet(input_size=784, hidden_size=50, output_size=10)"
   ]
  },
  {
   "cell_type": "code",
   "execution_count": 71,
   "metadata": {
    "collapsed": true
   },
   "outputs": [],
   "source": [
    "x_batch = x_train[:3]\n",
    "t_batch = t_train[:3]"
   ]
  },
  {
   "cell_type": "code",
   "execution_count": 73,
   "metadata": {
    "collapsed": false
   },
   "outputs": [
    {
     "name": "stdout",
     "output_type": "stream",
     "text": [
      "[[ 0.  0.  0. ...,  0.  0.  0.]\n",
      " [ 0.  0.  0. ...,  0.  0.  0.]\n",
      " [ 0.  0.  0. ...,  0.  0.  0.]]\n",
      "(3, 784)\n"
     ]
    }
   ],
   "source": [
    "print(x_batch)\n",
    "print(x_batch.shape)"
   ]
  },
  {
   "cell_type": "code",
   "execution_count": 76,
   "metadata": {
    "collapsed": false
   },
   "outputs": [
    {
     "name": "stdout",
     "output_type": "stream",
     "text": [
      "[[ 0.  0.  0.  0.  0.  1.  0.  0.  0.  0.]\n",
      " [ 1.  0.  0.  0.  0.  0.  0.  0.  0.  0.]\n",
      " [ 0.  0.  0.  0.  1.  0.  0.  0.  0.  0.]]\n",
      "(3, 10)\n"
     ]
    }
   ],
   "source": [
    "print(t_batch)\n",
    "print(t_batch.shape)"
   ]
  },
  {
   "cell_type": "code",
   "execution_count": 77,
   "metadata": {
    "collapsed": true
   },
   "outputs": [],
   "source": [
    "grad_numerical = network.numerical_gradient(x_batch, t_batch)"
   ]
  },
  {
   "cell_type": "code",
   "execution_count": 78,
   "metadata": {
    "collapsed": true
   },
   "outputs": [],
   "source": [
    "grad_backprop = network.gradient(x_batch, t_batch) # "
   ]
  },
  {
   "cell_type": "code",
   "execution_count": 79,
   "metadata": {
    "collapsed": false
   },
   "outputs": [
    {
     "name": "stdout",
     "output_type": "stream",
     "text": [
      "W1:2.11789529923e-13\n",
      "b1:6.85209615285e-13\n",
      "W2:7.26908497289e-13\n",
      "b2:1.19682040667e-10\n"
     ]
    }
   ],
   "source": [
    "# 각 가중치의 절대 오차의 평균을 구한다.\n",
    "for key in grad_numerical.keys():\n",
    "    diff = np.average( np.abs(grad_backprop[key] - grad_numerical[key]) )\n",
    "    print(key + \":\" + str(diff))"
   ]
  },
  {
   "cell_type": "markdown",
   "metadata": {},
   "source": [
    "- W1같은 경우는 \n",
    "- backpropagation으로 한거나, numerical(수치연산)로 한거나 차이가 2.11789529923e-13 이만큼 차이 난다는 것이다! 거의 없다고 할 수 있다."
   ]
  },
  {
   "cell_type": "markdown",
   "metadata": {},
   "source": [
    "### 역전파를 이용한 학습\n",
    "- 기울기를 구할 때 수치 미분이 아닌 역전파법을 사용\n",
    "    - ch05/train_neuralnet.py"
   ]
  },
  {
   "cell_type": "markdown",
   "metadata": {},
   "source": [
    "- train_neuralnet.py 봄!!"
   ]
  },
  {
   "cell_type": "code",
   "execution_count": null,
   "metadata": {
    "collapsed": true
   },
   "outputs": [],
   "source": [
    "# coding: utf-8\n",
    "import sys, os\n",
    "sys.path.append(os.pardir)\n",
    "\n",
    "import numpy as np\n",
    "from dataset.mnist import load_mnist\n",
    "from two_layer_net import TwoLayerNet\n",
    "\n",
    "# 데이터 읽기\n",
    "(x_train, t_train), (x_test, t_test) = load_mnist(normalize=True, one_hot_label=True)\n",
    "\n",
    "network = TwoLayerNet(input_size=784, hidden_size=50, output_size=10)\n",
    "\n",
    "iters_num = 10000\n",
    "train_size = x_train.shape[0]\n",
    "batch_size = 100\n",
    "learning_rate = 0.1\n",
    "\n",
    "train_loss_list = []\n",
    "train_acc_list = []\n",
    "test_acc_list = []\n",
    "\n",
    "iter_per_epoch = max(train_size / batch_size, 1) # 60000/100 = 600번 돌면서!! \n",
    "\n",
    "for i in range(iters_num):\n",
    "    batch_mask = np.random.choice(train_size, batch_size) \n",
    "    # choice로 랜덤하게!! 60000개 중에서 100개씩 뽑음, 중복해서도 뽑힐 수 있다. \n",
    "    # 과적합을 막기 위해서!!\n",
    "    x_batch = x_train[batch_mask]\n",
    "    t_batch = t_train[batch_mask]\n",
    "    \n",
    "    # 기울기 계산\n",
    "    #grad = network.numerical_gradient(x_batch, t_batch) # 수치 미분 방식\n",
    "    grad = network.gradient(x_batch, t_batch) # 오차역전파법 방식(훨씬 빠르다)\n",
    "    \n",
    "    # 갱신\n",
    "    for key in ('W1', 'b1', 'W2', 'b2'):\n",
    "        network.params[key] -= learning_rate * grad[key] # grad[\"W1\"] 이면, 델타 최종 / 델타 W1의 값인 거다?!!\n",
    "     \n",
    "    loss = network.loss(x_batch, t_batch)\n",
    "    train_loss_list.append(loss)\n",
    "    \n",
    "    if i % iter_per_epoch == 0: # i 는 10000번 600번에 1번씩\n",
    "        train_acc = network.accuracy(x_train, t_train)\n",
    "        test_acc = network.accuracy(x_test, t_test)\n",
    "        train_acc_list.append(train_acc)\n",
    "        test_acc_list.append(test_acc)\n",
    "        print(train_acc, test_acc)\n"
   ]
  },
  {
   "cell_type": "markdown",
   "metadata": {},
   "source": [
    "### 신경망을 역전파로 학습하고 그 정확도와 오차를 확인하기"
   ]
  },
  {
   "cell_type": "code",
   "execution_count": 83,
   "metadata": {
    "collapsed": false
   },
   "outputs": [
    {
     "data": {
      "text/plain": [
       "'C:\\\\pydev\\\\Machine_Learning\\\\MLiA_py3\\\\DeepLearning\\\\origin\\\\common'"
      ]
     },
     "execution_count": 83,
     "metadata": {},
     "output_type": "execute_result"
    }
   ],
   "source": [
    "pwd"
   ]
  },
  {
   "cell_type": "code",
   "execution_count": 84,
   "metadata": {
    "collapsed": false
   },
   "outputs": [
    {
     "name": "stdout",
     "output_type": "stream",
     "text": [
      "C:\\pydev\\Machine_Learning\\MLiA_py3\\DeepLearning\\origin\n",
      "C:\\pydev\\Machine_Learning\\MLiA_py3\\DeepLearning\\origin\\ch05\n"
     ]
    }
   ],
   "source": [
    "%cd ..\n",
    "%cd ch05"
   ]
  },
  {
   "cell_type": "code",
   "execution_count": 85,
   "metadata": {
    "collapsed": false
   },
   "outputs": [
    {
     "data": {
      "text/plain": [
       "'C:\\\\pydev\\\\Machine_Learning\\\\MLiA_py3\\\\DeepLearning\\\\origin\\\\ch05'"
      ]
     },
     "execution_count": 85,
     "metadata": {},
     "output_type": "execute_result"
    }
   ],
   "source": [
    "pwd"
   ]
  },
  {
   "cell_type": "code",
   "execution_count": 90,
   "metadata": {
    "collapsed": false
   },
   "outputs": [
    {
     "name": "stdout",
     "output_type": "stream",
     "text": [
      "train_acc: 0.120066666667 test_acc 0.1197\n",
      "train_acc: 0.906633333333 test_acc 0.9105\n",
      "train_acc: 0.921516666667 test_acc 0.9223\n",
      "train_acc: 0.93385 test_acc 0.9345\n",
      "train_acc: 0.944216666667 test_acc 0.9429\n",
      "train_acc: 0.951066666667 test_acc 0.9481\n",
      "train_acc: 0.953133333333 test_acc 0.9521\n",
      "train_acc: 0.9595 test_acc 0.9557\n",
      "train_acc: 0.962316666667 test_acc 0.9578\n",
      "train_acc: 0.966166666667 test_acc 0.9607\n",
      "train_acc: 0.970383333333 test_acc 0.9629\n",
      "train_acc: 0.970733333333 test_acc 0.9621\n",
      "train_acc: 0.972833333333 test_acc 0.9656\n",
      "train_acc: 0.972433333333 test_acc 0.966\n",
      "train_acc: 0.9757 test_acc 0.9666\n",
      "train_acc: 0.97745 test_acc 0.967\n",
      "train_acc: 0.977116666667 test_acc 0.9683\n"
     ]
    },
    {
     "data": {
      "text/plain": [
       "<module 'train_neuralnet' from 'C:\\\\pydev\\\\Machine_Learning\\\\MLiA_py3\\\\DeepLearning\\\\origin\\\\ch05\\\\train_neuralnet.py'>"
      ]
     },
     "execution_count": 90,
     "metadata": {},
     "output_type": "execute_result"
    }
   ],
   "source": [
    "# import train_neuralnet\n",
    "import importlib\n",
    "importlib.reload(train_neuralnet)"
   ]
  },
  {
   "cell_type": "code",
   "execution_count": 91,
   "metadata": {
    "collapsed": true
   },
   "outputs": [],
   "source": [
    "import numpy as np\n",
    "import matplotlib.pyplot as plt"
   ]
  },
  {
   "cell_type": "code",
   "execution_count": 92,
   "metadata": {
    "collapsed": true
   },
   "outputs": [],
   "source": [
    "%matplotlib inline"
   ]
  },
  {
   "cell_type": "code",
   "execution_count": 93,
   "metadata": {
    "collapsed": true
   },
   "outputs": [],
   "source": [
    "x = np.arange(len(train_neuralnet.train_acc_list))"
   ]
  },
  {
   "cell_type": "code",
   "execution_count": 94,
   "metadata": {
    "collapsed": false
   },
   "outputs": [
    {
     "data": {
      "text/plain": [
       "array([ 0,  1,  2,  3,  4,  5,  6,  7,  8,  9, 10, 11, 12, 13, 14, 15, 16])"
      ]
     },
     "execution_count": 94,
     "metadata": {},
     "output_type": "execute_result"
    }
   ],
   "source": [
    "x"
   ]
  },
  {
   "cell_type": "code",
   "execution_count": 101,
   "metadata": {
    "collapsed": false
   },
   "outputs": [
    {
     "data": {
      "text/plain": [
       "(0.8, 1.0)"
      ]
     },
     "execution_count": 101,
     "metadata": {},
     "output_type": "execute_result"
    },
    {
     "data": {
      "image/png": "[encoded data removed]",
      "text/plain": [
       "<matplotlib.figure.Figure at 0xbcc2c50>"
      ]
     },
     "metadata": {},
     "output_type": "display_data"
    }
   ],
   "source": [
    "plt.plot(x, train_neuralnet.train_acc_list)\n",
    "plt.plot(x, train_neuralnet.test_acc_list)\n",
    "plt.ylim([0.8,1.0])"
   ]
  },
  {
   "cell_type": "code",
   "execution_count": 102,
   "metadata": {
    "collapsed": false
   },
   "outputs": [
    {
     "name": "stdout",
     "output_type": "stream",
     "text": [
      "10000\n"
     ]
    }
   ],
   "source": [
    "x = np.arange(len(train_neuralnet.train_loss_list))\n",
    "print(len(x))"
   ]
  },
  {
   "cell_type": "code",
   "execution_count": 107,
   "metadata": {
    "collapsed": false
   },
   "outputs": [
    {
     "data": {
      "text/plain": [
       "[<matplotlib.lines.Line2D at 0xbde2e10>]"
      ]
     },
     "execution_count": 107,
     "metadata": {},
     "output_type": "execute_result"
    },
    {
     "data": {
      "image/png": "[encoded data removed]",
      "text/plain": [
       "<matplotlib.figure.Figure at 0xbfc4080>"
      ]
     },
     "metadata": {},
     "output_type": "display_data"
    }
   ],
   "source": [
    "plt.plot(x, train_neuralnet.train_loss_list)\n",
    "# plt.ylim([0,1.0])"
   ]
  },
  {
   "cell_type": "markdown",
   "metadata": {},
   "source": [
    "- 진동을 하는 이유는 gradient descent를 썼기 때문이다!!"
   ]
  },
  {
   "cell_type": "code",
   "execution_count": 111,
   "metadata": {
    "collapsed": false
   },
   "outputs": [
    {
     "data": {
      "text/plain": [
       "(0, 1000)"
      ]
     },
     "execution_count": 111,
     "metadata": {},
     "output_type": "execute_result"
    },
    {
     "data": {
      "image/png": "[encoded data removed]",
      "text/plain": [
       "<matplotlib.figure.Figure at 0xb343668>"
      ]
     },
     "metadata": {},
     "output_type": "display_data"
    }
   ],
   "source": [
    "plt.plot(x, train_neuralnet.train_loss_list)\n",
    "plt.xlim([0,1000])"
   ]
  },
  {
   "cell_type": "markdown",
   "metadata": {},
   "source": [
    "### 정리\n",
    "- 계산 그래프를 이용하면 계산과정을 시각적으로 파악할 수 있다.\n",
    "- 계산 그래프의 노드는 국소적 계산으로 구성되며 국소적 계산을 조합하여 전체 계산을 구성한다.\n",
    "- 계산 그래프의 순전파는 통산의 계산을 수행한다. 한편, 계산 그래프의 역전파로는 각 노드의 미분을 구할 수 있다.\n",
    "- 신경망의 구성 요소를 계층으로 구현하여 기울기를 효율적으로 계산할 수 있다.(역전파)\n",
    "- 수치 미분과 역전파의 결과를 비교하면 역전파의 구현에 잘못이 없는지 확인할 수 있다.(기울기 확인)"
   ]
  },
  {
   "cell_type": "code",
   "execution_count": null,
   "metadata": {
    "collapsed": true
   },
   "outputs": [],
   "source": []
  }
 ],
 "metadata": {
  "kernelspec": {
   "display_name": "Python 3",
   "language": "python",
   "name": "python3"
  },
  "language_info": {
   "codemirror_mode": {
    "name": "ipython",
    "version": 3
   },
   "file_extension": ".py",
   "mimetype": "text/x-python",
   "name": "python",
   "nbconvert_exporter": "python",
   "pygments_lexer": "ipython3",
   "version": "3.6.0"
  }
 },
 "nbformat": 4,
 "nbformat_minor": 2
}
