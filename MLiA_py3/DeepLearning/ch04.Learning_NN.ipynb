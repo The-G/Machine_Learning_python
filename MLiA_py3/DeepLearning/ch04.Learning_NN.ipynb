{
 "cells": [
  {
   "cell_type": "markdown",
   "metadata": {},
   "source": [
    "# 신경망 학습"
   ]
  },
  {
   "cell_type": "markdown",
   "metadata": {},
   "source": [
    "### 데이터로부터 학습"
   ]
  },
  {
   "cell_type": "markdown",
   "metadata": {},
   "source": [
    "#### 아래 손글씨 숫자 이미지로부터 '5'를 인식하는 프로그램을 구현하려면?\n",
    "    - 떠오르는 알고리즘?"
   ]
  },
  {
   "cell_type": "markdown",
   "metadata": {},
   "source": [
    "#### 3가지 방법론\n",
    "    - 사람이 생각하는 알고리즘\n",
    "    - 사람이 생각한 특증(SIFT, HOG 등) -> 기계학습(SVM, KNN 등)\n",
    "    - 신경망(딥러닝)\n",
    "    \n",
    "#### 규칙을 '사람'이 만드는 방식 -> '기계'가 데이터로부터 규칙(특징)을 발견해 내는 방식으로 패러다임 전환"
   ]
  },
  {
   "cell_type": "markdown",
   "metadata": {},
   "source": [
    "#### 신경망의 이점\n",
    "    - 모든 문제를 같은 맥락에서 풀 수 있다.\n",
    "        - '5'를 인식하는 문제\n",
    "        - '개'를 인식하는 문제\n",
    "        - '사람 얼굴'을 인식하는 문제\n",
    "        - 위 각각에 대해 특징(feature)를 별도로 지정할 필요 없음\n",
    "        \n",
    "        \n",
    "#### 종단간 기계학습(end-to-end machine learning)\n",
    "    - 데이터(입력)에서 목표한 결과(출력)을 사람의 개입 없이 얻는다."
   ]
  },
  {
   "cell_type": "markdown",
   "metadata": {},
   "source": [
    "### 훈련 데이터(training data)와 시험 데이터(test data)로 나누는 이유?\n",
    "    - 범용적으로 사용할 수 있는 모델 필요\n",
    "        - 범용 능력을 제대로 평가하기 위해\n",
    "    - 범용(일반적) 능력\n",
    "        - 생소한 데이터로도 문제를 올바르게 해결하는 능력\n",
    "        - 손글씨 숫자 인식\n",
    "            - '특정인'의 '특정 글자'가 아닌 '일반인'의 '일반 글자'를 인식하는 능력\n",
    "    - 오버피팅(과적합, overfitting)\n",
    "        - 특정 데이터 셋에 지나치게 최적화된 상태"
   ]
  },
  {
   "cell_type": "markdown",
   "metadata": {},
   "source": [
    "### 손실함수\n",
    "    - 신경망에서 최적의 매개변수 값을 탐색하는 '하나의 지표'\n",
    "    - 신경망 성능의 '나쁨'을 나타내는 지표\n",
    "        - 성능의 '나쁨'을 최소화 = 성능의 '좋음'을 최대화\n",
    "    - 평균 제곱 오차\n",
    "    - 교차 엔트로피 오차"
   ]
  },
  {
   "cell_type": "markdown",
   "metadata": {},
   "source": [
    "#### 평균 제곱 오차(Mean Squared Error, MSE)\n",
    "    - 오차에 대한 2차 방정식\n",
    "    - 식 알지!! "
   ]
  },
  {
   "cell_type": "markdown",
   "metadata": {},
   "source": [
    "<img src=\"picture/MSE.png\" />\n"
   ]
  },
  {
   "cell_type": "code",
   "execution_count": 12,
   "metadata": {
    "collapsed": true
   },
   "outputs": [],
   "source": [
    "# 예1: '2'' 일 확률이 가장 높다고 추정\n",
    "y = [0.1, 0.05, 0.6, 0.0, 0.05, 0.1, 0.0, 0.1, 0.0, 0.0]\n",
    "t = [0, 0, 1, 0, 0, 0, 0, 0, 0, 0]"
   ]
  },
  {
   "cell_type": "code",
   "execution_count": 13,
   "metadata": {
    "collapsed": true
   },
   "outputs": [],
   "source": [
    "import numpy as np"
   ]
  },
  {
   "cell_type": "code",
   "execution_count": 14,
   "metadata": {
    "collapsed": true
   },
   "outputs": [],
   "source": [
    "def mean_squared_error(y, t):\n",
    "    return 0.5 * np.sum((y-t)**2)"
   ]
  },
  {
   "cell_type": "code",
   "execution_count": 15,
   "metadata": {
    "collapsed": false
   },
   "outputs": [
    {
     "data": {
      "text/plain": [
       "0.097500000000000031"
      ]
     },
     "execution_count": 15,
     "metadata": {},
     "output_type": "execute_result"
    }
   ],
   "source": [
    "mean_squared_error(np.array(y),np.array(t))"
   ]
  },
  {
   "cell_type": "code",
   "execution_count": 19,
   "metadata": {
    "collapsed": true
   },
   "outputs": [],
   "source": [
    "# 예1: '2'' 일 확률이 더 높다고 추정\n",
    "y = [0.1,0.05,0.7,0.0,0.05,0.1,0.0,0.1,0.0,0.0]"
   ]
  },
  {
   "cell_type": "code",
   "execution_count": 17,
   "metadata": {
    "collapsed": false
   },
   "outputs": [
    {
     "data": {
      "text/plain": [
       "0.062500000000000014"
      ]
     },
     "execution_count": 17,
     "metadata": {},
     "output_type": "execute_result"
    }
   ],
   "source": [
    "mean_squared_error(np.array(y),np.array(t))\n",
    "# 정답률이 올라갈 수록 mse가 줄어든 것을 알 수 있다. 0.6 -> 0.7로 증가했지!! "
   ]
  },
  {
   "cell_type": "markdown",
   "metadata": {},
   "source": [
    "#### 교차 엔트로피 오차(Cross Entropy Error, CEE)"
   ]
  },
  {
   "cell_type": "markdown",
   "metadata": {
    "collapsed": true
   },
   "source": [
    "- 2개의 확률 분포 사이에 정의되는 척도\n",
    "    - 정보 엔트로피와 닮은 꼴\n",
    "- $t_k$가 ONE-HOT 인코딩이라면 정답일 때의 추정값의 자연로그를 계산하는 식"
   ]
  },
  {
   "cell_type": "markdown",
   "metadata": {},
   "source": [
    "<img src=\"picture/CEE.png\" />"
   ]
  },
  {
   "cell_type": "code",
   "execution_count": 11,
   "metadata": {
    "collapsed": true
   },
   "outputs": [],
   "source": [
    "def cross_entropy_error(y,t):\n",
    "    delta = 1e-7\n",
    "    return -np.sum(t * np.log(y + delta))"
   ]
  },
  {
   "cell_type": "code",
   "execution_count": 18,
   "metadata": {
    "collapsed": true
   },
   "outputs": [],
   "source": [
    "t = [0,0,1,0,0,0,0,0,0,0]"
   ]
  },
  {
   "cell_type": "code",
   "execution_count": 21,
   "metadata": {
    "collapsed": true
   },
   "outputs": [],
   "source": [
    "# 예1: '2'' 일 확률이 가장 높다고 추정\n",
    "y = [0.1, 0.05, 0.6, 0.0, 0.05, 0.1, 0.0, 0.1, 0.0, 0.0]\n",
    "t = [0, 0, 1, 0, 0, 0, 0, 0, 0, 0]"
   ]
  },
  {
   "cell_type": "code",
   "execution_count": 23,
   "metadata": {
    "collapsed": false
   },
   "outputs": [
    {
     "data": {
      "text/plain": [
       "0.51082545709933802"
      ]
     },
     "execution_count": 23,
     "metadata": {},
     "output_type": "execute_result"
    }
   ],
   "source": [
    "cross_entropy_error(np.array(y),np.array(t))"
   ]
  },
  {
   "cell_type": "code",
   "execution_count": 24,
   "metadata": {
    "collapsed": true
   },
   "outputs": [],
   "source": [
    "# 예1: '2'' 일 확률이 더 높다고 추정\n",
    "y = [0.1,0.05,0.7,0.0,0.05,0.1,0.0,0.1,0.0,0.0]"
   ]
  },
  {
   "cell_type": "code",
   "execution_count": 25,
   "metadata": {
    "collapsed": false
   },
   "outputs": [
    {
     "data": {
      "text/plain": [
       "0.35667480108159988"
      ]
     },
     "execution_count": 25,
     "metadata": {},
     "output_type": "execute_result"
    }
   ],
   "source": [
    "cross_entropy_error(np.array(y),np.array(t))"
   ]
  },
  {
   "cell_type": "code",
   "execution_count": 26,
   "metadata": {
    "collapsed": true
   },
   "outputs": [],
   "source": [
    "# 예2: '7'일 확률이 가장 높다고 추정된 결과\n",
    "y = [0.1,0.05,0.1,0.0,0.05,0.1,0.0,0.06,0.0,0.0]"
   ]
  },
  {
   "cell_type": "code",
   "execution_count": 27,
   "metadata": {
    "collapsed": false
   },
   "outputs": [
    {
     "data": {
      "text/plain": [
       "2.3025840929945458"
      ]
     },
     "execution_count": 27,
     "metadata": {},
     "output_type": "execute_result"
    }
   ],
   "source": [
    "cross_entropy_error(np.array(y),np.array(t))"
   ]
  },
  {
   "cell_type": "markdown",
   "metadata": {},
   "source": [
    "값이 낮을 수록 잘 예측 한거네!! "
   ]
  },
  {
   "cell_type": "markdown",
   "metadata": {},
   "source": [
    "### 미니 배치 학습"
   ]
  },
  {
   "cell_type": "markdown",
   "metadata": {},
   "source": [
    "- 훈련 데디터 모두에 대한 손실함수 CEE의 합"
   ]
  },
  {
   "cell_type": "markdown",
   "metadata": {},
   "source": [
    "<img src=\"picture/SUM_OF_CEE.png\" />"
   ]
  },
  {
   "cell_type": "markdown",
   "metadata": {},
   "source": [
    "- 평균을 구한다는 것은 훈련 데이터 개수와 관계없이 언제든 통일된 지표를 다룬다는 것 => 테스트 1건당 평균오차가 나온다는 것!!"
   ]
  },
  {
   "cell_type": "markdown",
   "metadata": {},
   "source": [
    "- 빅데이터 시대\n",
    "    - 모든 데이터에 대해 손실함수 값을 구한다는 건 아주 시간이 많이 걸림\n",
    "- 미니 배치(mini-batch) 학습\n",
    "    - 훈련데이터 전체가 아닌 일부만 골라서 학습\n",
    "        - np.random.choice()\n",
    "    - 전체 데이터에서 무작위로 추출한 표본 -> 전체 데이터를 잘 대표"
   ]
  },
  {
   "cell_type": "markdown",
   "metadata": {},
   "source": [
    "### (배치용)교차 엔트로피 오차\n",
    "- 정답 레이블이 원-핫 인코딩인 경우"
   ]
  },
  {
   "cell_type": "code",
   "execution_count": 29,
   "metadata": {
    "collapsed": true
   },
   "outputs": [],
   "source": [
    "def cross_entropy_error(y,t):\n",
    "    y = np.array(y) \n",
    "    t = np.array(t)\n",
    "    if y.ndim == 1:\n",
    "        t = t.reshape(1, t.size)\n",
    "        y = y.reshape(1, y.size)\n",
    "        \n",
    "    batch_size = y.shape[0]\n",
    "    return -np.sum(t * np.log(y)) / batch_size # sum을 한번만 쓰네!!! "
   ]
  },
  {
   "cell_type": "markdown",
   "metadata": {},
   "source": [
    "### 임의의 훈련 데이터 도는 시험 데이터 뽑기\n",
    "numpy.random.choice()"
   ]
  },
  {
   "cell_type": "code",
   "execution_count": 67,
   "metadata": {
    "collapsed": false
   },
   "outputs": [
    {
     "data": {
      "text/plain": [
       "array([186, 129, 445, 344, 552, 771, 774, 365, 911, 807])"
      ]
     },
     "execution_count": 67,
     "metadata": {},
     "output_type": "execute_result"
    }
   ],
   "source": [
    "np.random.choice(1000, 10)"
   ]
  },
  {
   "cell_type": "code",
   "execution_count": 68,
   "metadata": {
    "collapsed": false
   },
   "outputs": [
    {
     "data": {
      "text/plain": [
       "array([9, 1, 9, 2, 7])"
      ]
     },
     "execution_count": 68,
     "metadata": {},
     "output_type": "execute_result"
    }
   ],
   "source": [
    "np.random.choice(10,5)"
   ]
  },
  {
   "cell_type": "code",
   "execution_count": 69,
   "metadata": {
    "collapsed": false
   },
   "outputs": [],
   "source": [
    "import sys\n",
    "import os\n",
    "sys.path.append(os.pardir)\n",
    "from dataset.mnist import load_mnist\n",
    "# dataset folder 찾네!!"
   ]
  },
  {
   "cell_type": "code",
   "execution_count": 70,
   "metadata": {
    "collapsed": false
   },
   "outputs": [],
   "source": [
    "(x_train, t_train), (x_test, t_test) = load_mnist(normalize=True,\n",
    "                                                 one_hot_label=True)"
   ]
  },
  {
   "cell_type": "code",
   "execution_count": 71,
   "metadata": {
    "collapsed": false
   },
   "outputs": [
    {
     "name": "stdout",
     "output_type": "stream",
     "text": [
      "(60000, 784)\n"
     ]
    }
   ],
   "source": [
    "print(x_train.shape)"
   ]
  },
  {
   "cell_type": "code",
   "execution_count": 72,
   "metadata": {
    "collapsed": false
   },
   "outputs": [
    {
     "name": "stdout",
     "output_type": "stream",
     "text": [
      "[29303 28559 38217 56826 17774 35314 54958 31739 41214 42386]\n"
     ]
    }
   ],
   "source": [
    "train_size = x_train.shape[0]\n",
    "batch_size = 10\n",
    "batch_mask = np.random.choice(train_size, batch_size)\n",
    "print(batch_mask)"
   ]
  },
  {
   "cell_type": "code",
   "execution_count": 73,
   "metadata": {
    "collapsed": true
   },
   "outputs": [],
   "source": [
    "x_batch = x_train[batch_mask]\n",
    "t_batch = t_train[batch_mask]"
   ]
  },
  {
   "cell_type": "code",
   "execution_count": 74,
   "metadata": {
    "collapsed": true
   },
   "outputs": [
    {
     "name": "stdout",
     "output_type": "stream",
     "text": [
      "[ 0.          0.          0.          0.          0.          0.          0.\n",
      "  0.          0.          0.          0.          0.          0.          0.\n",
      "  0.          0.          0.          0.          0.          0.          0.\n",
      "  0.          0.          0.          0.          0.          0.          0.\n",
      "  0.          0.          0.          0.          0.          0.          0.\n",
      "  0.          0.          0.          0.          0.          0.          0.\n",
      "  0.          0.          0.          0.          0.          0.          0.\n",
      "  0.          0.          0.          0.          0.          0.          0.\n",
      "  0.          0.          0.          0.          0.          0.          0.\n",
      "  0.          0.          0.          0.          0.          0.          0.\n",
      "  0.          0.          0.          0.          0.          0.          0.\n",
      "  0.          0.          0.          0.          0.          0.          0.\n",
      "  0.          0.          0.          0.          0.          0.          0.\n",
      "  0.          0.          0.          0.          0.          0.          0.\n",
      "  0.          0.          0.          0.          0.          0.          0.\n",
      "  0.          0.          0.          0.          0.          0.          0.\n",
      "  0.          0.          0.          0.          0.          0.          0.\n",
      "  0.          0.          0.          0.          0.          0.          0.\n",
      "  0.          0.          0.          0.          0.          0.          0.\n",
      "  0.          0.          0.          0.          0.          0.          0.\n",
      "  0.          0.          0.          0.          0.          0.          0.\n",
      "  0.          0.          0.          0.          0.          0.          0.\n",
      "  0.          0.          0.          0.          0.          0.          0.\n",
      "  0.          0.          0.          0.          0.          0.          0.\n",
      "  0.          0.          0.          0.          0.          0.          0.\n",
      "  0.          0.          0.          0.12156863  0.36078432  0.58823532\n",
      "  0.74901962  0.66274512  1.          0.78039217  0.46666667  0.01960784\n",
      "  0.          0.          0.          0.          0.          0.          0.\n",
      "  0.          0.          0.          0.          0.          0.          0.\n",
      "  0.          0.          0.          0.10588235  0.55686277  0.91764706\n",
      "  0.99215686  0.99215686  0.99215686  0.99215686  0.99215686  0.99215686\n",
      "  0.99215686  0.41960785  0.          0.          0.          0.          0.\n",
      "  0.          0.          0.          0.          0.          0.          0.\n",
      "  0.          0.          0.          0.          0.32549021  0.96862745\n",
      "  0.99215686  0.99215686  0.99215686  0.99215686  0.99215686  0.99215686\n",
      "  0.99215686  0.99215686  0.99215686  0.50588238  0.          0.          0.\n",
      "  0.          0.          0.          0.          0.          0.          0.\n",
      "  0.          0.          0.          0.          0.          0.\n",
      "  0.21176471  0.99215686  0.99215686  0.99215686  0.99215686  0.99215686\n",
      "  0.99215686  0.99215686  0.99215686  0.99215686  0.99215686  0.50588238\n",
      "  0.          0.          0.          0.          0.          0.          0.\n",
      "  0.          0.          0.          0.          0.          0.          0.\n",
      "  0.          0.          0.01176471  0.67450982  0.99215686  0.99215686\n",
      "  0.99215686  0.82745099  0.99215686  0.65882355  0.17647059  0.16470589\n",
      "  0.07843138  0.04313726  0.          0.          0.          0.          0.\n",
      "  0.          0.          0.          0.          0.          0.          0.\n",
      "  0.          0.          0.          0.          0.          0.20392157\n",
      "  0.96078432  0.99215686  0.99215686  0.99215686  0.99215686  0.41960785\n",
      "  0.          0.81568629  0.          0.          0.          0.          0.\n",
      "  0.          0.          0.          0.          0.          0.          0.\n",
      "  0.          0.          0.          0.          0.          0.          0.\n",
      "  0.          0.12941177  0.62352943  0.98431373  0.99215686  0.99215686\n",
      "  0.90588236  0.60784316  0.97254902  0.4627451   0.00784314  0.          0.\n",
      "  0.          0.          0.          0.          0.          0.          0.\n",
      "  0.          0.          0.          0.          0.          0.          0.\n",
      "  0.          0.          0.          0.          0.47058824  0.99215686\n",
      "  0.99215686  0.99215686  0.99215686  0.99215686  0.99215686  0.09803922\n",
      "  0.          0.          0.          0.          0.          0.          0.\n",
      "  0.          0.          0.          0.          0.          0.          0.\n",
      "  0.          0.          0.          0.          0.          0.\n",
      "  0.00392157  0.41176471  0.89803922  0.99215686  0.99215686  0.99215686\n",
      "  0.86274511  0.05882353  0.          0.          0.          0.          0.\n",
      "  0.          0.          0.          0.          0.          0.          0.\n",
      "  0.          0.          0.          0.          0.          0.          0.\n",
      "  0.          0.          0.          0.3882353   0.99215686  0.99215686\n",
      "  0.99215686  0.52156866  0.          0.          0.          0.          0.\n",
      "  0.          0.          0.          0.          0.          0.          0.\n",
      "  0.          0.          0.          0.          0.          0.          0.\n",
      "  0.          0.          0.          0.          0.3882353   0.99215686\n",
      "  0.99215686  0.99215686  0.93333334  0.07843138  0.          0.          0.\n",
      "  0.          0.          0.          0.          0.          0.          0.\n",
      "  0.          0.          0.          0.          0.          0.          0.\n",
      "  0.          0.          0.          0.          0.03529412  0.81960785\n",
      "  0.99215686  0.99215686  0.99215686  0.99215686  0.16862746  0.          0.\n",
      "  0.          0.          0.          0.          0.          0.          0.\n",
      "  0.          0.          0.          0.          0.          0.          0.\n",
      "  0.          0.          0.          0.          0.          0.50980395\n",
      "  0.99215686  0.99215686  0.8509804   0.99215686  0.99215686  0.50588238\n",
      "  0.          0.          0.          0.          0.          0.          0.\n",
      "  0.          0.          0.          0.          0.          0.          0.\n",
      "  0.          0.          0.          0.          0.          0.\n",
      "  0.12156863  0.97254902  0.99215686  0.62352943  0.41176471  0.99215686\n",
      "  0.99215686  0.50588238  0.          0.          0.          0.          0.\n",
      "  0.          0.          0.          0.          0.          0.          0.\n",
      "  0.          0.          0.          0.          0.          0.          0.\n",
      "  0.          0.83529413  0.99215686  0.99215686  0.35294119  0.82745099\n",
      "  0.99215686  0.99215686  0.21568628  0.          0.          0.          0.\n",
      "  0.          0.          0.          0.          0.          0.          0.\n",
      "  0.          0.          0.          0.          0.          0.          0.\n",
      "  0.          0.22352941  0.97647059  0.99215686  0.83529413  0.74117649\n",
      "  0.99215686  0.99215686  0.96862745  0.09019608  0.          0.          0.\n",
      "  0.          0.          0.          0.          0.          0.          0.\n",
      "  0.          0.          0.          0.          0.          0.          0.\n",
      "  0.          0.          0.24705882  0.99215686  0.99215686  0.99215686\n",
      "  0.99215686  0.99215686  0.99215686  0.41568628  0.          0.          0.\n",
      "  0.          0.          0.          0.          0.          0.          0.\n",
      "  0.          0.          0.          0.          0.          0.          0.\n",
      "  0.          0.          0.          0.24705882  0.99215686  0.99215686\n",
      "  0.99215686  0.99215686  0.98039216  0.51764709  0.04313726  0.          0.\n",
      "  0.          0.          0.          0.          0.          0.          0.\n",
      "  0.          0.          0.          0.          0.          0.          0.\n",
      "  0.          0.          0.          0.          0.19215687  0.95686275\n",
      "  0.99215686  0.99215686  0.95686275  0.33725491  0.          0.          0.\n",
      "  0.          0.          0.          0.          0.          0.          0.\n",
      "  0.          0.          0.          0.          0.          0.          0.\n",
      "  0.          0.          0.          0.          0.          0.\n",
      "  0.66666669  0.99215686  0.66666669  0.32549021  0.          0.          0.\n",
      "  0.          0.          0.          0.          0.          0.          0.\n",
      "  0.          0.          0.          0.          0.          0.          0.\n",
      "  0.          0.          0.          0.          0.          0.          0.\n",
      "  0.          0.          0.          0.          0.          0.          0.\n",
      "  0.          0.          0.          0.          0.          0.          0.\n",
      "  0.          0.          0.          0.          0.          0.          0.\n",
      "  0.          0.          0.          0.          0.          0.          0.\n",
      "  0.          0.          0.          0.          0.          0.          0.\n",
      "  0.          0.          0.          0.          0.          0.          0.\n",
      "  0.          0.          0.        ]\n",
      "[ 0.  0.  0.  0.  0.  0.  0.  0.  1.  0.]\n"
     ]
    }
   ],
   "source": [
    "print(x_batch[0])\n",
    "print(t_batch[0])"
   ]
  },
  {
   "cell_type": "markdown",
   "metadata": {},
   "source": [
    "- ↑정답은 9번이다!! "
   ]
  },
  {
   "cell_type": "markdown",
   "metadata": {},
   "source": [
    "#### 배치처리 할 수 있는 엔트로피!!"
   ]
  },
  {
   "cell_type": "code",
   "execution_count": 80,
   "metadata": {
    "collapsed": true
   },
   "outputs": [],
   "source": [
    "# 배치처리 할 수 있는 엔트로피!! \n",
    "def cross_entropy_error(y,t):\n",
    "    if y.ndim == 1:\n",
    "        t = t.reshape(1, t.size)\n",
    "        y = y.reshape(1, y.size)\n",
    "    batch_size = y.shape[0]\n",
    "    \n",
    "    return -np.sum(t * np.log(y)) / batch_size # sum을 한번만 쓰네!!! "
   ]
  },
  {
   "cell_type": "raw",
   "metadata": {},
   "source": [
    "pwd\n",
    "%cd origin/ch03\n",
    "import neuralnet_mnist\n",
    "import neuralnet_mnist_batch\n",
    "network = neuralnet_mnist.init_network()"
   ]
  },
  {
   "cell_type": "code",
   "execution_count": 77,
   "metadata": {
    "collapsed": false
   },
   "outputs": [],
   "source": [
    "y = neuralnet_mnist.predict(network, x_batch)"
   ]
  },
  {
   "cell_type": "code",
   "execution_count": 81,
   "metadata": {
    "collapsed": true
   },
   "outputs": [
    {
     "name": "stdout",
     "output_type": "stream",
     "text": [
      "[[  3.61903803e-05   1.70694608e-02   9.88106709e-04   8.07787403e-02\n",
      "    3.20419786e-04   1.88746899e-01   4.25580220e-05   1.74512099e-02\n",
      "    6.56336427e-01   3.82299125e-02]\n",
      " [  1.52442808e-04   1.40702003e-03   9.80292737e-01   1.21675096e-02\n",
      "    2.84785557e-07   2.69820826e-04   1.24263205e-03   1.47641924e-06\n",
      "    4.46564285e-03   3.34375869e-07]\n",
      " [  4.27501982e-05   6.60422549e-04   3.06087236e-06   3.67871020e-04\n",
      "    3.28143551e-06   9.97872829e-01   2.99357816e-05   8.71647080e-06\n",
      "    1.00958522e-03   1.54234169e-06]\n",
      " [  2.28216436e-07   6.07544389e-05   6.62211141e-06   1.27277628e-04\n",
      "    9.16945815e-01   6.20530627e-04   1.84832141e-04   2.18711080e-04\n",
      "    9.96335177e-04   8.08387995e-02]\n",
      " [  4.45477490e-05   3.87699311e-06   7.02482590e-04   7.63635762e-05\n",
      "    9.63032901e-01   3.38913669e-04   3.43625783e-04   1.53190747e-03\n",
      "    2.68317130e-03   3.12422682e-02]\n",
      " [  3.38544305e-05   1.78706375e-06   3.31213407e-04   1.77189340e-05\n",
      "    9.93177056e-01   1.30923319e-04   2.90849153e-03   2.26291799e-04\n",
      "    1.22537516e-04   3.05010704e-03]\n",
      " [  1.47558021e-04   6.10610354e-04   2.56371796e-02   2.85776169e-03\n",
      "    1.23589416e-03   4.68750205e-03   1.48101652e-04   3.63590871e-03\n",
      "    9.32819188e-01   2.82203108e-02]\n",
      " [  1.82168412e-06   9.20427024e-01   1.84942558e-02   1.25646479e-02\n",
      "    1.09545561e-03   5.42312860e-03   1.97615271e-04   2.15209424e-02\n",
      "    1.89288780e-02   1.34634227e-03]\n",
      " [  2.24235584e-04   2.50373050e-05   9.35242232e-03   1.89722323e-05\n",
      "    4.21719765e-03   1.73616013e-03   9.84371245e-01   3.63288309e-05\n",
      "    1.68674796e-05   1.48959418e-06]\n",
      " [  7.77053938e-05   1.50885724e-04   1.58955366e-03   3.11775875e-05\n",
      "    1.85179536e-03   5.18846372e-03   9.90447760e-01   4.33119311e-07\n",
      "    6.59637211e-04   2.48276228e-06]]\n",
      "[[ 0.  0.  0.  0.  0.  0.  0.  0.  1.  0.]\n",
      " [ 0.  0.  1.  0.  0.  0.  0.  0.  0.  0.]\n",
      " [ 0.  0.  0.  0.  0.  1.  0.  0.  0.  0.]\n",
      " [ 0.  0.  0.  0.  1.  0.  0.  0.  0.  0.]\n",
      " [ 0.  0.  0.  0.  1.  0.  0.  0.  0.  0.]\n",
      " [ 0.  0.  0.  0.  1.  0.  0.  0.  0.  0.]\n",
      " [ 0.  0.  0.  0.  0.  0.  0.  0.  1.  0.]\n",
      " [ 0.  1.  0.  0.  0.  0.  0.  0.  0.  0.]\n",
      " [ 0.  0.  0.  0.  0.  0.  1.  0.  0.  0.]\n",
      " [ 0.  0.  0.  0.  0.  0.  1.  0.  0.  0.]]\n"
     ]
    }
   ],
   "source": [
    "print(y)\n",
    "print(t_batch)"
   ]
  },
  {
   "cell_type": "code",
   "execution_count": 82,
   "metadata": {
    "collapsed": false
   },
   "outputs": [
    {
     "data": {
      "text/plain": [
       "0.075214796024374669"
      ]
     },
     "execution_count": 82,
     "metadata": {},
     "output_type": "execute_result"
    }
   ],
   "source": [
    "cross_entropy_error(y, t_batch)"
   ]
  },
  {
   "cell_type": "markdown",
   "metadata": {},
   "source": [
    "- 엔트로피 값을 출력하였다!!!"
   ]
  },
  {
   "cell_type": "markdown",
   "metadata": {},
   "source": [
    "#### 정답 레이블이 '2','7' 과 같은 숫자 레이블로 주어진 경우"
   ]
  },
  {
   "cell_type": "code",
   "execution_count": 83,
   "metadata": {
    "collapsed": true
   },
   "outputs": [],
   "source": [
    "def cross_entropy(y,t):\n",
    "    if y.ndim == 1:\n",
    "        t = t.reshape(1,t.size)\n",
    "        y = y.reshape(1,y.size)\n",
    "    batch_size = y.shape[0]\n",
    "    \n",
    "    return - np.sum(np.log(y[np.arange(batch_size), t]) / batch_size)"
   ]
  },
  {
   "cell_type": "markdown",
   "metadata": {},
   "source": [
    "- 앞의 cross_entropy 만드는 2가지 방법이 차이는 무엇?\n",
    "    - y값의 몇번째 column의 값이다를 t로 선택해 주는 방법이 2번째 방법이다!! \n",
    "    - 결과는 동일하다!! "
   ]
  },
  {
   "cell_type": "code",
   "execution_count": 86,
   "metadata": {
    "collapsed": false
   },
   "outputs": [
    {
     "name": "stdout",
     "output_type": "stream",
     "text": [
      "[[ 0  1  2  3  4  5  6  7  8  9]\n",
      " [10 11 12 13 14 15 16 17 18 19]\n",
      " [20 21 22 23 24 25 26 27 28 29]]\n"
     ]
    }
   ],
   "source": [
    "y = np.arange(30).reshape(3, 10)\n",
    "print(y)"
   ]
  },
  {
   "cell_type": "code",
   "execution_count": 87,
   "metadata": {
    "collapsed": true
   },
   "outputs": [],
   "source": [
    "t = np.array([3,7,1])"
   ]
  },
  {
   "cell_type": "code",
   "execution_count": 88,
   "metadata": {
    "collapsed": false
   },
   "outputs": [
    {
     "name": "stdout",
     "output_type": "stream",
     "text": [
      "3\n"
     ]
    }
   ],
   "source": [
    "batch_size = y.shape[0]\n",
    "print(batch_size)"
   ]
  },
  {
   "cell_type": "code",
   "execution_count": 89,
   "metadata": {
    "collapsed": false
   },
   "outputs": [
    {
     "data": {
      "text/plain": [
       "array([ 3, 17, 21])"
      ]
     },
     "execution_count": 89,
     "metadata": {},
     "output_type": "execute_result"
    }
   ],
   "source": [
    "y[np.arange(batch_size), t]\n",
    "# y 3x10 인데 t는 1차원 [3,7,1]이지.. \n",
    "# np.arange(batch_size) [0,1,2] 나오지... 1차원이다!!  \n",
    "# 0번째 row의 4번째 값, 1번재 row의 8번째 값, 2번째 row의 2번재 값."
   ]
  },
  {
   "cell_type": "markdown",
   "metadata": {},
   "source": [
    "#### 더 일반적인 형태를 보자!!\n",
    "#### - 정답 레이블이 원-핫 인코딩이든 숫자 레이블이든 무관\n",
    "- 원-핫 인코딩을 숫자 레이블로 변환"
   ]
  },
  {
   "cell_type": "code",
   "execution_count": 93,
   "metadata": {
    "collapsed": false
   },
   "outputs": [],
   "source": [
    "def cross_entropy_error(y, t): # m x 10 / m x 10\n",
    "    if y.ndim == 1:\n",
    "        t = t.reshape(1, t.size)\n",
    "        y = y.reshape(1, y.size)\n",
    "        \n",
    "    # 훈련 데이터가 원-핫 벡터라면 정답 레이블의 인덱스로 반환\n",
    "    if t.size == y.size: # 원-핫 벡터인지 확인!! \n",
    "        t = t.argmax(axis=1)\n",
    "    batch_size = y.shape[0]\n",
    "    \n",
    "    return -np.sum(np.log(y[np.arange(batch_size), t])) / batch_size"
   ]
  },
  {
   "cell_type": "markdown",
   "metadata": {},
   "source": [
    "### 손실 함수를 설정하는 이유"
   ]
  },
  {
   "cell_type": "markdown",
   "metadata": {},
   "source": [
    "- **손실 함수 vs. 정확도**, 정확도보다 손실함수를 쓴다고 한다!! \n",
    "- 가중이 매개변수에 대한 손실 함수의 미분\n",
    "    - 가중치 매개변수의 값을 아주 조금 변화시킬 때, 손실 함수가 어떻게 변하나\n",
    "    - 손실 함수 값 줄이기\n",
    "        - 미분 값이 음수 -> 해당 가중치 매개변수를 양의 방향으로 변화\n",
    "        - 미분 값이 양수 -> 해당 가중치 매개변수를 음의 방향으로 변화\n",
    "        - **미분 값이 0** -> 해당 가중치 **매개변수 갱신 중단**\n",
    "        - (그림 생각나야지!! '손실함수 그래프'와 '가중치 그래프')\n",
    "- 신경망 학습 시 정확도를 지표로 삼아선 안 된다!!!!\n",
    "    - 정확도에 대한 매개변수의 미분이 대부분의 장소에서 0이 되기 때문\n",
    "    - 가중치를 조금 변화시켜도 정확도는 거의 그대로이므로\n",
    "    - 계단 함수를 활성화 함수로 사용하지 않는 이유와도 일맥상통"
   ]
  },
  {
   "cell_type": "markdown",
   "metadata": {},
   "source": [
    "### 계단 함수와 시그모이드 함수\n",
    "- 계단 함수를 활성화 함수로 사용하지 않는 이유\n",
    "    - 계단 함수: 대부분의 장소에서 기울기가 0\n",
    "    - 시그모이드 함수: 어느 장소라도 기울기가 0이 아님"
   ]
  },
  {
   "cell_type": "markdown",
   "metadata": {},
   "source": [
    "<img src=\"picture/step_sigmoid.png\"/>"
   ]
  },
  {
   "cell_type": "markdown",
   "metadata": {},
   "source": [
    "### 수치 미분"
   ]
  },
  {
   "cell_type": "markdown",
   "metadata": {},
   "source": [
    "- 미분\n",
    "    - '평균 변화량'이 아닌 '순간 변화량'\n",
    "<img src=\"picture/diff.PNG\" />    "
   ]
  },
  {
   "cell_type": "code",
   "execution_count": 95,
   "metadata": {
    "collapsed": true
   },
   "outputs": [],
   "source": [
    "def numerical_diff(f, x):\n",
    "    h = 1e-50\n",
    "    return (f(x+h) - f(x)) / h"
   ]
  },
  {
   "cell_type": "markdown",
   "metadata": {},
   "source": [
    "- 미분\n",
    "    - x의 '작은 변화'가 함수 f(x)를 얼마나 변화시키느냐\n",
    "    - 파이썬으로 수치 미분 구현\n",
    "    \n",
    "    - 두가지 문제점\n",
    "        - 반올림 오차(rounding error)\n",
    "        - 함수의 차분과 기울기 간의 간극\n",
    "      "
   ]
  },
  {
   "cell_type": "code",
   "execution_count": 105,
   "metadata": {
    "collapsed": false
   },
   "outputs": [
    {
     "data": {
      "text/plain": [
       "(1e-50, 0.0)"
      ]
     },
     "execution_count": 105,
     "metadata": {},
     "output_type": "execute_result"
    }
   ],
   "source": [
    "np.float64(1e-50), np.float32(1e-50)"
   ]
  },
  {
   "cell_type": "markdown",
   "metadata": {},
   "source": [
    "- 반올림 오차\n",
    "    - 원인 : 너무 작은 값 >>> np.float32(1e-50)\n",
    "    - 해결책 : h의 값으로 1e-4 사용\n",
    "  \n",
    "- 차분과 기울기의 간극\n",
    "    - 원인 : 전방 차분\n",
    "    - 해결책 : 중앙차분\n",
    "    \n",
    "<img src=\"picture/center_diff.png\" />"
   ]
  },
  {
   "cell_type": "markdown",
   "metadata": {},
   "source": [
    "- 개선된 파이썬 수치 미분 코드"
   ]
  },
  {
   "cell_type": "code",
   "execution_count": 119,
   "metadata": {
    "collapsed": true
   },
   "outputs": [],
   "source": [
    "def numerical_diff(f, x):\n",
    "    h = 1e-4\n",
    "    return (f(x+h) - f(x-h)) / (2*h) # 중앙 차분"
   ]
  },
  {
   "cell_type": "markdown",
   "metadata": {},
   "source": [
    "- 수치 미분의 예\n",
    "    - gradient_1d.py 참고"
   ]
  },
  {
   "cell_type": "code",
   "execution_count": 120,
   "metadata": {
    "collapsed": true
   },
   "outputs": [],
   "source": [
    "def function_1(x):\n",
    "    return 0.01*x**2 + 0.1*x"
   ]
  },
  {
   "cell_type": "code",
   "execution_count": 121,
   "metadata": {
    "collapsed": false
   },
   "outputs": [],
   "source": [
    "import numpy as np\n",
    "import matplotlib.pyplot as plt"
   ]
  },
  {
   "cell_type": "code",
   "execution_count": 122,
   "metadata": {
    "collapsed": true
   },
   "outputs": [],
   "source": [
    "%matplotlib inline"
   ]
  },
  {
   "cell_type": "code",
   "execution_count": 123,
   "metadata": {
    "collapsed": true
   },
   "outputs": [],
   "source": [
    "x = np.arange(0.0,20.0,0.1)\n",
    "y = function_1(x)"
   ]
  },
  {
   "cell_type": "code",
   "execution_count": 124,
   "metadata": {
    "collapsed": false
   },
   "outputs": [
    {
     "data": {
      "text/plain": [
       "[<matplotlib.lines.Line2D at 0x95a9940>]"
      ]
     },
     "execution_count": 124,
     "metadata": {},
     "output_type": "execute_result"
    },
    {
     "data": {
      "image/png": "[encoded data removed]",
      "text/plain": [
       "<matplotlib.figure.Figure at 0x9434d30>"
      ]
     },
     "metadata": {},
     "output_type": "display_data"
    }
   ],
   "source": [
    "plt.xlabel('x')\n",
    "plt.ylabel('f(x)')\n",
    "plt.plot(x,y)"
   ]
  },
  {
   "cell_type": "code",
   "execution_count": 127,
   "metadata": {
    "collapsed": false
   },
   "outputs": [
    {
     "data": {
      "text/plain": [
       "0.1999999999990898"
      ]
     },
     "execution_count": 127,
     "metadata": {},
     "output_type": "execute_result"
    }
   ],
   "source": [
    "numerical_diff(function_1, 5)"
   ]
  },
  {
   "cell_type": "markdown",
   "metadata": {},
   "source": [
    "5 지점에서 기울기가 0.2 인거다!!! "
   ]
  },
  {
   "cell_type": "code",
   "execution_count": 135,
   "metadata": {
    "collapsed": true
   },
   "outputs": [],
   "source": [
    "def tangent_line(f, x):\n",
    "    a = numerical_diff(f, x)\n",
    "    print(a)\n",
    "    b = f(x) - a*x\n",
    "    return lambda t: a*t + b\n",
    "    "
   ]
  },
  {
   "cell_type": "code",
   "execution_count": 146,
   "metadata": {
    "collapsed": false
   },
   "outputs": [
    {
     "name": "stdout",
     "output_type": "stream",
     "text": [
      "0.1999999999990898\n",
      "[-0.25 -0.23 -0.21 -0.19 -0.17 -0.15 -0.13 -0.11 -0.09 -0.07 -0.05 -0.03\n",
      " -0.01  0.01  0.03  0.05  0.07  0.09  0.11  0.13  0.15  0.17  0.19  0.21\n",
      "  0.23  0.25  0.27  0.29  0.31  0.33  0.35  0.37  0.39  0.41  0.43  0.45\n",
      "  0.47  0.49  0.51  0.53  0.55  0.57  0.59  0.61  0.63  0.65  0.67  0.69\n",
      "  0.71  0.73  0.75  0.77  0.79  0.81  0.83  0.85  0.87  0.89  0.91  0.93\n",
      "  0.95  0.97  0.99  1.01  1.03  1.05  1.07  1.09  1.11  1.13  1.15  1.17\n",
      "  1.19  1.21  1.23  1.25  1.27  1.29  1.31  1.33  1.35  1.37  1.39  1.41\n",
      "  1.43  1.45  1.47  1.49  1.51  1.53  1.55  1.57  1.59  1.61  1.63  1.65\n",
      "  1.67  1.69  1.71  1.73  1.75  1.77  1.79  1.81  1.83  1.85  1.87  1.89\n",
      "  1.91  1.93  1.95  1.97  1.99  2.01  2.03  2.05  2.07  2.09  2.11  2.13\n",
      "  2.15  2.17  2.19  2.21  2.23  2.25  2.27  2.29  2.31  2.33  2.35  2.37\n",
      "  2.39  2.41  2.43  2.45  2.47  2.49  2.51  2.53  2.55  2.57  2.59  2.61\n",
      "  2.63  2.65  2.67  2.69  2.71  2.73  2.75  2.77  2.79  2.81  2.83  2.85\n",
      "  2.87  2.89  2.91  2.93  2.95  2.97  2.99  3.01  3.03  3.05  3.07  3.09\n",
      "  3.11  3.13  3.15  3.17  3.19  3.21  3.23  3.25  3.27  3.29  3.31  3.33\n",
      "  3.35  3.37  3.39  3.41  3.43  3.45  3.47  3.49  3.51  3.53  3.55  3.57\n",
      "  3.59  3.61  3.63  3.65  3.67  3.69  3.71  3.73]\n"
     ]
    }
   ],
   "source": [
    "tangent = tangent_line(function_1, 5)\n",
    "tl = tangent(x) # return값 뽑음!\n",
    "print(tl)"
   ]
  },
  {
   "cell_type": "code",
   "execution_count": 147,
   "metadata": {
    "collapsed": false,
    "scrolled": true
   },
   "outputs": [
    {
     "data": {
      "text/plain": [
       "[<matplotlib.lines.Line2D at 0x987cb00>]"
      ]
     },
     "execution_count": 147,
     "metadata": {},
     "output_type": "execute_result"
    },
    {
     "data": {
      "image/png": "[encoded data removed]",
      "text/plain": [
       "<matplotlib.figure.Figure at 0x987ca20>"
      ]
     },
     "metadata": {},
     "output_type": "display_data"
    }
   ],
   "source": [
    "plt.xlabel('x')\n",
    "plt.ylabel('f(x)')\n",
    "plt.plot(x,y)\n",
    "plt.plot(x,tl)"
   ]
  },
  {
   "cell_type": "markdown",
   "metadata": {},
   "source": [
    "- ↑ 5 지점에서 미분!! "
   ]
  },
  {
   "cell_type": "markdown",
   "metadata": {},
   "source": [
    "- 변수가 2개 이상"
   ]
  },
  {
   "cell_type": "markdown",
   "metadata": {},
   "source": [
    "<img src=\"picture/partial_diff.png\" />"
   ]
  },
  {
   "cell_type": "code",
   "execution_count": 178,
   "metadata": {
    "collapsed": true
   },
   "outputs": [],
   "source": [
    "def function_2(x): # x는 array다!! \n",
    "    return x[0]**2 + x[1]**2\n",
    "    # return np.sum(x**2)"
   ]
  },
  {
   "cell_type": "markdown",
   "metadata": {},
   "source": [
    "- 기울기\n",
    "    - 모든 변수의 편미분을 벡터로 정리한 것"
   ]
  },
  {
   "cell_type": "markdown",
   "metadata": {},
   "source": [
    "<img src=\"picture/grad.png\" />"
   ]
  },
  {
   "cell_type": "code",
   "execution_count": 180,
   "metadata": {
    "collapsed": true
   },
   "outputs": [],
   "source": [
    "def numerical_gradient(f, X):\n",
    "    if X.ndim == 1:\n",
    "        return _numerical_gradient_no_batch(f, X)\n",
    "    else:\n",
    "        grad = np.zeros_like(X)\n",
    "        \n",
    "        for idx, x in enumerate(X):\n",
    "            grad[idx] = _numerical_gradient_no_batch(f, x)\n",
    "        \n",
    "        return grad"
   ]
  },
  {
   "cell_type": "code",
   "execution_count": 181,
   "metadata": {
    "collapsed": true
   },
   "outputs": [],
   "source": [
    "\n",
    "def _numerical_gradient_no_batch(f, x):\n",
    "    h = 1e-4 # 0.0001\n",
    "    grad = np.zeros_like(x) # x와 형상이 같은 배열을 생성\n",
    "    \n",
    "    for idx in range(x.size):\n",
    "        tmp_val = x[idx]\n",
    "        \n",
    "        # f(x+h) 계산\n",
    "        x[idx] = float(tmp_val) + h\n",
    "        fxh1 = f(x)\n",
    "        \n",
    "        # f(x-h) 계산\n",
    "        x[idx] = tmp_val - h \n",
    "        fxh2 = f(x) \n",
    "        \n",
    "        grad[idx] = (fxh1 - fxh2) / (2*h)\n",
    "        x[idx] = tmp_val # 값 복원\n",
    "        \n",
    "    return grad"
   ]
  },
  {
   "cell_type": "markdown",
   "metadata": {},
   "source": [
    "- ! 기울기가 가리키는 쪽은 각 장소에서 함수의 출력 값을 가장 크게 줄이는 방향!"
   ]
  },
  {
   "cell_type": "code",
   "execution_count": 190,
   "metadata": {
    "collapsed": false
   },
   "outputs": [
    {
     "name": "stdout",
     "output_type": "stream",
     "text": [
      "C:\\pydev\\Machine_Learning\\MLiA_py3\\DeepLearning\\origin\\ch04\n"
     ]
    }
   ],
   "source": [
    "%cd ch04"
   ]
  },
  {
   "cell_type": "code",
   "execution_count": 192,
   "metadata": {
    "collapsed": false
   },
   "outputs": [],
   "source": [
    "# importlib.reload(gradient_2d)\n",
    "import gradient_2d"
   ]
  },
  {
   "cell_type": "code",
   "execution_count": 193,
   "metadata": {
    "collapsed": false
   },
   "outputs": [
    {
     "name": "stderr",
     "output_type": "stream",
     "text": [
      "C:\\Anaconda3\\lib\\site-packages\\matplotlib\\axes\\_axes.py:545: UserWarning: No labelled objects found. Use label='...' kwarg on individual plots.\n",
      "  warnings.warn(\"No labelled objects found. \"\n"
     ]
    },
    {
     "data": {
      "image/png": "[encoded data removed]",
      "text/plain": [
       "<matplotlib.figure.Figure at 0xab09d30>"
      ]
     },
     "metadata": {},
     "output_type": "display_data"
    }
   ],
   "source": [
    "%run gradient_2d"
   ]
  },
  {
   "cell_type": "code",
   "execution_count": 194,
   "metadata": {
    "collapsed": false
   },
   "outputs": [
    {
     "name": "stderr",
     "output_type": "stream",
     "text": [
      "C:\\Anaconda3\\lib\\site-packages\\matplotlib\\axes\\_axes.py:545: UserWarning: No labelled objects found. Use label='...' kwarg on individual plots.\n",
      "  warnings.warn(\"No labelled objects found. \"\n"
     ]
    },
    {
     "data": {
      "image/png": "[encoded data removed]",
      "text/plain": [
       "<matplotlib.figure.Figure at 0xab764a8>"
      ]
     },
     "metadata": {},
     "output_type": "display_data"
    }
   ],
   "source": [
    "if __name__ == '__main__':\n",
    "    x0 = np.arange(-2, 2.5, 0.25)\n",
    "    x1 = np.arange(-2, 2.5, 0.25)\n",
    "    X, Y = np.meshgrid(x0, x1)\n",
    "    \n",
    "    X = X.flatten()\n",
    "    Y = Y.flatten()\n",
    "    \n",
    "    grad = numerical_gradient(function_2, np.array([X, Y]) )\n",
    "    \n",
    "    plt.figure()\n",
    "    plt.quiver(X, Y, -grad[0], -grad[1],  angles=\"xy\",color=\"#666666\")#,headwidth=10,scale=40,color=\"#444444\")\n",
    "    plt.xlim([-2, 2])\n",
    "    plt.ylim([-2, 2])\n",
    "    plt.xlabel('x0')\n",
    "    plt.ylabel('x1')\n",
    "    plt.grid()\n",
    "    plt.legend()\n",
    "    plt.draw()\n",
    "    plt.show()"
   ]
  },
  {
   "cell_type": "markdown",
   "metadata": {},
   "source": [
    "### 경사법(경사 하강법)\n",
    "- 기울기를 이용, 함수의 최솟값을 찾으려는 방법\n",
    "    - 기울기가 0인 지점\n",
    "        - 최솟값, 극솟값, 안장점(saddle point)\n",
    "- 경사 하강법(Gradient Descent)\n",
    "    - 학습률"
   ]
  },
  {
   "cell_type": "markdown",
   "metadata": {},
   "source": [
    "<img src=\"picture/Gradient Descent.png\" />"
   ]
  },
  {
   "cell_type": "markdown",
   "metadata": {},
   "source": [
    "1. $X_0$ 축으로 얼만큼 기울어져 있는가?\n",
    "2. $X_1$ 축으로 얼만큼 기울어져 있는가?\n",
    "\n",
    "- parameter의 다음 상태는 현재에서 그 parameter에 대한 Gradient Descent를 구해서 학습률(learning rate) 곱한것을 빼주면 된다!!!!"
   ]
  },
  {
   "cell_type": "code",
   "execution_count": 196,
   "metadata": {
    "collapsed": true
   },
   "outputs": [],
   "source": [
    "def gradient_descent(f, init_x, lr=0.01, step_num=100): # 100번 학습률은 0.01 기울기의 1%씩 움직이겠다!!!\n",
    "    x = init_x\n",
    "    \n",
    "    for i in range(step_num):\n",
    "        grad = numerical_gradient(f,x)\n",
    "        x -= lr * grad # 학습률 * 기울기\n",
    "        \n",
    "    return x"
   ]
  },
  {
   "cell_type": "markdown",
   "metadata": {},
   "source": [
    "### 경사법으로 $f(x_0, x_1) = x^2_0 + x^2_1$ 의 최솟값을 구하라"
   ]
  },
  {
   "cell_type": "code",
   "execution_count": 208,
   "metadata": {
    "collapsed": true
   },
   "outputs": [],
   "source": [
    "def function_2(x):\n",
    "    return x[0]**2 + x[1]**2"
   ]
  },
  {
   "cell_type": "code",
   "execution_count": 209,
   "metadata": {
    "collapsed": true
   },
   "outputs": [],
   "source": [
    "init_x = np.array([-3.0, 4.0]) # 시작위치 지정, 보통 랜덤하게 지정한다!! "
   ]
  },
  {
   "cell_type": "code",
   "execution_count": 210,
   "metadata": {
    "collapsed": false
   },
   "outputs": [
    {
     "data": {
      "text/plain": [
       "array([ -6.11110793e-10,   8.14814391e-10])"
      ]
     },
     "execution_count": 210,
     "metadata": {},
     "output_type": "execute_result"
    }
   ],
   "source": [
    "gradient_descent(function_2, init_x=init_x, lr=0.1, step_num=100)"
   ]
  },
  {
   "cell_type": "code",
   "execution_count": 216,
   "metadata": {
    "collapsed": false
   },
   "outputs": [
    {
     "data": {
      "image/png": "[encoded data removed]",
      "text/plain": [
       "<matplotlib.figure.Figure at 0xaa9e2e8>"
      ]
     },
     "metadata": {},
     "output_type": "display_data"
    },
    {
     "data": {
      "text/plain": [
       "<module 'gradient_method' from 'C:\\\\pydev\\\\Machine_Learning\\\\MLiA_py3\\\\DeepLearning\\\\origin\\\\ch04\\\\gradient_method.py'>"
      ]
     },
     "execution_count": 216,
     "metadata": {},
     "output_type": "execute_result"
    }
   ],
   "source": [
    "# import gradient_method\n",
    "importlib.reload(gradient_method)"
   ]
  },
  {
   "cell_type": "code",
   "execution_count": 243,
   "metadata": {
    "collapsed": true
   },
   "outputs": [],
   "source": [
    "init_x = np.array([-3.0, 4.0])"
   ]
  },
  {
   "cell_type": "code",
   "execution_count": 244,
   "metadata": {
    "collapsed": false
   },
   "outputs": [],
   "source": [
    "result, _ = gradient_method.gradient_descent(function_2, init_x, \n",
    "                                             lr=0.1, step_num=100)"
   ]
  },
  {
   "cell_type": "code",
   "execution_count": 245,
   "metadata": {
    "collapsed": false
   },
   "outputs": [
    {
     "data": {
      "text/plain": [
       "array([ -6.11110793e-10,   8.14814391e-10])"
      ]
     },
     "execution_count": 245,
     "metadata": {},
     "output_type": "execute_result"
    }
   ],
   "source": [
    "result"
   ]
  },
  {
   "cell_type": "markdown",
   "metadata": {},
   "source": [
    "- 학습률이 크면 어떻게 되나?!"
   ]
  },
  {
   "cell_type": "code",
   "execution_count": 250,
   "metadata": {
    "collapsed": true
   },
   "outputs": [],
   "source": [
    "init_x = np.array([-3.0, 4.0]) \n",
    "# 다시 지정해 줘야 한다. x의 변화가 init_x에 그대로 영향을 미치기 때문에!!!"
   ]
  },
  {
   "cell_type": "code",
   "execution_count": 247,
   "metadata": {
    "collapsed": true
   },
   "outputs": [],
   "source": [
    "result, _ = gradient_method.gradient_descent(function_2, init_x, \n",
    "                                             lr=10.0, step_num=100)"
   ]
  },
  {
   "cell_type": "code",
   "execution_count": 248,
   "metadata": {
    "collapsed": false,
    "scrolled": true
   },
   "outputs": [
    {
     "data": {
      "text/plain": [
       "array([ -2.58983747e+13,  -1.29524862e+12])"
      ]
     },
     "execution_count": 248,
     "metadata": {},
     "output_type": "execute_result"
    }
   ],
   "source": [
    "result # 엄청나게 먼 곳으로 가버렸다!!!"
   ]
  },
  {
   "cell_type": "markdown",
   "metadata": {},
   "source": [
    "- 학습률이 작으면?"
   ]
  },
  {
   "cell_type": "code",
   "execution_count": 251,
   "metadata": {
    "collapsed": false
   },
   "outputs": [
    {
     "data": {
      "text/plain": [
       "array([-2.99999994,  3.99999992])"
      ]
     },
     "execution_count": 251,
     "metadata": {},
     "output_type": "execute_result"
    }
   ],
   "source": [
    "init_x = np.array([-3.0, 4.0]) \n",
    "result, _ = gradient_method.gradient_descent(function_2, init_x, \n",
    "                                             lr=1e-10, step_num=100)\n",
    "result # 안움직이지..."
   ]
  },
  {
   "cell_type": "code",
   "execution_count": null,
   "metadata": {
    "collapsed": true
   },
   "outputs": [],
   "source": []
  },
  {
   "cell_type": "markdown",
   "metadata": {},
   "source": [
    "### 파이썬 리스트 복사\n",
    "init_x 값이 변동하네..."
   ]
  },
  {
   "cell_type": "code",
   "execution_count": 252,
   "metadata": {
    "collapsed": false
   },
   "outputs": [
    {
     "name": "stdout",
     "output_type": "stream",
     "text": [
      "[9, 2, 1, 4] [9, 2, 1, 4]\n"
     ]
    }
   ],
   "source": [
    "a = [9,2,1,4]\n",
    "b = a\n",
    "print(a,b)"
   ]
  },
  {
   "cell_type": "code",
   "execution_count": 253,
   "metadata": {
    "collapsed": false
   },
   "outputs": [
    {
     "name": "stdout",
     "output_type": "stream",
     "text": [
      "[999, 2, 1, 4] [999, 2, 1, 4]\n"
     ]
    }
   ],
   "source": [
    "b[0] = 999\n",
    "print(a,b)"
   ]
  },
  {
   "cell_type": "markdown",
   "metadata": {},
   "source": [
    "- 위와 같은 참조를 막기 위해서는"
   ]
  },
  {
   "cell_type": "code",
   "execution_count": 254,
   "metadata": {
    "collapsed": true
   },
   "outputs": [],
   "source": [
    "c = a[:] # slicing\n",
    "d = list(a) # "
   ]
  },
  {
   "cell_type": "code",
   "execution_count": 255,
   "metadata": {
    "collapsed": false
   },
   "outputs": [
    {
     "name": "stdout",
     "output_type": "stream",
     "text": [
      "False\n",
      "True\n",
      "False\n"
     ]
    }
   ],
   "source": [
    "print(a is c)\n",
    "print(a is b)\n",
    "print(b is c)"
   ]
  },
  {
   "cell_type": "code",
   "execution_count": 257,
   "metadata": {
    "collapsed": true
   },
   "outputs": [],
   "source": [
    "a = [1,2,['a','b'], 3]\n",
    "c = a[:]"
   ]
  },
  {
   "cell_type": "code",
   "execution_count": 258,
   "metadata": {
    "collapsed": true
   },
   "outputs": [],
   "source": [
    "a[2][1] = 'xyz'"
   ]
  },
  {
   "cell_type": "code",
   "execution_count": 260,
   "metadata": {
    "collapsed": false
   },
   "outputs": [
    {
     "name": "stdout",
     "output_type": "stream",
     "text": [
      "[1, 2, ['a', 'xyz'], 3]\n",
      "[1, 2, ['a', 'xyz'], 3]\n"
     ]
    }
   ],
   "source": [
    "print(a)\n",
    "print(c) # a와 함께 변동되었네..."
   ]
  },
  {
   "cell_type": "markdown",
   "metadata": {},
   "source": [
    "- 중첩list에 있는 것은 같이 참조되어 있어서....\n",
    "- 해결법은 deepcopy 해야한다!! "
   ]
  },
  {
   "cell_type": "code",
   "execution_count": 261,
   "metadata": {
    "collapsed": true
   },
   "outputs": [],
   "source": [
    "import copy"
   ]
  },
  {
   "cell_type": "code",
   "execution_count": 262,
   "metadata": {
    "collapsed": false
   },
   "outputs": [
    {
     "name": "stdout",
     "output_type": "stream",
     "text": [
      "[1, 2, ['abc', 'xyz'], 3]\n",
      "[1, 2, ['abc', 'xyz'], 3]\n",
      "[1, 2, ['a', 'xyz'], 3]\n"
     ]
    }
   ],
   "source": [
    "d = copy.deepcopy(a)\n",
    "a[2][0] = 'abc'\n",
    "print(a)\n",
    "print(c)\n",
    "print(d) # 변경되지 않았다. deepcopy를 사용해서!!!"
   ]
  },
  {
   "cell_type": "code",
   "execution_count": null,
   "metadata": {
    "collapsed": true
   },
   "outputs": [],
   "source": []
  },
  {
   "cell_type": "code",
   "execution_count": 268,
   "metadata": {
    "collapsed": true
   },
   "outputs": [],
   "source": [
    "def func_a(x):\n",
    "    my_x = x\n",
    "    print(my_x)\n",
    "    my_x = 200\n",
    "    return my_x"
   ]
  },
  {
   "cell_type": "code",
   "execution_count": 269,
   "metadata": {
    "collapsed": false
   },
   "outputs": [
    {
     "name": "stdout",
     "output_type": "stream",
     "text": [
      "20\n"
     ]
    },
    {
     "data": {
      "text/plain": [
       "200"
      ]
     },
     "execution_count": 269,
     "metadata": {},
     "output_type": "execute_result"
    }
   ],
   "source": [
    "x = 20\n",
    "func_a(x)"
   ]
  },
  {
   "cell_type": "code",
   "execution_count": 270,
   "metadata": {
    "collapsed": false
   },
   "outputs": [
    {
     "name": "stdout",
     "output_type": "stream",
     "text": [
      "20\n"
     ]
    }
   ],
   "source": [
    "print(x)"
   ]
  },
  {
   "cell_type": "code",
   "execution_count": 271,
   "metadata": {
    "collapsed": true
   },
   "outputs": [],
   "source": [
    "def func_a(x):\n",
    "    x[0] = 0\n",
    "    return x[0]"
   ]
  },
  {
   "cell_type": "code",
   "execution_count": 272,
   "metadata": {
    "collapsed": true
   },
   "outputs": [],
   "source": [
    "a = [1,2,3]"
   ]
  },
  {
   "cell_type": "code",
   "execution_count": 273,
   "metadata": {
    "collapsed": false
   },
   "outputs": [
    {
     "data": {
      "text/plain": [
       "0"
      ]
     },
     "execution_count": 273,
     "metadata": {},
     "output_type": "execute_result"
    }
   ],
   "source": [
    "func_a(a)"
   ]
  },
  {
   "cell_type": "code",
   "execution_count": 274,
   "metadata": {
    "collapsed": false
   },
   "outputs": [
    {
     "data": {
      "text/plain": [
       "[0, 2, 3]"
      ]
     },
     "execution_count": 274,
     "metadata": {},
     "output_type": "execute_result"
    }
   ],
   "source": [
    "a"
   ]
  },
  {
   "cell_type": "code",
   "execution_count": 275,
   "metadata": {
    "collapsed": false
   },
   "outputs": [
    {
     "ename": "TypeError",
     "evalue": "'tuple' object does not support item assignment",
     "output_type": "error",
     "traceback": [
      "\u001b[0;31m---------------------------------------------------------------------------\u001b[0m",
      "\u001b[0;31mTypeError\u001b[0m                                 Traceback (most recent call last)",
      "\u001b[0;32m<ipython-input-275-47c413d6cb70>\u001b[0m in \u001b[0;36m<module>\u001b[0;34m()\u001b[0m\n\u001b[1;32m      1\u001b[0m \u001b[0mb\u001b[0m \u001b[1;33m=\u001b[0m \u001b[1;33m(\u001b[0m\u001b[1;36m1\u001b[0m\u001b[1;33m,\u001b[0m\u001b[1;36m2\u001b[0m\u001b[1;33m,\u001b[0m\u001b[1;36m3\u001b[0m\u001b[1;33m)\u001b[0m\u001b[1;33m\u001b[0m\u001b[0m\n\u001b[0;32m----> 2\u001b[0;31m \u001b[0mfunc_a\u001b[0m\u001b[1;33m(\u001b[0m\u001b[0mb\u001b[0m\u001b[1;33m)\u001b[0m\u001b[1;33m\u001b[0m\u001b[0m\n\u001b[0m",
      "\u001b[0;32m<ipython-input-271-a7d36e510378>\u001b[0m in \u001b[0;36mfunc_a\u001b[0;34m(x)\u001b[0m\n\u001b[1;32m      1\u001b[0m \u001b[1;32mdef\u001b[0m \u001b[0mfunc_a\u001b[0m\u001b[1;33m(\u001b[0m\u001b[0mx\u001b[0m\u001b[1;33m)\u001b[0m\u001b[1;33m:\u001b[0m\u001b[1;33m\u001b[0m\u001b[0m\n\u001b[0;32m----> 2\u001b[0;31m     \u001b[0mx\u001b[0m\u001b[1;33m[\u001b[0m\u001b[1;36m0\u001b[0m\u001b[1;33m]\u001b[0m \u001b[1;33m=\u001b[0m \u001b[1;36m0\u001b[0m\u001b[1;33m\u001b[0m\u001b[0m\n\u001b[0m\u001b[1;32m      3\u001b[0m     \u001b[1;32mreturn\u001b[0m \u001b[0mx\u001b[0m\u001b[1;33m[\u001b[0m\u001b[1;36m0\u001b[0m\u001b[1;33m]\u001b[0m\u001b[1;33m\u001b[0m\u001b[0m\n",
      "\u001b[0;31mTypeError\u001b[0m: 'tuple' object does not support item assignment"
     ]
    }
   ],
   "source": [
    "b = (1,2,3)\n",
    "func_a(b)"
   ]
  },
  {
   "cell_type": "markdown",
   "metadata": {},
   "source": [
    "### numpy array 객체 복사"
   ]
  },
  {
   "cell_type": "code",
   "execution_count": 276,
   "metadata": {
    "collapsed": true
   },
   "outputs": [],
   "source": [
    "a = np.array([1,2,3,4])"
   ]
  },
  {
   "cell_type": "code",
   "execution_count": 277,
   "metadata": {
    "collapsed": false
   },
   "outputs": [
    {
     "name": "stdout",
     "output_type": "stream",
     "text": [
      "True\n"
     ]
    }
   ],
   "source": [
    "b = a\n",
    "print(b is a)"
   ]
  },
  {
   "cell_type": "code",
   "execution_count": 279,
   "metadata": {
    "collapsed": false
   },
   "outputs": [
    {
     "name": "stdout",
     "output_type": "stream",
     "text": [
      "False\n"
     ]
    }
   ],
   "source": [
    "c = a[:]\n",
    "print(c is a)"
   ]
  },
  {
   "cell_type": "code",
   "execution_count": 280,
   "metadata": {
    "collapsed": false
   },
   "outputs": [
    {
     "name": "stdout",
     "output_type": "stream",
     "text": [
      "[111   2   3   4]\n",
      "[111   2   3   4]\n"
     ]
    }
   ],
   "source": [
    "c[0] = 111\n",
    "print(c)\n",
    "print(a) # 중첩리스트 문제이다!! "
   ]
  },
  {
   "cell_type": "code",
   "execution_count": 281,
   "metadata": {
    "collapsed": false
   },
   "outputs": [
    {
     "name": "stdout",
     "output_type": "stream",
     "text": [
      "False\n"
     ]
    }
   ],
   "source": [
    "d = np.array(a)\n",
    "print(d is a)"
   ]
  },
  {
   "cell_type": "code",
   "execution_count": 282,
   "metadata": {
    "collapsed": false
   },
   "outputs": [
    {
     "name": "stdout",
     "output_type": "stream",
     "text": [
      "[111 222   3   4]\n",
      "[111   2   3   4]\n"
     ]
    }
   ],
   "source": [
    "d[1] = 222\n",
    "print(d)\n",
    "print(a)"
   ]
  },
  {
   "cell_type": "markdown",
   "metadata": {},
   "source": [
    "- np.array는 copy 나 np.array로 다시 써줘야 복제가 된다!! "
   ]
  },
  {
   "cell_type": "code",
   "execution_count": 283,
   "metadata": {
    "collapsed": false
   },
   "outputs": [
    {
     "name": "stdout",
     "output_type": "stream",
     "text": [
      "[111   2 333   4]\n",
      "[111   2   3   4]\n"
     ]
    }
   ],
   "source": [
    "e = a.copy()\n",
    "e[2] = 333\n",
    "print(e)\n",
    "print(a)"
   ]
  },
  {
   "cell_type": "markdown",
   "metadata": {},
   "source": [
    "### 하이퍼파라미터\n",
    "- Hyper parameter, 초매개변수\n",
    "    - 학습률과 같은 파라미터\n",
    "    - 가중치, 바이어스와는 다른 성질\n",
    "    - 사람이 직접 설정해야 하는 파라미터\n",
    "    - 여러 후보 값 중에서 시험을 통해 가장 적합한 값을 찾는 과정 필요"
   ]
  },
  {
   "cell_type": "markdown",
   "metadata": {},
   "source": [
    "### 신경망에서의 기울기\n",
    "- 가주치 매개변수에 대한 손실 함수의 기울기\n",
    "<img src=\"picture/Gradient in nn.png\" />\n",
    "\n",
    "- gradient다!! \n",
    "- W 와 𝜕𝐿 / 𝜕𝑾 의 형상이 같다.\n",
    "- ch04/gradient_simplenet.py의 simpleNet 클래스 - 이 파일 봄!!\n",
    "- 손실 함수의 기울기에 대한 의미를 이해하자.\n",
    "\n",
    "- weight를 살짝 조정 했을때, 손실함수의 변화를 보는 것이다!! "
   ]
  },
  {
   "cell_type": "code",
   "execution_count": 288,
   "metadata": {
    "collapsed": true
   },
   "outputs": [],
   "source": [
    "class simpleNet:\n",
    "    def __init__(self):\n",
    "        self.W = np.random.randn(2,3) # 정규분포로 초기화 \n",
    "                                      # self.으로 그 class의 객체로 인식하게 한다!! \n",
    "                                      # weight 값을 랜덤하게 추출해 주네. 조정은 나중에 해주고!! \n",
    "                                      # gradient descent에 의해서!!!\n",
    "\n",
    "    def predict(self, x):\n",
    "        return np.dot(x, self.W) # 행렬곱 해준다!! \n",
    "\n",
    "    def loss(self, x, t):\n",
    "        z = self.predict(x)\n",
    "        y = softmax(z) # 행렬곱 한것을 softmax해서 확률로 산출하고.\n",
    "        loss = cross_entropy_error(y, t) # 예상치와과 정답의 차이로 오류를 구한다!!\n",
    "\n",
    "        return loss"
   ]
  },
  {
   "cell_type": "code",
   "execution_count": null,
   "metadata": {
    "collapsed": true
   },
   "outputs": [],
   "source": [
    "x = np.array([0.6, 0.9])\n",
    "t = np.array([0, 0, 1])\n",
    "\n",
    "# x가 들어오면 t로 산출되면 좋겠다. ex) 1부분만 불 켜지도록!!!\n",
    "\n",
    "net = simpleNet()\n",
    "\n",
    "f = lambda w: net.loss(x, t)\n",
    "dW = numerical_gradient(f, net.W) # 기울기를 구해주지!!\n",
    "# 이 기울기로 손실을 최소화시키는 방향으로 weight를 조정하게 되지!!\n",
    "# net.W는 simpleNet의 self.W이다!! \n",
    "\n",
    "print(dW)\n"
   ]
  },
  {
   "cell_type": "code",
   "execution_count": 290,
   "metadata": {
    "collapsed": false
   },
   "outputs": [
    {
     "name": "stdout",
     "output_type": "stream",
     "text": [
      "[[ 0.06437701  0.42117678 -0.48555379]\n",
      " [ 0.09656552  0.63176516 -0.72833068]]\n"
     ]
    }
   ],
   "source": [
    "import gradient_simplenet"
   ]
  },
  {
   "cell_type": "raw",
   "metadata": {},
   "source": [
    "[[W11 W21 W31]\n",
    " [W21 W22 W32]]"
   ]
  },
  {
   "cell_type": "markdown",
   "metadata": {},
   "source": [
    "### 학습 알고리즘 구현하기\n",
    "- 신경망 학습 절차: **SGD** 사용\n",
    "    - 전제\n",
    "        - 신경망에는 적응 가능한 가중치와 편향(bias)이 있고, 이 가중치와 바이어스를 훈련 데이터에 적응하도록 조정하는 과정을 '학습'이라 한다. 신경망 학습은 다음과 같이 4단계로 수행한다.\n",
    "    - 1단계 - mini batch\n",
    "        - 훈련 데이터 중 일부를 **무작위**로 가져온다.\n",
    "        - 이렇게 선별된 데이터를 미니 배치라 하며, 이 미니 배치의 손실 함수 값을 줄이는 것이 목표다.\n",
    "    - 2단계 - 기울기 산출\n",
    "        - 미니 배치의 손실 함수 값을 줄이기 위해 각 가중치 매개변수(Weight)의 기울기를 구한다. \n",
    "        - 기울기는 손실 함수의 값을 가장 작게 하는 방향을 제시한다.\n",
    "    - 3단계 - 매개변수(Weight) 갱신\n",
    "        - 가중치 매개변수를 기울기 방향으로 아주 조금 갱신한다.\n",
    "    - 4단계 \n",
    "        - 1~3 단계 반복"
   ]
  },
  {
   "cell_type": "markdown",
   "metadata": {},
   "source": [
    "- 2층 신경망에 대해 MNIST 데이터셋을 학습하도록 구현\n",
    "    - 2층 신경망 클래스 구현하기\n",
    "        - ch04/two_layer_net.py 코드 참조\n",
    "    - 미니 배치 학습 구현하기\n",
    "        - ch04/train_neuralnet.py 코드 참조\n",
    "        - 매번 60,000개의 훈련 데이터에서 임의로 100개의 데이터를 추려냄\n",
    "        - 100개의 데이터에 대해 SGD를 수핸하여 매개변수 갱싱"
   ]
  },
  {
   "cell_type": "markdown",
   "metadata": {},
   "source": [
    "- 2층 신경망에 대해 MNIST 데이터셋을 학습하도록 구현\n",
    "    - 시험 데이터로 평가하기\n",
    "        - 훈련 데이터의 손실 함수 값이 작아진다.  학습이 잘 되고 있다\n",
    "        - 오버피팅 여부 확인\n",
    "        - 에폭(epoch)별로 훈련 데이터와 시험 데이터에 대한 정확도 기록\n",
    "            - 1 epoch: 학습 데이터를 전부 소진했을 때의 학습 데이터 수"
   ]
  },
  {
   "cell_type": "code",
   "execution_count": null,
   "metadata": {
    "collapsed": true
   },
   "outputs": [],
   "source": [
    "# coding: utf-8\n",
    "import sys, os\n",
    "sys.path.append(os.pardir)  # 부모 디렉터리의 파일을 가져올 수 있도록 설정\n",
    "import numpy as np\n",
    "import matplotlib.pyplot as plt\n",
    "from dataset.mnist import load_mnist\n",
    "from two_layer_net import TwoLayerNet\n",
    "\n",
    "# 데이터 읽기\n",
    "(x_train, t_train), (x_test, t_test) = load_mnist(normalize=True, one_hot_label=True)\n",
    "\n",
    "network = TwoLayerNet(input_size=784, hidden_size=50, output_size=10) # input output 정해져 있다!! \n",
    "\n",
    "# 하이퍼파라미터\n",
    "iters_num = 10000  # 반복 횟수를 적절히 설정한다. # 학습횟수이다!!!\n",
    "train_size = x_train.shape[0]\n",
    "batch_size = 100   # 미니배치 크기\n",
    "learning_rate = 0.1\n",
    "\n",
    "# 변수 초기화!! \n",
    "train_loss_list = []\n",
    "train_acc_list = []\n",
    "test_acc_list = []\n",
    "\n",
    "# 1 epoch 당 반복 수\n",
    "iter_per_epoch = max(train_size / batch_size, 1)\n",
    "# epoch은 한번에 학습이 끝나는 그 시간을 의미한다!! \n",
    "# 위 10000 반복이니 epoch를 10000번 하겠다는 거다!!\n",
    "\n",
    "for i in range(iters_num):\n",
    "    # 미니배치 획득\n",
    "    batch_mask = np.random.choice(train_size, batch_size)\n",
    "    x_batch = x_train[batch_mask]\n",
    "    t_batch = t_train[batch_mask]\n",
    "    \n",
    "    # 기울기 계산\n",
    "    grad = network.numerical_gradient(x_batch, t_batch)\n",
    "#     grad = network.gradient(x_batch, t_batch)\n",
    "    \n",
    "    # 매개변수 갱신\n",
    "    for key in ('W1', 'b1', 'W2', 'b2'):\n",
    "        network.params[key] -= learning_rate * grad[key]\n",
    "    \n",
    "    # 학습 경과 기록\n",
    "    loss = network.loss(x_batch, t_batch)\n",
    "    train_loss_list.append(loss)\n",
    "    \n",
    "    # 1에폭당 정확도 계산\n",
    "    if i % iter_per_epoch == 0:\n",
    "        train_acc = network.accuracy(x_train, t_train)\n",
    "        test_acc = network.accuracy(x_test, t_test)\n",
    "        # train, test 모두 정확도 계산함!! \n",
    "        train_acc_list.append(train_acc)\n",
    "        test_acc_list.append(test_acc)\n",
    "        print(\"train acc, test acc | \" + str(train_acc) + \", \" + str(test_acc))\n",
    "\n",
    "# 그래프 그리기\n",
    "markers = {'train': 'o', 'test': 's'}\n",
    "x = np.arange(len(train_acc_list))\n",
    "plt.plot(x, train_acc_list, label='train acc')\n",
    "plt.plot(x, test_acc_list, label='test acc', linestyle='--')\n",
    "plt.xlabel(\"epochs\")\n",
    "plt.ylabel(\"accuracy\")\n",
    "plt.ylim(0, 1.0)\n",
    "plt.legend(loc='lower right')\n",
    "plt.show()\n"
   ]
  },
  {
   "cell_type": "code",
   "execution_count": 294,
   "metadata": {
    "collapsed": false
   },
   "outputs": [
    {
     "name": "stdout",
     "output_type": "stream",
     "text": [
      "train acc, test acc | 0.0975166666667, 0.0974\n",
      "train acc, test acc | 0.782833333333, 0.7878\n",
      "train acc, test acc | 0.877966666667, 0.8812\n",
      "train acc, test acc | 0.898516666667, 0.9034\n",
      "train acc, test acc | 0.907816666667, 0.9106\n",
      "train acc, test acc | 0.914783333333, 0.9171\n",
      "train acc, test acc | 0.920516666667, 0.922\n",
      "train acc, test acc | 0.9255, 0.9277\n",
      "train acc, test acc | 0.9284, 0.9298\n",
      "train acc, test acc | 0.931366666667, 0.9333\n",
      "train acc, test acc | 0.934883333333, 0.9353\n",
      "train acc, test acc | 0.9374, 0.9362\n",
      "train acc, test acc | 0.939133333333, 0.9392\n",
      "train acc, test acc | 0.941666666667, 0.9412\n",
      "train acc, test acc | 0.943816666667, 0.9428\n",
      "train acc, test acc | 0.946016666667, 0.9448\n",
      "train acc, test acc | 0.946833333333, 0.9457\n"
     ]
    },
    {
     "data": {
      "image/png": "[encoded data removed]",
      "text/plain": [
       "<matplotlib.figure.Figure at 0xac9bb00>"
      ]
     },
     "metadata": {},
     "output_type": "display_data"
    }
   ],
   "source": [
    "import train_neuralnet"
   ]
  },
  {
   "cell_type": "code",
   "execution_count": 296,
   "metadata": {
    "collapsed": false
   },
   "outputs": [
    {
     "data": {
      "text/plain": [
       "<two_layer_net.TwoLayerNet at 0xab1c978>"
      ]
     },
     "execution_count": 296,
     "metadata": {},
     "output_type": "execute_result"
    }
   ],
   "source": [
    "train_neuralnet.network"
   ]
  },
  {
   "cell_type": "code",
   "execution_count": 295,
   "metadata": {
    "collapsed": false
   },
   "outputs": [
    {
     "data": {
      "text/plain": [
       "{'W1': array([[ -5.92255766e-03,   1.29656078e-02,  -4.57447679e-03, ...,\n",
       "           1.33588996e-02,   5.85148545e-03,  -1.01563186e-02],\n",
       "        [  4.55414419e-04,   1.05233556e-02,   7.41450683e-05, ...,\n",
       "           1.45370185e-02,  -2.76233624e-03,  -4.58430305e-03],\n",
       "        [  1.38448170e-02,   4.24884107e-03,   1.27014114e-02, ...,\n",
       "           1.29262473e-03,   2.21344923e-03,  -1.33988118e-02],\n",
       "        ..., \n",
       "        [  1.93151525e-02,  -7.08672526e-04,   2.05893061e-02, ...,\n",
       "           1.32360681e-02,  -1.45125498e-02,   1.94717508e-03],\n",
       "        [ -7.11948538e-04,  -1.57821778e-02,   1.47913044e-02, ...,\n",
       "           3.96758636e-03,   6.48921276e-03,  -2.23502833e-03],\n",
       "        [  2.27131354e-02,   8.98364600e-03,  -3.84051572e-03, ...,\n",
       "          -3.44197859e-03,  -2.02761326e-02,  -2.13575070e-03]]),\n",
       " 'W2': array([[  8.52521085e-01,  -1.27017862e+00,   1.26795745e-01,\n",
       "          -5.93498486e-01,   6.95840013e-02,   4.97715461e-01,\n",
       "           4.85988380e-01,  -5.13899992e-01,  -3.34078401e-01,\n",
       "           6.95874244e-01],\n",
       "        [  9.46225829e-01,  -8.31678953e-01,   7.43281756e-01,\n",
       "           4.65628117e-01,   8.19700836e-02,   7.51011594e-02,\n",
       "           7.55254470e-01,  -4.63501445e-01,  -1.09300386e+00,\n",
       "          -7.28247974e-01],\n",
       "        [ -6.42369998e-01,   6.38905108e-01,   6.65555039e-01,\n",
       "           9.54515992e-01,  -5.32612208e-01,  -1.83844536e-01,\n",
       "          -5.92936433e-01,   3.00967484e-01,   5.37585593e-01,\n",
       "          -1.10402776e+00],\n",
       "        [ -3.80318420e-01,  -3.82863315e-01,  -6.00115036e-01,\n",
       "          -2.90374924e-01,   1.60350302e-01,  -4.18032638e-01,\n",
       "           4.33591805e-01,   1.38876074e+00,  -9.97621960e-01,\n",
       "           1.03040822e+00],\n",
       "        [ -9.96507632e-01,   6.31071518e-01,  -9.86545682e-01,\n",
       "          -1.32257964e+00,   9.04700280e-01,  -2.45525380e-02,\n",
       "           6.98172869e-01,  -1.30206732e+00,   1.52941382e+00,\n",
       "           8.90285199e-01],\n",
       "        [  7.97029066e-01,  -1.10013770e+00,  -3.27181416e-01,\n",
       "          -1.24266511e+00,   8.00734313e-01,   1.47498780e+00,\n",
       "          -3.35312454e-01,   1.78432926e-01,   5.70964284e-02,\n",
       "          -2.15164977e-01],\n",
       "        [  2.97367067e-01,  -8.97860185e-01,   1.75118570e+00,\n",
       "          -1.27540294e+00,   5.68199465e-01,  -6.13399792e-01,\n",
       "           6.77843610e-01,  -1.14041915e+00,   5.11350808e-01,\n",
       "           1.07742589e-01],\n",
       "        [  6.12260091e-01,  -5.79214372e-01,   6.90089007e-01,\n",
       "          -5.00288178e-01,   1.38976738e+00,   2.27619506e-01,\n",
       "           7.70757752e-01,  -7.29313720e-01,  -9.79447571e-01,\n",
       "          -9.66212246e-01],\n",
       "        [ -7.33767845e-01,  -1.36647579e-01,   3.00581477e-01,\n",
       "          -5.46388738e-01,   4.68302943e-01,  -2.67316217e-01,\n",
       "           8.72143681e-01,   1.43294632e+00,  -5.49678083e-01,\n",
       "          -8.32776220e-01],\n",
       "        [  2.70576764e-01,   6.19738662e-01,   2.83755593e-02,\n",
       "           3.56866463e-01,  -1.37153183e+00,  -7.36730220e-01,\n",
       "           8.23231964e-01,  -3.92098986e-01,   2.84156930e-01,\n",
       "           1.11957140e-01],\n",
       "        [ -3.80621527e-01,  -6.13936926e-01,  -1.06333065e+00,\n",
       "          -4.16080942e-01,   8.92906097e-01,  -2.81760227e-01,\n",
       "           1.07510761e+00,  -4.92537816e-01,   2.86141966e-01,\n",
       "           1.06055473e+00],\n",
       "        [ -4.96946701e-01,  -2.46569930e-01,  -2.37488970e-01,\n",
       "          -2.60747792e-03,   1.12933153e+00,  -1.20217219e-01,\n",
       "           6.54955437e-01,   3.63952037e-01,  -1.20702645e+00,\n",
       "           1.78338541e-01],\n",
       "        [  5.50652676e-01,  -1.75788246e-01,  -4.23492538e-02,\n",
       "           1.08941442e-01,  -6.49499375e-01,   4.87196038e-01,\n",
       "          -2.57359181e-01,   2.27064160e-01,   7.83199418e-01,\n",
       "          -1.05671962e+00],\n",
       "        [ -9.46357341e-01,   5.88595734e-01,  -1.03206317e+00,\n",
       "           7.20051521e-01,  -1.28689186e-01,   8.80377030e-01,\n",
       "          -2.58754444e-01,  -9.13166487e-01,   3.49564856e-01,\n",
       "           7.58252276e-01],\n",
       "        [  1.64254571e-01,   2.58965441e-02,  -1.30509954e+00,\n",
       "           3.59540597e-01,   6.88886229e-01,   1.81166157e-02,\n",
       "          -1.45725410e+00,   6.18340161e-01,   3.62677028e-01,\n",
       "           5.21367740e-01],\n",
       "        [ -5.04057183e-01,   3.47535738e-01,   1.17346273e+00,\n",
       "           5.04346685e-01,  -9.67165010e-01,   6.17591113e-01,\n",
       "          -1.33791388e+00,   6.25814827e-02,   4.75023287e-01,\n",
       "          -3.95718724e-01],\n",
       "        [  5.33405645e-01,  -1.00527712e+00,   2.76789058e-01,\n",
       "           1.55309118e-01,  -6.96626852e-01,   2.02626923e-01,\n",
       "           3.00747774e-01,  -4.47402605e-02,   4.43123966e-01,\n",
       "          -1.37580848e-01],\n",
       "        [  4.23999699e-01,  -3.27759183e-01,   1.04749613e+00,\n",
       "           1.49854636e-01,   7.48436313e-02,  -1.44349268e+00,\n",
       "          -1.12617896e+00,   4.31911860e-01,   1.13883742e+00,\n",
       "          -4.48610647e-01],\n",
       "        [ -8.06927981e-01,   6.44548311e-01,   4.56636212e-01,\n",
       "          -1.31670699e+00,   9.14071598e-01,   9.54113832e-02,\n",
       "           1.24914368e+00,  -1.04906029e+00,   7.96308893e-01,\n",
       "          -9.83430503e-01],\n",
       "        [ -7.17256874e-01,  -9.54410476e-02,   2.79105229e-01,\n",
       "          -1.84370584e-01,   8.94567624e-02,  -1.68393222e-01,\n",
       "          -8.56567706e-01,   1.01355827e+00,  -2.89580424e-01,\n",
       "           9.40364121e-01],\n",
       "        [  2.23016282e-01,  -7.83357115e-01,  -1.51252440e-01,\n",
       "          -1.07758824e+00,   9.22790977e-01,  -3.05662026e-01,\n",
       "          -1.04893838e+00,   7.09872439e-01,   6.61696398e-01,\n",
       "           8.59331967e-01],\n",
       "        [  1.10961740e+00,   2.15431382e-01,   8.41823469e-01,\n",
       "          -1.71186086e-01,  -3.57483776e-01,  -2.69353343e-01,\n",
       "           3.10735822e-01,  -4.23233079e-01,  -9.19748813e-01,\n",
       "          -2.89470989e-01],\n",
       "        [ -9.47249391e-01,   5.01893874e-01,  -1.73670780e-03,\n",
       "          -6.44681635e-01,   6.61521628e-01,  -1.67449459e+00,\n",
       "          -9.95853325e-02,   8.31965933e-01,   5.56153770e-01,\n",
       "           7.86152581e-01],\n",
       "        [ -1.51774986e+00,   3.12644245e-01,  -6.03380983e-01,\n",
       "           8.02782462e-01,  -5.33577055e-02,   9.52009723e-01,\n",
       "          -1.02106075e+00,   6.50944078e-01,   4.47444821e-01,\n",
       "           5.47818878e-02],\n",
       "        [ -7.20093269e-01,   7.20291181e-01,   4.66479148e-01,\n",
       "           1.04619680e+00,  -8.14897229e-01,  -4.11354642e-01,\n",
       "           3.15218034e-01,  -2.71156277e-01,  -2.01821306e-02,\n",
       "          -3.38410034e-01],\n",
       "        [ -8.26039115e-01,   8.75797464e-01,   9.18676359e-01,\n",
       "          -9.08057843e-01,  -5.41222050e-01,  -3.50830416e-01,\n",
       "           5.31542052e-01,   9.47122229e-01,  -8.51285662e-01,\n",
       "           1.82477993e-01],\n",
       "        [ -5.58146490e-01,  -8.63667647e-02,  -4.01443691e-01,\n",
       "           6.86030338e-01,   3.60736444e-01,   1.80725815e-01,\n",
       "          -3.61856245e-01,  -6.10660073e-01,   2.96321933e-01,\n",
       "           4.76931489e-01],\n",
       "        [  4.42285608e-01,  -1.09126189e+00,   5.80651817e-01,\n",
       "           4.48514220e-01,   3.07552584e-01,  -6.72394453e-01,\n",
       "           4.61952570e-01,  -1.22134800e+00,   7.32090189e-01,\n",
       "           3.07371818e-02],\n",
       "        [ -5.88628417e-01,   8.56575704e-01,  -3.90837202e-01,\n",
       "          -8.16830915e-01,  -2.62109397e-01,  -2.76365004e-01,\n",
       "           1.13880842e+00,   8.48737753e-01,  -3.61361657e-01,\n",
       "          -1.67447875e-01],\n",
       "        [  5.90690531e-01,   3.98155010e-01,  -3.23474054e-01,\n",
       "           5.13046281e-01,  -6.83510486e-01,   1.49477897e+00,\n",
       "          -5.03382091e-01,   6.74565028e-01,  -1.62430077e+00,\n",
       "          -5.73262488e-01],\n",
       "        [ -3.09585225e-01,   1.90488675e+00,  -2.60573575e-01,\n",
       "          -4.02448733e-01,  -3.25004962e-01,   4.73657787e-01,\n",
       "           1.21833136e-02,  -9.04433435e-02,  -8.08922247e-01,\n",
       "          -1.83119100e-01],\n",
       "        [ -3.17738507e-01,   7.76420283e-02,  -7.98040995e-01,\n",
       "           3.44458524e-01,  -6.97066859e-01,   4.00553853e-01,\n",
       "          -1.12797010e+00,   7.31781738e-01,   3.88997491e-01,\n",
       "           9.85107211e-01],\n",
       "        [ -3.14687091e-01,   5.27291437e-01,   2.12558216e-01,\n",
       "          -1.76686311e-01,   6.38738071e-01,   2.64235457e-01,\n",
       "           7.74174607e-01,  -2.98020843e-01,  -1.08278145e+00,\n",
       "          -5.65324696e-01],\n",
       "        [ -6.54952146e-01,   2.77396057e-01,   5.97713339e-01,\n",
       "           9.40999314e-01,   5.17913398e-01,   1.10953302e-02,\n",
       "          -8.91601141e-01,  -3.01475766e-01,  -3.11755945e-02,\n",
       "          -4.80783485e-01],\n",
       "        [  1.08471914e+00,  -2.39195940e-01,  -2.86808063e-01,\n",
       "          -5.88279873e-01,  -4.64958662e-01,   2.57389600e-02,\n",
       "           2.64518292e-01,   9.76828949e-01,  -5.99038676e-01,\n",
       "          -1.46227139e-01],\n",
       "        [  7.18831383e-01,   1.02270725e+00,  -6.77322521e-01,\n",
       "           2.28182578e-01,  -7.00260333e-01,   1.28403248e+00,\n",
       "           7.49767361e-02,   5.88102373e-01,  -1.61897845e+00,\n",
       "          -9.02931357e-01],\n",
       "        [  7.20253578e-01,  -3.90389906e-01,  -4.34332480e-01,\n",
       "          -6.53878145e-01,  -1.23636190e+00,   6.52542916e-01,\n",
       "          -9.72804236e-01,   8.31797570e-01,  -2.71230217e-01,\n",
       "           1.77476973e+00],\n",
       "        [  5.34975694e-01,  -2.69670855e-01,   6.04687400e-01,\n",
       "           1.44912476e-01,  -1.19686517e+00,   1.76587939e-01,\n",
       "           7.96506704e-01,  -1.00872438e+00,   1.03723990e+00,\n",
       "          -8.23696121e-01],\n",
       "        [ -1.12227088e+00,  -1.01582459e-01,  -3.01664200e-01,\n",
       "           1.60994966e+00,   5.23542675e-01,  -7.19799965e-01,\n",
       "          -8.36670542e-01,   6.33066520e-01,  -3.90754487e-01,\n",
       "           6.98358063e-01],\n",
       "        [  9.61041392e-01,  -5.03853504e-01,  -7.55992373e-01,\n",
       "           7.22829943e-01,  -8.22172747e-01,   1.46875510e+00,\n",
       "          -3.74262523e-01,  -4.58650339e-01,   1.93630226e-01,\n",
       "          -4.69662040e-01],\n",
       "        [  1.00914778e+00,  -3.59755323e-01,   9.74132987e-01,\n",
       "           4.38497046e-01,  -9.26761751e-01,  -6.14898496e-01,\n",
       "          -6.75008261e-01,   7.98489455e-01,  -1.70614667e-01,\n",
       "          -4.43177969e-01],\n",
       "        [  4.82357705e-01,  -5.90304234e-01,   2.57773986e-02,\n",
       "          -4.17742031e-01,   5.85661377e-01,   2.54574041e-02,\n",
       "           8.49680899e-01,   4.16339841e-01,  -7.63834965e-01,\n",
       "          -6.34271708e-01],\n",
       "        [ -6.36156384e-01,   5.75916848e-01,   1.94100804e+00,\n",
       "           1.61039826e+00,  -6.75444292e-01,  -5.59212857e-01,\n",
       "          -8.98783476e-01,   6.48821532e-01,  -1.14072371e+00,\n",
       "          -9.03228367e-01],\n",
       "        [ -6.97212826e-01,   3.67591224e-01,  -4.34596864e-01,\n",
       "          -7.99535571e-01,   6.21012832e-01,   1.81299060e+00,\n",
       "           5.46743348e-02,  -4.31465798e-02,   2.83537956e-01,\n",
       "          -1.10730913e+00],\n",
       "        [ -4.79307609e-01,   1.60118661e+00,   6.97175759e-01,\n",
       "          -9.41307922e-01,  -1.47671670e-01,  -3.94733643e-02,\n",
       "          -8.90915656e-02,   5.52379000e-01,  -8.99947048e-01,\n",
       "          -2.86976319e-01],\n",
       "        [ -8.02942565e-01,   6.71180932e-01,   3.60176673e-02,\n",
       "           6.07382473e-01,  -1.63887873e-01,   4.00149695e-02,\n",
       "           8.11446321e-01,  -1.23729724e-01,  -1.93671361e-01,\n",
       "          -8.82166653e-01],\n",
       "        [ -3.29935268e-01,  -6.24625435e-02,  -1.75043096e-01,\n",
       "           4.39067506e-01,   9.52825459e-01,  -5.29241831e-03,\n",
       "          -4.63737787e-01,   3.47258870e-01,  -1.08705061e+00,\n",
       "           3.86680373e-01],\n",
       "        [ -1.55867842e-01,  -6.80195591e-01,  -1.84173287e-01,\n",
       "           6.04238303e-01,   5.64602227e-01,  -1.71001404e-01,\n",
       "          -1.18424541e+00,   1.41047670e+00,  -1.31711176e+00,\n",
       "           1.09094684e+00],\n",
       "        [ -1.27729454e+00,   3.60006344e-01,   2.51468794e-01,\n",
       "           5.26702747e-01,  -8.37254769e-01,   9.00671857e-01,\n",
       "          -3.36626156e-02,  -1.41491476e+00,   5.22791135e-01,\n",
       "           9.86290274e-01],\n",
       "        [  3.98600935e-01,   7.39407231e-01,  -1.26991555e+00,\n",
       "          -3.19407607e-01,   2.02503083e-01,   6.71123818e-01,\n",
       "           4.38834152e-02,  -1.27097821e+00,   5.33762845e-01,\n",
       "           3.33423367e-01]]),\n",
       " 'b1': array([ 0.06422455,  0.03280388, -0.06712345,  0.089684  ,  0.0414199 ,\n",
       "         0.11107709, -0.21931984, -0.02420602,  0.01084904, -0.00545357,\n",
       "         0.00996368,  0.14440191, -0.02977504, -0.01967298,  0.08954843,\n",
       "        -0.11518812,  0.00107416,  0.00706102, -0.0632422 ,  0.04662311,\n",
       "        -0.08272429, -0.08742045, -0.08268902,  0.15899406, -0.06053853,\n",
       "         0.09002921, -0.16241325, -0.18132224,  0.14414147,  0.22054327,\n",
       "         0.02847928,  0.08218698,  0.11547234, -0.142768  ,  0.06479295,\n",
       "         0.26704154,  0.18870117, -0.08960227, -0.1231536 , -0.04600946,\n",
       "        -0.16313129,  0.05645528, -0.31024486,  0.20970666, -0.04873655,\n",
       "        -0.01142528,  0.04514574,  0.13047643,  0.04974455, -0.01694353]),\n",
       " 'b2': array([ 0.08099848, -0.03518296, -0.08813131, -0.01098056, -0.02641055,\n",
       "         0.01367799,  0.04769679,  0.06080617, -0.15055691,  0.10808286])}"
      ]
     },
     "execution_count": 295,
     "metadata": {},
     "output_type": "execute_result"
    }
   ],
   "source": [
    "train_neuralnet.network.params"
   ]
  },
  {
   "cell_type": "code",
   "execution_count": 297,
   "metadata": {
    "collapsed": false
   },
   "outputs": [
    {
     "data": {
      "text/plain": [
       "array([[ -5.92255766e-03,   1.29656078e-02,  -4.57447679e-03, ...,\n",
       "          1.33588996e-02,   5.85148545e-03,  -1.01563186e-02],\n",
       "       [  4.55414419e-04,   1.05233556e-02,   7.41450683e-05, ...,\n",
       "          1.45370185e-02,  -2.76233624e-03,  -4.58430305e-03],\n",
       "       [  1.38448170e-02,   4.24884107e-03,   1.27014114e-02, ...,\n",
       "          1.29262473e-03,   2.21344923e-03,  -1.33988118e-02],\n",
       "       ..., \n",
       "       [  1.93151525e-02,  -7.08672526e-04,   2.05893061e-02, ...,\n",
       "          1.32360681e-02,  -1.45125498e-02,   1.94717508e-03],\n",
       "       [ -7.11948538e-04,  -1.57821778e-02,   1.47913044e-02, ...,\n",
       "          3.96758636e-03,   6.48921276e-03,  -2.23502833e-03],\n",
       "       [  2.27131354e-02,   8.98364600e-03,  -3.84051572e-03, ...,\n",
       "         -3.44197859e-03,  -2.02761326e-02,  -2.13575070e-03]])"
      ]
     },
     "execution_count": 297,
     "metadata": {},
     "output_type": "execute_result"
    }
   ],
   "source": [
    "train_neuralnet.network.params['W1']"
   ]
  },
  {
   "cell_type": "code",
   "execution_count": 298,
   "metadata": {
    "collapsed": false
   },
   "outputs": [
    {
     "data": {
      "text/plain": [
       "array([[  8.52521085e-01,  -1.27017862e+00,   1.26795745e-01,\n",
       "         -5.93498486e-01,   6.95840013e-02,   4.97715461e-01,\n",
       "          4.85988380e-01,  -5.13899992e-01,  -3.34078401e-01,\n",
       "          6.95874244e-01],\n",
       "       [  9.46225829e-01,  -8.31678953e-01,   7.43281756e-01,\n",
       "          4.65628117e-01,   8.19700836e-02,   7.51011594e-02,\n",
       "          7.55254470e-01,  -4.63501445e-01,  -1.09300386e+00,\n",
       "         -7.28247974e-01],\n",
       "       [ -6.42369998e-01,   6.38905108e-01,   6.65555039e-01,\n",
       "          9.54515992e-01,  -5.32612208e-01,  -1.83844536e-01,\n",
       "         -5.92936433e-01,   3.00967484e-01,   5.37585593e-01,\n",
       "         -1.10402776e+00],\n",
       "       [ -3.80318420e-01,  -3.82863315e-01,  -6.00115036e-01,\n",
       "         -2.90374924e-01,   1.60350302e-01,  -4.18032638e-01,\n",
       "          4.33591805e-01,   1.38876074e+00,  -9.97621960e-01,\n",
       "          1.03040822e+00],\n",
       "       [ -9.96507632e-01,   6.31071518e-01,  -9.86545682e-01,\n",
       "         -1.32257964e+00,   9.04700280e-01,  -2.45525380e-02,\n",
       "          6.98172869e-01,  -1.30206732e+00,   1.52941382e+00,\n",
       "          8.90285199e-01],\n",
       "       [  7.97029066e-01,  -1.10013770e+00,  -3.27181416e-01,\n",
       "         -1.24266511e+00,   8.00734313e-01,   1.47498780e+00,\n",
       "         -3.35312454e-01,   1.78432926e-01,   5.70964284e-02,\n",
       "         -2.15164977e-01],\n",
       "       [  2.97367067e-01,  -8.97860185e-01,   1.75118570e+00,\n",
       "         -1.27540294e+00,   5.68199465e-01,  -6.13399792e-01,\n",
       "          6.77843610e-01,  -1.14041915e+00,   5.11350808e-01,\n",
       "          1.07742589e-01],\n",
       "       [  6.12260091e-01,  -5.79214372e-01,   6.90089007e-01,\n",
       "         -5.00288178e-01,   1.38976738e+00,   2.27619506e-01,\n",
       "          7.70757752e-01,  -7.29313720e-01,  -9.79447571e-01,\n",
       "         -9.66212246e-01],\n",
       "       [ -7.33767845e-01,  -1.36647579e-01,   3.00581477e-01,\n",
       "         -5.46388738e-01,   4.68302943e-01,  -2.67316217e-01,\n",
       "          8.72143681e-01,   1.43294632e+00,  -5.49678083e-01,\n",
       "         -8.32776220e-01],\n",
       "       [  2.70576764e-01,   6.19738662e-01,   2.83755593e-02,\n",
       "          3.56866463e-01,  -1.37153183e+00,  -7.36730220e-01,\n",
       "          8.23231964e-01,  -3.92098986e-01,   2.84156930e-01,\n",
       "          1.11957140e-01],\n",
       "       [ -3.80621527e-01,  -6.13936926e-01,  -1.06333065e+00,\n",
       "         -4.16080942e-01,   8.92906097e-01,  -2.81760227e-01,\n",
       "          1.07510761e+00,  -4.92537816e-01,   2.86141966e-01,\n",
       "          1.06055473e+00],\n",
       "       [ -4.96946701e-01,  -2.46569930e-01,  -2.37488970e-01,\n",
       "         -2.60747792e-03,   1.12933153e+00,  -1.20217219e-01,\n",
       "          6.54955437e-01,   3.63952037e-01,  -1.20702645e+00,\n",
       "          1.78338541e-01],\n",
       "       [  5.50652676e-01,  -1.75788246e-01,  -4.23492538e-02,\n",
       "          1.08941442e-01,  -6.49499375e-01,   4.87196038e-01,\n",
       "         -2.57359181e-01,   2.27064160e-01,   7.83199418e-01,\n",
       "         -1.05671962e+00],\n",
       "       [ -9.46357341e-01,   5.88595734e-01,  -1.03206317e+00,\n",
       "          7.20051521e-01,  -1.28689186e-01,   8.80377030e-01,\n",
       "         -2.58754444e-01,  -9.13166487e-01,   3.49564856e-01,\n",
       "          7.58252276e-01],\n",
       "       [  1.64254571e-01,   2.58965441e-02,  -1.30509954e+00,\n",
       "          3.59540597e-01,   6.88886229e-01,   1.81166157e-02,\n",
       "         -1.45725410e+00,   6.18340161e-01,   3.62677028e-01,\n",
       "          5.21367740e-01],\n",
       "       [ -5.04057183e-01,   3.47535738e-01,   1.17346273e+00,\n",
       "          5.04346685e-01,  -9.67165010e-01,   6.17591113e-01,\n",
       "         -1.33791388e+00,   6.25814827e-02,   4.75023287e-01,\n",
       "         -3.95718724e-01],\n",
       "       [  5.33405645e-01,  -1.00527712e+00,   2.76789058e-01,\n",
       "          1.55309118e-01,  -6.96626852e-01,   2.02626923e-01,\n",
       "          3.00747774e-01,  -4.47402605e-02,   4.43123966e-01,\n",
       "         -1.37580848e-01],\n",
       "       [  4.23999699e-01,  -3.27759183e-01,   1.04749613e+00,\n",
       "          1.49854636e-01,   7.48436313e-02,  -1.44349268e+00,\n",
       "         -1.12617896e+00,   4.31911860e-01,   1.13883742e+00,\n",
       "         -4.48610647e-01],\n",
       "       [ -8.06927981e-01,   6.44548311e-01,   4.56636212e-01,\n",
       "         -1.31670699e+00,   9.14071598e-01,   9.54113832e-02,\n",
       "          1.24914368e+00,  -1.04906029e+00,   7.96308893e-01,\n",
       "         -9.83430503e-01],\n",
       "       [ -7.17256874e-01,  -9.54410476e-02,   2.79105229e-01,\n",
       "         -1.84370584e-01,   8.94567624e-02,  -1.68393222e-01,\n",
       "         -8.56567706e-01,   1.01355827e+00,  -2.89580424e-01,\n",
       "          9.40364121e-01],\n",
       "       [  2.23016282e-01,  -7.83357115e-01,  -1.51252440e-01,\n",
       "         -1.07758824e+00,   9.22790977e-01,  -3.05662026e-01,\n",
       "         -1.04893838e+00,   7.09872439e-01,   6.61696398e-01,\n",
       "          8.59331967e-01],\n",
       "       [  1.10961740e+00,   2.15431382e-01,   8.41823469e-01,\n",
       "         -1.71186086e-01,  -3.57483776e-01,  -2.69353343e-01,\n",
       "          3.10735822e-01,  -4.23233079e-01,  -9.19748813e-01,\n",
       "         -2.89470989e-01],\n",
       "       [ -9.47249391e-01,   5.01893874e-01,  -1.73670780e-03,\n",
       "         -6.44681635e-01,   6.61521628e-01,  -1.67449459e+00,\n",
       "         -9.95853325e-02,   8.31965933e-01,   5.56153770e-01,\n",
       "          7.86152581e-01],\n",
       "       [ -1.51774986e+00,   3.12644245e-01,  -6.03380983e-01,\n",
       "          8.02782462e-01,  -5.33577055e-02,   9.52009723e-01,\n",
       "         -1.02106075e+00,   6.50944078e-01,   4.47444821e-01,\n",
       "          5.47818878e-02],\n",
       "       [ -7.20093269e-01,   7.20291181e-01,   4.66479148e-01,\n",
       "          1.04619680e+00,  -8.14897229e-01,  -4.11354642e-01,\n",
       "          3.15218034e-01,  -2.71156277e-01,  -2.01821306e-02,\n",
       "         -3.38410034e-01],\n",
       "       [ -8.26039115e-01,   8.75797464e-01,   9.18676359e-01,\n",
       "         -9.08057843e-01,  -5.41222050e-01,  -3.50830416e-01,\n",
       "          5.31542052e-01,   9.47122229e-01,  -8.51285662e-01,\n",
       "          1.82477993e-01],\n",
       "       [ -5.58146490e-01,  -8.63667647e-02,  -4.01443691e-01,\n",
       "          6.86030338e-01,   3.60736444e-01,   1.80725815e-01,\n",
       "         -3.61856245e-01,  -6.10660073e-01,   2.96321933e-01,\n",
       "          4.76931489e-01],\n",
       "       [  4.42285608e-01,  -1.09126189e+00,   5.80651817e-01,\n",
       "          4.48514220e-01,   3.07552584e-01,  -6.72394453e-01,\n",
       "          4.61952570e-01,  -1.22134800e+00,   7.32090189e-01,\n",
       "          3.07371818e-02],\n",
       "       [ -5.88628417e-01,   8.56575704e-01,  -3.90837202e-01,\n",
       "         -8.16830915e-01,  -2.62109397e-01,  -2.76365004e-01,\n",
       "          1.13880842e+00,   8.48737753e-01,  -3.61361657e-01,\n",
       "         -1.67447875e-01],\n",
       "       [  5.90690531e-01,   3.98155010e-01,  -3.23474054e-01,\n",
       "          5.13046281e-01,  -6.83510486e-01,   1.49477897e+00,\n",
       "         -5.03382091e-01,   6.74565028e-01,  -1.62430077e+00,\n",
       "         -5.73262488e-01],\n",
       "       [ -3.09585225e-01,   1.90488675e+00,  -2.60573575e-01,\n",
       "         -4.02448733e-01,  -3.25004962e-01,   4.73657787e-01,\n",
       "          1.21833136e-02,  -9.04433435e-02,  -8.08922247e-01,\n",
       "         -1.83119100e-01],\n",
       "       [ -3.17738507e-01,   7.76420283e-02,  -7.98040995e-01,\n",
       "          3.44458524e-01,  -6.97066859e-01,   4.00553853e-01,\n",
       "         -1.12797010e+00,   7.31781738e-01,   3.88997491e-01,\n",
       "          9.85107211e-01],\n",
       "       [ -3.14687091e-01,   5.27291437e-01,   2.12558216e-01,\n",
       "         -1.76686311e-01,   6.38738071e-01,   2.64235457e-01,\n",
       "          7.74174607e-01,  -2.98020843e-01,  -1.08278145e+00,\n",
       "         -5.65324696e-01],\n",
       "       [ -6.54952146e-01,   2.77396057e-01,   5.97713339e-01,\n",
       "          9.40999314e-01,   5.17913398e-01,   1.10953302e-02,\n",
       "         -8.91601141e-01,  -3.01475766e-01,  -3.11755945e-02,\n",
       "         -4.80783485e-01],\n",
       "       [  1.08471914e+00,  -2.39195940e-01,  -2.86808063e-01,\n",
       "         -5.88279873e-01,  -4.64958662e-01,   2.57389600e-02,\n",
       "          2.64518292e-01,   9.76828949e-01,  -5.99038676e-01,\n",
       "         -1.46227139e-01],\n",
       "       [  7.18831383e-01,   1.02270725e+00,  -6.77322521e-01,\n",
       "          2.28182578e-01,  -7.00260333e-01,   1.28403248e+00,\n",
       "          7.49767361e-02,   5.88102373e-01,  -1.61897845e+00,\n",
       "         -9.02931357e-01],\n",
       "       [  7.20253578e-01,  -3.90389906e-01,  -4.34332480e-01,\n",
       "         -6.53878145e-01,  -1.23636190e+00,   6.52542916e-01,\n",
       "         -9.72804236e-01,   8.31797570e-01,  -2.71230217e-01,\n",
       "          1.77476973e+00],\n",
       "       [  5.34975694e-01,  -2.69670855e-01,   6.04687400e-01,\n",
       "          1.44912476e-01,  -1.19686517e+00,   1.76587939e-01,\n",
       "          7.96506704e-01,  -1.00872438e+00,   1.03723990e+00,\n",
       "         -8.23696121e-01],\n",
       "       [ -1.12227088e+00,  -1.01582459e-01,  -3.01664200e-01,\n",
       "          1.60994966e+00,   5.23542675e-01,  -7.19799965e-01,\n",
       "         -8.36670542e-01,   6.33066520e-01,  -3.90754487e-01,\n",
       "          6.98358063e-01],\n",
       "       [  9.61041392e-01,  -5.03853504e-01,  -7.55992373e-01,\n",
       "          7.22829943e-01,  -8.22172747e-01,   1.46875510e+00,\n",
       "         -3.74262523e-01,  -4.58650339e-01,   1.93630226e-01,\n",
       "         -4.69662040e-01],\n",
       "       [  1.00914778e+00,  -3.59755323e-01,   9.74132987e-01,\n",
       "          4.38497046e-01,  -9.26761751e-01,  -6.14898496e-01,\n",
       "         -6.75008261e-01,   7.98489455e-01,  -1.70614667e-01,\n",
       "         -4.43177969e-01],\n",
       "       [  4.82357705e-01,  -5.90304234e-01,   2.57773986e-02,\n",
       "         -4.17742031e-01,   5.85661377e-01,   2.54574041e-02,\n",
       "          8.49680899e-01,   4.16339841e-01,  -7.63834965e-01,\n",
       "         -6.34271708e-01],\n",
       "       [ -6.36156384e-01,   5.75916848e-01,   1.94100804e+00,\n",
       "          1.61039826e+00,  -6.75444292e-01,  -5.59212857e-01,\n",
       "         -8.98783476e-01,   6.48821532e-01,  -1.14072371e+00,\n",
       "         -9.03228367e-01],\n",
       "       [ -6.97212826e-01,   3.67591224e-01,  -4.34596864e-01,\n",
       "         -7.99535571e-01,   6.21012832e-01,   1.81299060e+00,\n",
       "          5.46743348e-02,  -4.31465798e-02,   2.83537956e-01,\n",
       "         -1.10730913e+00],\n",
       "       [ -4.79307609e-01,   1.60118661e+00,   6.97175759e-01,\n",
       "         -9.41307922e-01,  -1.47671670e-01,  -3.94733643e-02,\n",
       "         -8.90915656e-02,   5.52379000e-01,  -8.99947048e-01,\n",
       "         -2.86976319e-01],\n",
       "       [ -8.02942565e-01,   6.71180932e-01,   3.60176673e-02,\n",
       "          6.07382473e-01,  -1.63887873e-01,   4.00149695e-02,\n",
       "          8.11446321e-01,  -1.23729724e-01,  -1.93671361e-01,\n",
       "         -8.82166653e-01],\n",
       "       [ -3.29935268e-01,  -6.24625435e-02,  -1.75043096e-01,\n",
       "          4.39067506e-01,   9.52825459e-01,  -5.29241831e-03,\n",
       "         -4.63737787e-01,   3.47258870e-01,  -1.08705061e+00,\n",
       "          3.86680373e-01],\n",
       "       [ -1.55867842e-01,  -6.80195591e-01,  -1.84173287e-01,\n",
       "          6.04238303e-01,   5.64602227e-01,  -1.71001404e-01,\n",
       "         -1.18424541e+00,   1.41047670e+00,  -1.31711176e+00,\n",
       "          1.09094684e+00],\n",
       "       [ -1.27729454e+00,   3.60006344e-01,   2.51468794e-01,\n",
       "          5.26702747e-01,  -8.37254769e-01,   9.00671857e-01,\n",
       "         -3.36626156e-02,  -1.41491476e+00,   5.22791135e-01,\n",
       "          9.86290274e-01],\n",
       "       [  3.98600935e-01,   7.39407231e-01,  -1.26991555e+00,\n",
       "         -3.19407607e-01,   2.02503083e-01,   6.71123818e-01,\n",
       "          4.38834152e-02,  -1.27097821e+00,   5.33762845e-01,\n",
       "          3.33423367e-01]])"
      ]
     },
     "execution_count": 298,
     "metadata": {},
     "output_type": "execute_result"
    }
   ],
   "source": [
    "train_neuralnet.network.params['W2']"
   ]
  },
  {
   "cell_type": "markdown",
   "metadata": {},
   "source": [
    "- 기계학습에서 사용하는 데이터셋은 훈련 데이터와 시험 데이터로 나눠 사용\n",
    "- 훈련 데이터로 학습한 모델의 범용 능력을 시험 데이터로 평가\n",
    "- 신경망 학습은 손실 함수를 지표로, 손실 함수의 값이 작아지는 방향으\n",
    "로 가중치 매개변수를 갱신\n",
    "- 가중치 매개변수를 갱신할 때는 가중치 매개변수의 기울기를 이용, 기\n",
    "울어진 방향으로 가중치의 값을 갱신하는 작업을 반복\n",
    "- 아주 작은 값을 주었을 때의 차분으로 미분하는 것을 수치 미분이라 함\n",
    "- 수치 미분을 이용해 가중치 매개변수의 기울기를 구할 수 있다.\n",
    "- 수치 미분을 이용한 계산에는 시간이 걸리지만, 그 구현은 간단하다. (다소 복잡한) 오차역전파법은 기울기를 고속으로 구할 수 있다."
   ]
  },
  {
   "cell_type": "code",
   "execution_count": null,
   "metadata": {
    "collapsed": true
   },
   "outputs": [],
   "source": []
  }
 ],
 "metadata": {
  "kernelspec": {
   "display_name": "Python 3",
   "language": "python",
   "name": "python3"
  },
  "language_info": {
   "codemirror_mode": {
    "name": "ipython",
    "version": 3
   },
   "file_extension": ".py",
   "mimetype": "text/x-python",
   "name": "python",
   "nbconvert_exporter": "python",
   "pygments_lexer": "ipython3",
   "version": "3.6.0"
  }
 },
 "nbformat": 4,
 "nbformat_minor": 2
}
