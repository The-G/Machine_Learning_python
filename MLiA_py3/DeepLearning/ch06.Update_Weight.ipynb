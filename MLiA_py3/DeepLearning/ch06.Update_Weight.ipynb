{
 "cells": [
  {
   "cell_type": "markdown",
   "metadata": {},
   "source": [
    "- ch06이 학습 관련 기술들 인데, \n",
    "    - 매개변수 갱신\n",
    "    - 가중치의 초깃값\n",
    "    - 배치 정규화\n",
    "    - 바른 학습을 위해\n",
    "    - 적절한 파라미터 값 찾기\n",
    "    \n",
    "있는데, 그중 **매개변수 갱신**부분만 함, 나머지 차후에 참고하자!!"
   ]
  },
  {
   "cell_type": "markdown",
   "metadata": {},
   "source": [
    "# 매개변수(Weight) 갱신\n",
    "### 신경망 학습\n",
    "    - 손실 함수의 값을 가능한 한 낮추는 매개변수 찾기\n",
    "    - 매개변수의 최적값을 찾는 최적화(optimization) 문제\n",
    "    - 매우 어려운 작업\n",
    "        - 매개변수 공간이 넓고 복잡하므로\n",
    "    - 단서\n",
    "        - 기울기(미분, Gradient)\n",
    "    - SGD (Stochastic Gradient Descent)\n",
    "        - 기울기를 단서로 기울어진 방향으로 매개변수 값을 갱신하는 잎을 여러 번 반복하여 점점 최적값에 다가가는 방법"
   ]
  },
  {
   "cell_type": "markdown",
   "metadata": {},
   "source": [
    "### 확률적 경사 하강법(SGD)\n",
    "\n",
    "\n",
    "$\n",
    "\\begin{equation*}\n",
    "W <- W - n \\cdot \\frac{\\partial L}{\\partial W}\n",
    "\\end{equation*}\n",
    "$"
   ]
  },
  {
   "cell_type": "code",
   "execution_count": null,
   "metadata": {
    "collapsed": true
   },
   "outputs": [],
   "source": [
    "Class SGD: \n",
    "    def __init__(self, lr=0.01): \n",
    "        self.lr = lr \n",
    "    def update(self, params, grads): \n",
    "        for key in params.keys(): \n",
    "            params[key] -= self.lr * grads[key]"
   ]
  },
  {
   "cell_type": "markdown",
   "metadata": {},
   "source": [
    "- 확률적 경사 하강법(SGD)\n",
    "    - 매개변수 갱신용 의사 코드"
   ]
  },
  {
   "cell_type": "raw",
   "metadata": {},
   "source": [
    "network = TwoLayerNet(...) \n",
    "optimizer = SGD() \n",
    "#optimizer = Momentum() \n",
    "#optimizer = AdaGrad() \n",
    "#optimizer = Adam() \n",
    "\n",
    "- 일반적이로 Adam방식이 가장 좋다!!\n",
    "\n",
    "\n",
    "for i in range(epoch): \n",
    "    ... x_batch, t_batch = get_mini_batch(...) # 미니 배치 \n",
    "    grads = network.gradient(x_batch, t_batch) \n",
    "    params = network.params \n",
    "    optimizer.update(params, grads) \n",
    "    ..."
   ]
  },
  {
   "cell_type": "markdown",
   "metadata": {},
   "source": [
    "### SGD의 단점\n",
    "    - 문제에 따라 비효율\n",
    "    - (손실) 함수가 비등방성(anisotropy)인 경우\n",
    "        - 축에 따른 기울기가 다른 경우"
   ]
  },
  {
   "cell_type": "markdown",
   "metadata": {},
   "source": [
    "<img src=\"picture/SGD 단점.png\" />"
   ]
  },
  {
   "cell_type": "markdown",
   "metadata": {},
   "source": [
    "- SGD에 의한 최적화 갱신 경로"
   ]
  },
  {
   "cell_type": "markdown",
   "metadata": {},
   "source": [
    "<img src=\"picture/SGD 단점2.png\" />"
   ]
  },
  {
   "cell_type": "markdown",
   "metadata": {},
   "source": [
    "### 모멘텀(Momentum), \n",
    "\n",
    "$v <- \\alpha \\cdot v - n \\cdot \\frac{\\delta L}{\\delta W} $    \n",
    "- y축쪽 큰 기울기 \n",
    "- x축쪽 작은 기울기 로 반영되네\n",
    "\n",
    "$W <- W + v$   // v: 속도\n",
    "\n",
    "$\\alpha \\cdot v$는 default 값이다. 기본 이동거리!! \n",
    "\n",
    "- 기울기가 0이 되어도 $\\alpha \\cdot v$ 만큼의 속도로 가중치 매개변수(Weight) 공간을 이동\n",
    "\n",
    "<img src=\"picture/momentum.png\" />\n",
    "\n",
    "- common/optimizer.py"
   ]
  },
  {
   "cell_type": "markdown",
   "metadata": {},
   "source": [
    "- 모멘텀에 의한 최적화 갱신 경로\n",
    "<img src=\"picture/momentum2.PNG\" />"
   ]
  },
  {
   "cell_type": "markdown",
   "metadata": {},
   "source": [
    "### AdaGrade\n",
    "- 학습률 감소 (Learning rate decay) 기법\n",
    "    - 학습을 진행하면서 학습률을 점차 줄여가는 방법\n",
    "    \n",
    "- 개별 매개변수에 적응적으로 학습률을 조정하면서 학습을 진행하는 알고리즘\n",
    "    - **개별 매개변수에 적합한 '맞춤형' 학습률을 제공**\n",
    "    \n",
    "<img src=\"picture/AdaGrad.png\" />"
   ]
  },
  {
   "cell_type": "raw",
   "metadata": {},
   "source": [
    "h값이 작으면 weight 조정값이 커진다. 많이 이동\n",
    "⊙은 같은 위치의 값끼리 곱\n",
    "기울기가 클수록 h가 큰값이 된다!! \n",
    "기울기에 따라서 h의 값이 달라서 각 Weight의 변화량이 기울기에 따라 다르게 적용된다!! "
   ]
  },
  {
   "cell_type": "markdown",
   "metadata": {},
   "source": [
    "### AdaGrad\n",
    "- AdaGrade에 의한 최적화 갱신 경로\n",
    "<img src=\"picture/AdaGrad_graph.png\" />"
   ]
  },
  {
   "cell_type": "markdown",
   "metadata": {},
   "source": [
    "### Adam\n",
    "- 모멘텀과 AdaGrad의 장점을 융합\n",
    "- 2015년에 제안된 새로운 방법\n",
    "- Adam에 의한 최적화 갱신 경로\n",
    "<img src=\"picture/Adam_graph.PNG\" />"
   ]
  },
  {
   "cell_type": "markdown",
   "metadata": {},
   "source": [
    "- 어떤 갱신 방법을 이용할 것인가?\n",
    "<img src=\"picture/total_graph.PNG\" />\n",
    "\n",
    "- 문제에 따라서 다르지만, Adam이 가장 최신 가장 많이 사용된다.\n",
    "- 이런 기존의 메커니즘을 공부하는 이유는, 차후 자신이 더 좋게 수정해서 사용할 수 있기 때문에 개념,원리를 보는 것이다. 그냥 가져다 쓰는 것이 아니고!!!"
   ]
  },
  {
   "cell_type": "markdown",
   "metadata": {},
   "source": [
    "### MNIST 데이터셋으로 본 갱신 방법 비교\n",
    "- ch06/optimizer_compare_mnist\n",
    "\n",
    "<img src=\"picture/mnist_optimizer.png\" />"
   ]
  },
  {
   "cell_type": "code",
   "execution_count": null,
   "metadata": {
    "collapsed": true
   },
   "outputs": [],
   "source": [
    "\n",
    "\n",
    "\n"
   ]
  },
  {
   "cell_type": "markdown",
   "metadata": {},
   "source": [
    "### 코드"
   ]
  },
  {
   "cell_type": "code",
   "execution_count": null,
   "metadata": {
    "collapsed": true
   },
   "outputs": [],
   "source": [
    "class AdaGrad:\n",
    "\n",
    "    \"\"\"AdaGrad\"\"\"\n",
    "\n",
    "    def __init__(self, lr=0.01):\n",
    "        self.lr = lr\n",
    "        self.h = None\n",
    "        \n",
    "    def update(self, params, grads):\n",
    "        if self.h is None:\n",
    "            self.h = {}\n",
    "            for key, val in params.items():\n",
    "                self.h[key] = np.zeros_like(val)\n",
    "            \n",
    "        for key in params.keys():\n",
    "            self.h[key] += grads[key] * grads[key]\n",
    "            params[key] -= self.lr * grads[key] / (np.sqrt(self.h[key]) + 1e-7)"
   ]
  },
  {
   "cell_type": "markdown",
   "metadata": {},
   "source": [
    "- AdaGrade 변형 RMSprop 이다!! \n",
    "- h를 구하는 공식이 다르다! "
   ]
  },
  {
   "cell_type": "code",
   "execution_count": 4,
   "metadata": {
    "collapsed": true
   },
   "outputs": [],
   "source": [
    "\n",
    "class RMSprop:\n",
    "\n",
    "    \"\"\"RMSprop\"\"\"\n",
    "\n",
    "    def __init__(self, lr=0.01, decay_rate = 0.99):\n",
    "        self.lr = lr\n",
    "        self.decay_rate = decay_rate\n",
    "        self.h = None\n",
    "        \n",
    "    def update(self, params, grads):\n",
    "        if self.h is None:\n",
    "            self.h = {}\n",
    "            for key, val in params.items():\n",
    "                self.h[key] = np.zeros_like(val)\n",
    "            \n",
    "        for key in params.keys():\n",
    "            self.h[key] *= self.decay_rate\n",
    "            self.h[key] += (1 - self.decay_rate) * grads[key] * grads[key]\n",
    "            params[key] -= self.lr * grads[key] / (np.sqrt(self.h[key]) + 1e-7)"
   ]
  },
  {
   "cell_type": "code",
   "execution_count": null,
   "metadata": {
    "collapsed": true
   },
   "outputs": [],
   "source": []
  },
  {
   "cell_type": "code",
   "execution_count": null,
   "metadata": {
    "collapsed": true
   },
   "outputs": [],
   "source": []
  },
  {
   "cell_type": "code",
   "execution_count": null,
   "metadata": {
    "collapsed": true
   },
   "outputs": [],
   "source": [
    "class Adam:\n",
    "\n",
    "    \"\"\"Adam (http://arxiv.org/abs/1412.6980v8)\"\"\"\n",
    "\n",
    "    def __init__(self, lr=0.001, beta1=0.9, beta2=0.999):\n",
    "        self.lr = lr\n",
    "        self.beta1 = beta1\n",
    "        self.beta2 = beta2\n",
    "        self.iter = 0\n",
    "        self.m = None\n",
    "        self.v = None\n",
    "        \n",
    "    def update(self, params, grads):\n",
    "        if self.m is None:\n",
    "            self.m, self.v = {}, {}\n",
    "            for key, val in params.items():\n",
    "                self.m[key] = np.zeros_like(val)\n",
    "                self.v[key] = np.zeros_like(val)\n",
    "        \n",
    "        self.iter += 1\n",
    "        lr_t  = self.lr * np.sqrt(1.0 - self.beta2**self.iter) / (1.0 - self.beta1**self.iter)         \n",
    "        # learning rate 별도로 계산함!! \n",
    "        \n",
    "        \n",
    "        for key in params.keys():\n",
    "            #self.m[key] = self.beta1*self.m[key] + (1-self.beta1)*grads[key]\n",
    "            #self.v[key] = self.beta2*self.v[key] + (1-self.beta2)*(grads[key]**2)\n",
    "            self.m[key] += (1 - self.beta1) * (grads[key] - self.m[key])\n",
    "            self.v[key] += (1 - self.beta2) * (grads[key]**2 - self.v[key])\n",
    "            \n",
    "            params[key] -= lr_t * self.m[key] / (np.sqrt(self.v[key]) + 1e-7)\n",
    "            \n",
    "            #unbias_m += (1 - self.beta1) * (grads[key] - self.m[key]) # correct bias\n",
    "            #unbisa_b += (1 - self.beta2) * (grads[key]*grads[key] - self.v[key]) # correct bias\n",
    "            #params[key] += self.lr * unbias_m / (np.sqrt(unbisa_b) + 1e-7)"
   ]
  },
  {
   "cell_type": "code",
   "execution_count": null,
   "metadata": {
    "collapsed": true
   },
   "outputs": [],
   "source": [
    "\n"
   ]
  },
  {
   "cell_type": "code",
   "execution_count": 5,
   "metadata": {
    "collapsed": false
   },
   "outputs": [
    {
     "data": {
      "text/plain": [
       "'C:\\\\pydev\\\\Machine_Learning\\\\MLiA_py3\\\\DeepLearning'"
      ]
     },
     "execution_count": 5,
     "metadata": {},
     "output_type": "execute_result"
    }
   ],
   "source": [
    "pwd"
   ]
  },
  {
   "cell_type": "code",
   "execution_count": 6,
   "metadata": {
    "collapsed": false
   },
   "outputs": [
    {
     "name": "stdout",
     "output_type": "stream",
     "text": [
      "C:\\pydev\\Machine_Learning\\MLiA_py3\\DeepLearning\\origin\\ch06\n"
     ]
    }
   ],
   "source": [
    "%cd origin/ch06"
   ]
  },
  {
   "cell_type": "code",
   "execution_count": 7,
   "metadata": {
    "collapsed": false
   },
   "outputs": [
    {
     "data": {
      "text/plain": [
       "'C:\\\\pydev\\\\Machine_Learning\\\\MLiA_py3\\\\DeepLearning\\\\origin\\\\ch06'"
      ]
     },
     "execution_count": 7,
     "metadata": {},
     "output_type": "execute_result"
    }
   ],
   "source": [
    "pwd"
   ]
  },
  {
   "cell_type": "code",
   "execution_count": 8,
   "metadata": {
    "collapsed": false
   },
   "outputs": [
    {
     "data": {
      "image/png": "[encoded data removed]",
      "text/plain": [
       "<matplotlib.figure.Figure at 0x77185f8>"
      ]
     },
     "metadata": {},
     "output_type": "display_data"
    }
   ],
   "source": [
    "import optimizer_compare_naive"
   ]
  },
  {
   "cell_type": "code",
   "execution_count": 9,
   "metadata": {
    "collapsed": false
   },
   "outputs": [
    {
     "name": "stdout",
     "output_type": "stream",
     "text": [
      "===========iteration:0===========\n",
      "SGD:2.37073162763\n",
      "Momentum:2.37435576448\n",
      "AdaGrad:1.88505609232\n",
      "Adam:2.18713394832\n",
      "===========iteration:100===========\n",
      "SGD:1.61039164106\n",
      "Momentum:0.455163397192\n",
      "AdaGrad:0.212356118393\n",
      "Adam:0.376422417695\n",
      "===========iteration:200===========\n",
      "SGD:0.870108317656\n",
      "Momentum:0.258378456024\n",
      "AdaGrad:0.133647809161\n",
      "Adam:0.201505380578\n",
      "===========iteration:300===========\n",
      "SGD:0.40644831892\n",
      "Momentum:0.0995532412495\n",
      "AdaGrad:0.0379206198396\n",
      "Adam:0.0618321108971\n",
      "===========iteration:400===========\n",
      "SGD:0.424574637509\n",
      "Momentum:0.0951679995848\n",
      "AdaGrad:0.0405533651693\n",
      "Adam:0.0592432721184\n",
      "===========iteration:500===========\n",
      "SGD:0.361696214567\n",
      "Momentum:0.22632515579\n",
      "AdaGrad:0.12867726509\n",
      "Adam:0.198257813324\n",
      "===========iteration:600===========\n",
      "SGD:0.33365729824\n",
      "Momentum:0.151195710041\n",
      "AdaGrad:0.0472658197589\n",
      "Adam:0.131313058951\n",
      "===========iteration:700===========\n",
      "SGD:0.302875044205\n",
      "Momentum:0.128307987241\n",
      "AdaGrad:0.069232434089\n",
      "Adam:0.0842407359301\n",
      "===========iteration:800===========\n",
      "SGD:0.236581185241\n",
      "Momentum:0.0906769872261\n",
      "AdaGrad:0.0288416211909\n",
      "Adam:0.0380424903137\n",
      "===========iteration:900===========\n",
      "SGD:0.291052552367\n",
      "Momentum:0.101350737468\n",
      "AdaGrad:0.0468046345748\n",
      "Adam:0.0675160245326\n",
      "===========iteration:1000===========\n",
      "SGD:0.266897125604\n",
      "Momentum:0.107948522605\n",
      "AdaGrad:0.0477367034939\n",
      "Adam:0.0478845900141\n",
      "===========iteration:1100===========\n",
      "SGD:0.347131585532\n",
      "Momentum:0.165514165412\n",
      "AdaGrad:0.137698811326\n",
      "Adam:0.112985335874\n",
      "===========iteration:1200===========\n",
      "SGD:0.192260525145\n",
      "Momentum:0.0551608216682\n",
      "AdaGrad:0.0180707483522\n",
      "Adam:0.0264206344994\n",
      "===========iteration:1300===========\n",
      "SGD:0.212535210501\n",
      "Momentum:0.128014359991\n",
      "AdaGrad:0.069564270415\n",
      "Adam:0.0868447929104\n",
      "===========iteration:1400===========\n",
      "SGD:0.179039222178\n",
      "Momentum:0.0363045350175\n",
      "AdaGrad:0.0285320350823\n",
      "Adam:0.0147580375711\n",
      "===========iteration:1500===========\n",
      "SGD:0.217720469442\n",
      "Momentum:0.09151803887\n",
      "AdaGrad:0.0356327233438\n",
      "Adam:0.0696309280043\n",
      "===========iteration:1600===========\n",
      "SGD:0.176307484514\n",
      "Momentum:0.0677674028541\n",
      "AdaGrad:0.0266432586934\n",
      "Adam:0.0119237723451\n",
      "===========iteration:1700===========\n",
      "SGD:0.196079544431\n",
      "Momentum:0.0511278646226\n",
      "AdaGrad:0.0360909818325\n",
      "Adam:0.0316258434429\n",
      "===========iteration:1800===========\n",
      "SGD:0.140588813527\n",
      "Momentum:0.0373186565431\n",
      "AdaGrad:0.0111261160019\n",
      "Adam:0.0112628539286\n",
      "===========iteration:1900===========\n",
      "SGD:0.223391443025\n",
      "Momentum:0.0623061643424\n",
      "AdaGrad:0.029344757649\n",
      "Adam:0.02520301099\n"
     ]
    },
    {
     "data": {
      "image/png": "[encoded data removed]",
      "text/plain": [
       "<matplotlib.figure.Figure at 0x9e4a8d0>"
      ]
     },
     "metadata": {},
     "output_type": "display_data"
    }
   ],
   "source": [
    "import optimizer_compare_mnist"
   ]
  },
  {
   "cell_type": "code",
   "execution_count": null,
   "metadata": {
    "collapsed": true
   },
   "outputs": [],
   "source": []
  }
 ],
 "metadata": {
  "kernelspec": {
   "display_name": "Python 3",
   "language": "python",
   "name": "python3"
  },
  "language_info": {
   "codemirror_mode": {
    "name": "ipython",
    "version": 3
   },
   "file_extension": ".py",
   "mimetype": "text/x-python",
   "name": "python",
   "nbconvert_exporter": "python",
   "pygments_lexer": "ipython3",
   "version": "3.6.0"
  }
 },
 "nbformat": 4,
 "nbformat_minor": 2
}
