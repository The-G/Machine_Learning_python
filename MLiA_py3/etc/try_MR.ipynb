{
 "cells": [
  {
   "cell_type": "code",
   "execution_count": 2,
   "metadata": {
    "collapsed": false
   },
   "outputs": [
    {
     "data": {
      "text/plain": [
       "'C:\\\\pydev\\\\Machine_Learning\\\\MLiA_py3\\\\etc'"
      ]
     },
     "execution_count": 2,
     "metadata": {},
     "output_type": "execute_result"
    }
   ],
   "source": [
    "%pwd"
   ]
  },
  {
   "cell_type": "code",
   "execution_count": 17,
   "metadata": {
    "collapsed": false
   },
   "outputs": [],
   "source": [
    "import mapper as mp"
   ]
  },
  {
   "cell_type": "code",
   "execution_count": 18,
   "metadata": {
    "collapsed": false
   },
   "outputs": [
    {
     "name": "stdout",
     "output_type": "stream",
     "text": [
      "f\t1\n",
      "o\t1\n",
      "o\t1\n",
      "f\t1\n",
      "o\t1\n",
      "o\t1\n",
      "q\t1\n",
      "u\t1\n",
      "u\t1\n",
      "x\t1\n",
      "l\t1\n",
      "a\t1\n",
      "b\t1\n",
      "s\t1\n",
      "f\t1\n",
      "o\t1\n",
      "o\t1\n",
      "b\t1\n",
      "a\t1\n",
      "r\t1\n",
      "q\t1\n",
      "u\t1\n",
      "u\t1\n",
      "x\t1\n"
     ]
    }
   ],
   "source": [
    "mp.mapper(\"foo foo quux labs foo bar quux\")"
   ]
  },
  {
   "cell_type": "code",
   "execution_count": null,
   "metadata": {
    "collapsed": true
   },
   "outputs": [],
   "source": []
  }
 ],
 "metadata": {
  "kernelspec": {
   "display_name": "Python 3",
   "language": "python",
   "name": "python3"
  },
  "language_info": {
   "codemirror_mode": {
    "name": "ipython",
    "version": 3
   },
   "file_extension": ".py",
   "mimetype": "text/x-python",
   "name": "python",
   "nbconvert_exporter": "python",
   "pygments_lexer": "ipython3",
   "version": "3.6.0"
  }
 },
 "nbformat": 4,
 "nbformat_minor": 2
}
